{
 "cells": [
  {
   "cell_type": "markdown",
   "metadata": {},
   "source": [
    ">All content is released under Creative Commons Attribution [CC-BY 4.0](https://creativecommons.org/licenses/by/4.0/) and all source code is released under a [BSD-3 clause license](https://en.wikipedia.org/wiki/BSD_licenses). \n",
    ">\n",
    ">Please reuse, remix, revise, and reshare this content in any way, keeping this notice.\n",
    ">\n",
    "><img style=\"float: right;\" width=\"150px\" src=\"images/jupyter-logo.png\">**Are you viewing this on jupyter.org?** Then this notebook will be read-only. <br>\n",
    ">See how you can interactively run the code in this notebook by visiting our [instruction page about Notebooks](https://yint.org/notebooks). "
   ]
  },
  {
   "cell_type": "markdown",
   "metadata": {},
   "source": [
    "In this notebook we see how to create histograms, which are just another form of bar plot, except the category axis is now numerical.\n"
   ]
  },
  {
   "cell_type": "code",
   "execution_count": null,
   "metadata": {},
   "outputs": [],
   "source": []
  }
 ],
 "metadata": {
  "kernelspec": {
   "display_name": "Python [conda env:anaconda]",
   "language": "python",
   "name": "conda-env-anaconda-py"
  },
  "language_info": {
   "codemirror_mode": {
    "name": "ipython",
    "version": 3
   },
   "file_extension": ".py",
   "mimetype": "text/x-python",
   "name": "python",
   "nbconvert_exporter": "python",
   "pygments_lexer": "ipython3",
   "version": "3.5.5"
  }
 },
 "nbformat": 4,
 "nbformat_minor": 2
}
