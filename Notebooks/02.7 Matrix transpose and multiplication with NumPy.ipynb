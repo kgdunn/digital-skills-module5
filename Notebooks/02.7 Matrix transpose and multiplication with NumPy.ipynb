{
 "cells": [
  {
   "cell_type": "markdown",
   "metadata": {
    "toc": true
   },
   "source": [
    "<h1>Table of Contents<span class=\"tocSkip\"></span></h1>\n",
    "<div class=\"toc\"><ul class=\"toc-item\"><li><span><a href=\"#Matrix-multiplication\" data-toc-modified-id=\"Matrix-multiplication-1\"><span class=\"toc-item-num\">1&nbsp;&nbsp;</span>Matrix multiplication</a></span></li></ul></div>"
   ]
  },
  {
   "cell_type": "markdown",
   "metadata": {},
   "source": [
    ">All content is released under Creative Commons Attribution [CC-BY 4.0](https://creativecommons.org/licenses/by/4.0/) and all source code is released under a [BSD-3 clause license](https://en.wikipedia.org/wiki/BSD_licenses). \n",
    ">\n",
    ">Please reuse, remix, revise, and reshare this content in any way, keeping this notice.\n",
    ">\n",
    "><img style=\"float: right;\" width=\"150px\" src=\"images/jupyter-logo.png\">**Are you viewing this on jupyter.org?** Then this notebook will be read-only. <br>\n",
    ">See how you can interactively run the code in this notebook by visiting our [instruction page about Notebooks](https://yint.org/notebooks). "
   ]
  },
  {
   "cell_type": "markdown",
   "metadata": {},
   "source": [
    "## TODO \n",
    "* Transpose introduced\n",
    "* what happens if the dimensions do not match\n"
   ]
  },
  {
   "cell_type": "markdown",
   "metadata": {},
   "source": [
    "We saw earlier examples of matrices; they can be considered like spreadsheets containing rows and observations.\n",
    "\n",
    "But the real power of matrices come from some of the calculations we can do with them. We have already seen addition and subtraction in a [prior notebook on elementwise functions](./). In that notebook we also saw elementwise multiplication and division.\n",
    "\n",
    "But there is a special matrix operation, called ***matrix multiplication*** which we will focus on.\n",
    "\n",
    "### Matrix multiplication\n",
    "\n",
    "Let us take a look at an example: we multiply one matrix, called $\\mathbf{A}$ that has 4 rows and 2 columns, with a second matrix, called $\\mathbf{B}$, which contains 2 rows and 3 columns. The result is yet another matrix, we have called it $\\mathbf{X}$, and that result has 4 rows and 3 columns.\n",
    "\n",
    "The value in first row and first column of $\\mathbf{A}$ is given by the variable $a_{1,1}$; the value in row 1 and column 2 is $a_{1,2}$. The entry in row $i$ and column $j$ is therefore given by $a_{i,j}$. We use a similar notation for matrix $\\mathbf{B}$ and $\\mathbf{X}$. \n",
    "\n",
    "<img style=\"float: right;\" width=\"400px\" src=\"images/numpy/Matrix_multiplication_diagram_2.svg.png\">\n",
    "$$\\begin{eqnarray}\\mathbf{A}\\mathbf{B} &=& \\mathbf{X}\\\\\n",
    "\\begin{bmatrix}\n",
    "{a_{1,1}} & {a_{1,2}} \\\\\n",
    "{a_{2,1}} & {a_{2,2}} \\\\\n",
    "{a_{3,1}} & {a_{3,2}} \\\\\n",
    "{a_{4,1}} & {a_{4,2}} \\\\\n",
    "\\end{bmatrix}\n",
    "\\begin{bmatrix}\n",
    "{b_{1,1}} & {b_{1,2}} & {b_{1,3}} \\\\\n",
    "{b_{2,1}} & {b_{2,2}} & {b_{2,3}} \\\\\n",
    "\\end{bmatrix}\n",
    "&=& \\begin{bmatrix}\n",
    "x_{1,1} & x_{1,2} & x_{1,3} \\\\\n",
    "x_{2,1} & x_{2,2} & x_{2,3} \\\\\n",
    "x_{3,1} & x_{3,2} & x_{3,3} \\\\\n",
    "x_{4,1} & x_{4,2} & x_{4,3} \\\\\n",
    "\\end{bmatrix}\\end{eqnarray}\n",
    "$$\n",
    "\n",
    "The values at the intersections marked with circles are:\n",
    "\n",
    "$\\begin{align}\n",
    "x_{1,2} & = {{a_{1,1}}}{{b_{1,2}}} + {{a_{1,2}}}{{b_{2,2}}} \\\\\n",
    "x_{3,3} & = {{a_{3,1}}}{{b_{1,3}}} + {{a_{3,2}}}{{b_{2,3}}}\n",
    "\\end{align}$\n",
    "\n",
    "Notice how the dimensions are consistent: a vector of 1 row and 2 columns $[{{a_{1,1}}} \\,\\,\\, {{a_{1,2}}}]$ is multiplied element-by-element with $[{{b_{1,2}}}\\,\\,\\, {{b_{2,2}}}]$, and then the multiplied values are added. That process is repeated over and over, until all the values in the new matrix $\\mathbf{X}$ is formed.\n",
    "\n",
    "There is also a pattern: the value that goes into row 1 and column 2 of $\\mathbf{X}$ comes from multiplying row 1 of $\\mathbf{A}$ and column 2 of $\\mathbf{B}$. This form of multiplying the vectors element-by-element and then adding up the result is called the ***dot product***. This explains why the function to do matrix multiplication in NumPy is called ``np.dot(...)``.\n",
    "\n",
    "Figure credit: [Wikipedia](https://en.wikipedia.org/wiki/Matrix_multiplication#/media/File:Matrix_multiplication_diagram_2.svg)\n",
    "\n",
    "There is a lot of multiplying and adding happening here; 12 dot products. This is certainly not something you want to do by hand regularly. So ... let's try it with NumPy."
   ]
  },
  {
   "cell_type": "code",
   "execution_count": 23,
   "metadata": {
    "collapsed": false
   },
   "outputs": [
    {
     "name": "stdout",
     "output_type": "stream",
     "text": [
      "The values for matrix A = \n",
      "[[8 7]\n",
      " [6 5]\n",
      " [4 3]\n",
      " [2 1]]\n",
      "The values for matrix B = \n",
      "[[1 2 3]\n",
      " [4 5 6]]\n",
      "The values for matrix X = AB is \n",
      "[[36 51 66]\n",
      " [26 37 48]\n",
      " [16 23 30]\n",
      " [ 6  9 12]]\n",
      "The value in position (2,3) of X comes from row 2 of A [[6 5]] and column 3 of B [[3 6]] which corresponds to 6*3 + 5*6 = 48\n"
     ]
    }
   ],
   "source": [
    "import numpy as np\n",
    "A = np.array([[8, 7], [6, 5], [4, 3], [2, 1]])\n",
    "B = np.array([[1, 2, 3], [4, 5, 6]])\n",
    "\n",
    "print('The values for matrix A = \\n{}'.format(A))\n",
    "print('The values for matrix B = \\n{}'.format(B))\n",
    "\n",
    "X = np.dot(A, B)\n",
    "print('The values for matrix X = AB is \\n{}'.format(X))\n",
    "\n",
    "# The value of X can also be calculated from:\n",
    "X = A.dot(B)\n",
    "\n",
    "print(('The value in position (2,3) of X comes from row 2 '\n",
    "       'of A [{}] and column 3 of B [{}] which corresponds '\n",
    "       'to 6*3 + 5*6 = {}').format(A[1,:], B[:,2], 6*3 + 5*6))"
   ]
  },
  {
   "cell_type": "markdown",
   "metadata": {},
   "source": [
    "# The `@` operator for matrix multiplication\n",
    "\n",
    "Recently ([in 2014](https://www.python.org/dev/peps/pep-0465/)) Python introduced a new operator: `@` specifically defined for matrix multiplication. Depending on if your Python version is up to date, you do not need to write `np.dot(A, B)` anymore, but rather, more compactly: `A @ B` for matrix multiplication."
   ]
  },
  {
   "cell_type": "code",
   "execution_count": 20,
   "metadata": {
    "collapsed": false
   },
   "outputs": [
    {
     "data": {
      "text/plain": [
       "array([[36, 51, 66],\n",
       "       [26, 37, 48],\n",
       "       [16, 23, 30],\n",
       "       [ 6,  9, 12]])"
      ]
     },
     "execution_count": 20,
     "metadata": {},
     "output_type": "execute_result"
    }
   ],
   "source": [
    "# Requires a recent Python version \n",
    "import numpy as np\n",
    "A = np.array([[8, 7], [6, 5], [4, 3], [2, 1]])\n",
    "B = np.array([[1, 2, 3], [4, 5, 6]])\n",
    "\n",
    "print(('Compact matrix multiplication: A@B = \\n{}'').format(A[1,:], B[:,2], 6*3 + 5*6))"
   ]
  }
 ],
 "metadata": {
  "kernelspec": {
   "display_name": "Python 3",
   "language": "python",
   "name": "python3"
  },
  "language_info": {
   "codemirror_mode": {
    "name": "ipython",
    "version": 3
   },
   "file_extension": ".py",
   "mimetype": "text/x-python",
   "name": "python",
   "nbconvert_exporter": "python",
   "pygments_lexer": "ipython3",
   "version": "3.4.3"
  },
  "toc": {
   "base_numbering": 1,
   "nav_menu": {},
   "number_sections": true,
   "sideBar": true,
   "skip_h1_title": true,
   "title_cell": "Table of Contents",
   "title_sidebar": "Contents",
   "toc_cell": true,
   "toc_position": {},
   "toc_section_display": true,
   "toc_window_display": false
  }
 },
 "nbformat": 4,
 "nbformat_minor": 2
}
