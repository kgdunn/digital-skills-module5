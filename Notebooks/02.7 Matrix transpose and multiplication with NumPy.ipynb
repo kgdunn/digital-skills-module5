{
 "cells": [
  {
   "cell_type": "markdown",
   "metadata": {},
   "source": [
    "All content is under Creative Commons Attribution CC-BY 4.0 and all source code is under BSD-3 clause. \n",
    "\n",
    "Please reuse, remix, revise, and reshare this content in any way, keeping this notice! \n",
    "\n",
    "**Viewing this on jupyter.org?** This is then read-only. To learn how to more effectively interact with this notebook, visit our [instruction page about Notebooks](https://yint.org/notebooks)."
   ]
  },
  {
   "cell_type": "markdown",
   "metadata": {},
   "source": [
    "\n",
    "* Transpose introduced\n",
    "* Matrix multiplication with a small example\n",
    "* The `np.dot(...)` and the newer `@` operator to do this\n",
    "* what happens if the dimensions do not match\n"
   ]
  },
  {
   "cell_type": "code",
   "execution_count": null,
   "metadata": {},
   "outputs": [],
   "source": [
    "A @ B"
   ]
  }
 ],
 "metadata": {
  "kernelspec": {
   "display_name": "Python [conda env:anaconda]",
   "language": "python",
   "name": "conda-env-anaconda-py"
  },
  "language_info": {
   "codemirror_mode": {
    "name": "ipython",
    "version": 3
   },
   "file_extension": ".py",
   "mimetype": "text/x-python",
   "name": "python",
   "nbconvert_exporter": "python",
   "pygments_lexer": "ipython3",
   "version": "3.5.5"
  }
 },
 "nbformat": 4,
 "nbformat_minor": 2
}
