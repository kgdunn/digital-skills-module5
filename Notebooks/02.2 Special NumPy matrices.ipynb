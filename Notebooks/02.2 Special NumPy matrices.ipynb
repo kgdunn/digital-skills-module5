{
 "cells": [
  {
   "cell_type": "markdown",
   "metadata": {},
   "source": [
    "All content is under Creative Commons Attribution CC-BY 4.0 and all source code is under BSD-3 clause. Parts of these materials were inspired by https://github.com/engineersCode/EngComp/ (CC-BY 4.0), L.A. Barba, N.C. Clementi\n",
    "\n",
    "Please reuse, remix, revise, and reshare this content in any way, keeping this notice! \n",
    "\n",
    "**Viewing this on jupyter.org?** This is then read-only. To learn how to more effectively interact with this notebook, visit our [instruction page about Notebooks](https://yint.org/notebooks)."
   ]
  },
  {
   "cell_type": "markdown",
   "metadata": {},
   "source": [
    "# Vectors, Matrices and Arrays using NumPy\n",
    "\n",
    "Let's quickly get the definitions out of the way, and start:\n",
    "* **Vector**: a sequence of numbers; very much like a `list` in regular Python: [1, 2, 6, -2, 0].\n",
    "* **Matrix**: a 2-dimensional structure of numbers; a vector is therefore a matrix, where one of the dimensions is equal to 1. You could crudely store a matrix in regular Python using a list of lists, where the main list contains entries which themselves are lists. But while this could store your data, it would not be great for calculations, such as matrix multiplication.\n",
    "* **Array**: an n-dimensional structure of numbers; a general form of a matrix, but with multiple dimensions. \n",
    "\n",
    "For example, a 3-dimensional array here shows data collected in a lab: we are performing the experiment several times (N), in each experiment we have several sensors (K), and we set the sensors to collect data on a regular interval so that we end up with J samples per experiment, per sensor.\n",
    "\n",
    "\n",
    "<img src=\"images/batch-data-layers-into-page-3d-structure.png\" style=\"width: 400px;\"/> \n",
    "\n",
    "Storing the data like this is useful, because now you could perform calculations on all experiments over all time, for all sensors in array X.\n",
    "\n",
    "*For example:* you can calculate the average in the direction of arrow $J$, to reduce the *array* to a *matrix*. That matrix would be the average value of the sensor for the experiments. That reduced matrix would have $N$ rows and $K$ columns.\n",
    "\n",
    "Engineering applications benefit from using *vectors*, or *matrices* or *arrays*: they are sequences of data all of the _same type_. Arrays behave a lot like lists in Python, except for the constraint that all elements have the same type. \n",
    "\n"
   ]
  },
  {
   "cell_type": "markdown",
   "metadata": {},
   "source": [
    "NumPy offers many [ways to create arrays](https://docs.scipy.org/doc/numpy/reference/routines.array-creation.html#routines-array-creation). \n",
    "\n",
    "\n",
    "###  To try:\n",
    "1. Open that link above to see just how many ways there are.\n",
    "2. Test the `numpy.ones()` and `numpy.zeros()` commands: they create arrays full of ones and zeros, respectively. We must tell NumPy how many array elements want. \n",
    "                                          "
   ]
  },
  {
   "cell_type": "code",
   "execution_count": 1,
   "metadata": {},
   "outputs": [
    {
     "data": {
      "text/plain": [
       "array([1., 1., 1., 1., 1.])"
      ]
     },
     "execution_count": 1,
     "metadata": {},
     "output_type": "execute_result"
    }
   ],
   "source": [
    "# To try: change the '5' to some other integer number\n",
    "import numpy as np\n",
    "np.ones(5)"
   ]
  },
  {
   "cell_type": "code",
   "execution_count": 2,
   "metadata": {},
   "outputs": [
    {
     "data": {
      "text/plain": [
       "array([0., 0., 0.])"
      ]
     },
     "execution_count": 2,
     "metadata": {},
     "output_type": "execute_result"
    }
   ],
   "source": [
    "# Create a vector of zeros:\n",
    "np.zeros(3)"
   ]
  },
  {
   "cell_type": "markdown",
   "metadata": {},
   "source": [
    "## Other ways of creating vectors\n",
    "\n",
    "Another useful command: `numpy.arange()` gives an array of evenly spaced values in a defined interval. \n",
    "\n",
    "*Syntax:*\n",
    "\n",
    "`numpy.arange(start, stop, step)`\n",
    "\n",
    "* `start` by default is zero\n",
    "* `stop` is not inclusive, and \n",
    "* the `step` has a default value of 1.\n",
    "\n",
    "Try it out below:\n"
   ]
  },
  {
   "cell_type": "code",
   "execution_count": 3,
   "metadata": {},
   "outputs": [
    {
     "data": {
      "text/plain": [
       "array([0, 1, 2, 3])"
      ]
     },
     "execution_count": 3,
     "metadata": {},
     "output_type": "execute_result"
    }
   ],
   "source": [
    "np.arange(4)\n",
    "\n",
    "# we could have also written, but you will agree that this is unnecesary:\n",
    "np.arange(start=0, stop=4, step=1)"
   ]
  },
  {
   "cell_type": "code",
   "execution_count": 4,
   "metadata": {},
   "outputs": [
    {
     "data": {
      "text/plain": [
       "array([2, 3, 4, 5])"
      ]
     },
     "execution_count": 4,
     "metadata": {},
     "output_type": "execute_result"
    }
   ],
   "source": [
    "np.arange(start=2, stop=6, step=1)\n",
    "np.arange(start=2, stop=6)  # leave `step` unspecified\n",
    "np.arange(2, 6)             # leave the arguments unspecified"
   ]
  },
  {
   "cell_type": "code",
   "execution_count": 5,
   "metadata": {},
   "outputs": [
    {
     "data": {
      "text/plain": [
       "array([2, 4, 6, 8])"
      ]
     },
     "execution_count": 5,
     "metadata": {},
     "output_type": "execute_result"
    }
   ],
   "source": [
    "np.arange(start=2, stop=9, step=2)\n",
    "np.arange(2, 9, 2)"
   ]
  },
  {
   "cell_type": "code",
   "execution_count": 6,
   "metadata": {},
   "outputs": [
    {
     "data": {
      "text/plain": [
       "array([2. , 2.5, 3. , 3.5, 4. , 4.5, 5. , 5.5])"
      ]
     },
     "execution_count": 6,
     "metadata": {},
     "output_type": "execute_result"
    }
   ],
   "source": [
    "np.arange(2, 6, 0.5)"
   ]
  },
  {
   "cell_type": "markdown",
   "metadata": {},
   "source": [
    "`np.linspace()` is similar to `np.arange()`, but uses number of samples instead of a step size. It returns an array with evenly spaced numbers over the specified interval.  \n",
    "\n",
    "*Syntax:*\n",
    "\n",
    "`np.linspace(start, stop, num)`\n",
    "\n",
    "`stop` is included by default (it can be removed, read the docs), and `num` by default is 50. \n",
    "\n",
    "### To try:\n",
    "\n",
    "1. Confirm that you indeed get a vector of 50 entries with the default command.\n",
    "2. Try to get a vector with fewer elements, say 6\n",
    "3. Start from a negative beginning point"
   ]
  },
  {
   "cell_type": "code",
   "execution_count": null,
   "metadata": {},
   "outputs": [],
   "source": [
    "# To try:\n",
    "\n",
    "# Step 1:\n",
    "np.linspace(2.0, 3.0)\n",
    "len(np.linspace(2.0, 3.0))   # confirm the default length is indeed 50\n",
    "\n",
    "# Step 2:\n",
    "np.linspace(start=2.0, stop=3.0, num= ...)\n",
    "np.linspace(2.0, 3.0, ...)     # these lines produce identical results; verify it for yourself\n",
    "\n",
    "# Step 3:\n",
    "np.linspace(-1, 1, 9)"
   ]
  }
 ],
 "metadata": {
  "kernelspec": {
   "display_name": "Python [conda env:anaconda]",
   "language": "python",
   "name": "conda-env-anaconda-py"
  },
  "language_info": {
   "codemirror_mode": {
    "name": "ipython",
    "version": 3
   },
   "file_extension": ".py",
   "mimetype": "text/x-python",
   "name": "python",
   "nbconvert_exporter": "python",
   "pygments_lexer": "ipython3",
   "version": "3.5.5"
  }
 },
 "nbformat": 4,
 "nbformat_minor": 2
}
