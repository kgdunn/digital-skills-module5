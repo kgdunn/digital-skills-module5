{
 "cells": [
  {
   "cell_type": "markdown",
   "metadata": {
    "toc": true
   },
   "source": [
    "<h1>Table of Contents<span class=\"tocSkip\"></span></h1>\n",
    "<div class=\"toc\"><ul class=\"toc-item\"><li><span><a href=\"#Maximum-(or-minimum)-value-over-the-entire-matrix\" data-toc-modified-id=\"Maximum-(or-minimum)-value-over-the-entire-matrix-1\"><span class=\"toc-item-num\">1&nbsp;&nbsp;</span>Maximum (or minimum) value over the entire matrix</a></span></li><li><span><a href=\"#Minimum-(or-maximum)-value-in-every-row/column\" data-toc-modified-id=\"Minimum-(or-maximum)-value-in-every-row/column-2\"><span class=\"toc-item-num\">2&nbsp;&nbsp;</span>Minimum (or maximum) value in every row/column</a></span></li><li><span><a href=\"#The-average-value-of-every-column-or-row\" data-toc-modified-id=\"The-average-value-of-every-column-or-row-3\"><span class=\"toc-item-num\">3&nbsp;&nbsp;</span>The average value of every column or row</a></span></li><li><span><a href=\"#Sort-the-rows,-so-at-the-end-every-column-goes-from-low-to-high\" data-toc-modified-id=\"Sort-the-rows,-so-at-the-end-every-column-goes-from-low-to-high-4\"><span class=\"toc-item-num\">4&nbsp;&nbsp;</span>Sort the rows, so at the end every column goes from low to high</a></span></li><li><span><a href=\"#Calculate-the-(cumulative)-sum-going-across-each-column\" data-toc-modified-id=\"Calculate-the-(cumulative)-sum-going-across-each-column-5\"><span class=\"toc-item-num\">5&nbsp;&nbsp;</span>Calculate the (cumulative) sum going across each column</a></span></li><li><span><a href=\"#Other-functions-that-might-be-of-interest\" data-toc-modified-id=\"Other-functions-that-might-be-of-interest-6\"><span class=\"toc-item-num\">6&nbsp;&nbsp;</span>Other functions that might be of interest</a></span></li></ul></div>"
   ]
  },
  {
   "cell_type": "markdown",
   "metadata": {},
   "source": [
    ">All content is released under Creative Commons Attribution [CC-BY 4.0](https://creativecommons.org/licenses/by/4.0/) and all source code is released under a [BSD-3 clause license](https://en.wikipedia.org/wiki/BSD_licenses). Parts of these materials were inspired by https://github.com/engineersCode/EngComp/ (CC-BY 4.0), L.A. Barba, N.C. Clementi.\n",
    ">\n",
    ">Please reuse, remix, revise, and reshare this content in any way, keeping this notice.\n",
    ">\n",
    "><img style=\"float: right;\" width=\"150px\" src=\"images/jupyter-logo.png\">**Are you viewing this on jupyter.org?** Then this notebook will be read-only. <br>\n",
    ">See how you can interactively run the code in this notebook by visiting our [instruction page about Notebooks](https://yint.org/notebooks). "
   ]
  },
  {
   "cell_type": "markdown",
   "metadata": {},
   "source": [
    "# Functions on the rows or columns of a matrix\n",
    "\n",
    "In the [prior notebook](./) you learned about elementwise operations. In other words, NumPy performed the mathematical calculation on every element (entry) in the array.\n",
    "\n",
    "Sometimes we need calculations the work on every row, or column, of an array. We will cover:\n",
    "1. Find the maximum value in the entire array (over all rows and all columns)\n",
    "2. Calculate the minimum value in every row (give back a column vector that has the minimum value of every row)\n",
    "3. Calculate the average value of every column (give back a row vector that has the average value of every column)\n",
    "4. Sort the rows, so at the end every column goes from low to high\n",
    "5. Show the (cumulative) sum going across each column\n",
    "6. Other functions that might be of interest\n",
    "\n",
    "In this notebook we will talk about matrices, but the operations can be applied to multi-dimensional arrays, with 3, 4, or more dimensions.\n",
    "\n",
    "We also introduce the important term ***``axis``***, which you regularly see in the NumPy documentation."
   ]
  },
  {
   "cell_type": "markdown",
   "metadata": {},
   "source": [
    "## Maximum (or minimum) value over the entire matrix\n",
    "\n",
    "You have just received all the data in your matrix, and now you wish to find the largest, or smallest value.\n"
   ]
  },
  {
   "cell_type": "code",
   "execution_count": 1,
   "metadata": {},
   "outputs": [
    {
     "name": "stdout",
     "output_type": "stream",
     "text": [
      "The matrix is:\n",
      " [[ 7  3 11 12  2]\n",
      " [10 13  8  8  2]\n",
      " [ 3 13  6  2  3]\n",
      " [ 5  3  9  2  6]]\n",
      "The maximum value is 13\n",
      "The minimum value is 2\n"
     ]
    }
   ],
   "source": [
    "import numpy as np\n",
    "rnd = np.array([[ 7, 3, 11, 12, 2], [10, 13, 8, 8, 2], [3, 13, 6, 2, 3], [5, 3, 9, 2, 6]])\n",
    "print('The matrix is:\\n {}'.format(rnd))\n",
    "\n",
    "max_value = np.amax(rnd)\n",
    "print('The maximum value is {}'.format(max_value))\n",
    "\n",
    "min_value = np.amin(rnd)\n",
    "print('The minimum value is {}'.format(min_value))"
   ]
  },
  {
   "cell_type": "markdown",
   "metadata": {},
   "source": [
    "The ``np.amax(...)`` and ``np.amin(...)`` functions will work along the entire array: all dimensions, looking at every element.\n",
    "\n",
    "### Enrichment:\n",
    "\n",
    "The NumPy library will internally unfold, or flatten the array into a single long vector. Take a look at what that looks like when you use the ``.flatten(...)`` method on the array: ``rnd.flatten()``. It works from column to column, down each row:\n",
    "\n",
    "```python\n",
    "print(rnd.flatten())\n",
    "```\n",
    "``[ 7  3 11 12  2 10 13  8  8  2  3 13  6  2  3  5  3  9  2  6]``\n",
    "\n",
    "This is actually how the data is stored internally in the computer's memory.\n",
    "\n",
    "The reason we point this ``.flatten(...)`` function out is because sometimes knowing what the maximum value is is only half the work. The other half is knowing *where* that maximum value is. For that we have the ``np.argmax(...)`` function.\n",
    "\n",
    "Try this code:\n",
    "\n",
    "```python\n",
    "max_position = np.argmax(rnd)\n",
    "print('The maximum value is in position {} of the flattened array'.format(max_position))\n",
    "```\n",
    "\n",
    "Verify that that is actually the case, using the space below:"
   ]
  },
  {
   "cell_type": "code",
   "execution_count": 2,
   "metadata": {},
   "outputs": [],
   "source": [
    "# Copy the above code here and run it.\n",
    "# In which position is the maximum value?\n",
    "# And the minimum value?\n",
    "\n"
   ]
  },
  {
   "cell_type": "markdown",
   "metadata": {},
   "source": [
    "## Minimum (or maximum) value in every row/column\n",
    "\n",
    "Above we found the minimum or maximum in the entire matrix. But what if we wanted that extreme value given per row, or per column?\n",
    "\n",
    "Think of a matrix containing the daily temperatures per city; one city per column, and every row is a day of the year. \n",
    "* What is the max or min temperature for each city (per column)?\n",
    "* What is the max or min temperature each day for all cities (per row)?\n",
    "\n",
    "For this we also use the ``np.amax(matrix, axis=...)`` or ``np.amin(matrix, axis=...)`` function.\n",
    "\n",
    "You must specify, as a second input, along which ***``axis``*** you want that extreme value to be calculated. \n",
    "* Axis 0 is the first axis, along the direction of the rows, going from top to bottom\n",
    "* Axis 1 is the next axis, along the direction of the columns, going from left to right\n",
    "\n",
    "See the code below."
   ]
  },
  {
   "cell_type": "code",
   "execution_count": 3,
   "metadata": {},
   "outputs": [
    {
     "name": "stdout",
     "output_type": "stream",
     "text": [
      "The temperatures are given one column per city, each row is a daily average:\n",
      "[[ 7  9 12 10]\n",
      " [ 1  4  5  2]\n",
      " [-3  1 -2 -3]\n",
      " [-2 -1 -2 -2]\n",
      " [-3 -1 -2 -4]]\n",
      "The maximum value along axis 0 (row-wise, per city for all days) is [ 7  9 12 10]\n",
      "The maximum value along axis 1 (column-wise, per day for all cities) is [12  5  1 -1 -1]\n",
      "The maximum value along axis 1 (column-wise, per day for all cities) is\n",
      "[[12]\n",
      " [ 5]\n",
      " [ 1]\n",
      " [-1]\n",
      " [-1]]\n"
     ]
    }
   ],
   "source": [
    "import numpy as np\n",
    "temps = np.array([[7, 9, 12, 10], [1, 4, 5, 2], [-3, 1, -2, -3], [-2, -1, -2, -2], [-3, -1, -2, -4]])\n",
    "print('The temperatures are given one column per city, each row is a daily average:\\n{}'.format(temps))\n",
    "\n",
    "max_value_0 = np.amax(temps, axis=0)\n",
    "print('The maximum value along axis 0 (row-wise, per city for all days) is {}'.format(max_value_0))\n",
    "\n",
    "max_value_1 = np.amax(temps, axis=1)\n",
    "print('The maximum value along axis 1 (column-wise, per day for all cities) is {}'.format(max_value_1))\n",
    "\n",
    "# Notice the above output is 'flatten' and returned as a row, \n",
    "# instead of a column, as you might hope for. We can use the `keepdims` input though:\n",
    "max_value_1_col = np.amax(temps, axis=1, keepdims=True)\n",
    "print('The maximum value along axis 1 (column-wise, per day for all cities) is\\n{}'.format(max_value_1_col))\n",
    "\n"
   ]
  },
  {
   "cell_type": "markdown",
   "metadata": {},
   "source": [
    "You can visually verify that the maximum values returned are what you expected.\n",
    "\n",
    "Now try it below for the minimum values:"
   ]
  },
  {
   "cell_type": "code",
   "execution_count": 4,
   "metadata": {},
   "outputs": [],
   "source": [
    "# Give the minimum temperature for all cities\n",
    "# Print the minimum temperature for all days for every city\n"
   ]
  },
  {
   "cell_type": "markdown",
   "metadata": {},
   "source": [
    "### Enrichment:\n",
    "\n",
    "Many functions in NumPy take ***``axis``*** as in input argument, including the ``np.argmin(...)`` and ``np.argmax(...)`` functions you saw above. \n",
    "\n",
    "Try this in the code block above:\n",
    "```python\n",
    "max_position_0 = np.argmin(temps, axis=0)\n",
    "print('The minimum temperature for each city occurred in position {} of each column'.format(max_position_0))\n",
    "```\n",
    "\n",
    "What position value is returned if there is more than one entry of the same minimum value (see column 3, for example, which has ``12, 5, -2, -2, -2``)?"
   ]
  },
  {
   "cell_type": "markdown",
   "metadata": {},
   "source": [
    "## The average value of every column or row\n",
    "\n",
    "Just like with the minimum or maximum value in the part above, you can expect to calculate averages per row and per column."
   ]
  },
  {
   "cell_type": "code",
   "execution_count": 5,
   "metadata": {},
   "outputs": [
    {
     "name": "stdout",
     "output_type": "stream",
     "text": [
      "The temperatures are given one column per city, each row is a daily average:\n",
      "[[ 7  9 12 10]\n",
      " [ 1  4  5  2]\n",
      " [-3  1 -2 -3]\n",
      " [-2 -1 -2 -2]\n",
      " [-3 -1 -2 -4]]\n",
      "The average value along axis 0 (row-wise, per city, over all days) is [0.  2.4 2.2 0.6]\n",
      "The average value along axis 1 (column-wise, per day, over all cities) is:\n",
      "[[ 9.5 ]\n",
      " [ 3.  ]\n",
      " [-1.75]\n",
      " [-1.75]\n",
      " [-2.5 ]]\n"
     ]
    }
   ],
   "source": [
    "import numpy as np\n",
    "temps = np.array([[7, 9, 12, 10], [1, 4, 5, 2], [-3, 1, -2, -3], [-2, -1, -2, -2], [-3, -1, -2, -4]])\n",
    "print('The temperatures are given one column per city, each row is a daily average:\\n{}'.format(temps))\n",
    "\n",
    "mean_value_0 = np.mean(temps, axis=0)\n",
    "print('The average value along axis 0 (row-wise, per city, over all days) is {}'.format(mean_value_0))\n",
    "\n",
    "mean_value_1 = np.mean(temps, axis=1, keepdims=True) # <-- notice the extra input\n",
    "print('The average value along axis 1 (column-wise, per day, over all cities) is:\\n{}'.format(mean_value_1))"
   ]
  },
  {
   "cell_type": "markdown",
   "metadata": {},
   "source": [
    "## Sort the rows, so at the end every column goes from low to high\n",
    "\n",
    "Just as you might have been interested in finding the [minimum or maximum](#Minimum-(or-maximum)-value-in-every-row/column) value in every column, you might also be interested in sorting each column.\n",
    "\n",
    "We want to sort every column **independently** of the others. In other words every column will be sorted from low to high by the end. This is in contrast to sorting based on one column, and the other rows follow with.\n",
    "\n",
    "We have seen the ***``axis``*** input several times now, and here we will use it again to indicate which axis we would like to sort in."
   ]
  },
  {
   "cell_type": "code",
   "execution_count": 6,
   "metadata": {},
   "outputs": [
    {
     "name": "stdout",
     "output_type": "stream",
     "text": [
      "The temperatures are given one column per city, each row is a daily average:\n",
      "[[ 7  9 12 10]\n",
      " [ 1  4  5  2]\n",
      " [-3  1 -2 -3]\n",
      " [-2 -1 -2 -2]\n",
      " [-3 -1 -2 -4]]\n",
      "The temperatures sorted in each column (along axis 0): \n",
      "[[-3 -1 -2 -4]\n",
      " [-3 -1 -2 -3]\n",
      " [-2  1 -2 -2]\n",
      " [ 1  4  5  2]\n",
      " [ 7  9 12 10]]\n",
      "The temperatures sorted in each row (along axis 1): \n",
      "[[ 7  9 10 12]\n",
      " [ 1  2  4  5]\n",
      " [-3 -3 -2  1]\n",
      " [-2 -2 -2 -1]\n",
      " [-4 -3 -2 -1]]\n",
      "To be sure, the original data are left unchanged:\n",
      "[[ 7  9 12 10]\n",
      " [ 1  4  5  2]\n",
      " [-3  1 -2 -3]\n",
      " [-2 -1 -2 -2]\n",
      " [-3 -1 -2 -4]]\n"
     ]
    }
   ],
   "source": [
    "import numpy as np\n",
    "temps = np.array([[7, 9, 12, 10], [1, 4, 5, 2], [-3, 1, -2, -3], [-2, -1, -2, -2], [-3, -1, -2, -4]])\n",
    "print('The temperatures are given one column per city, each row is a daily average:\\n{}'.format(temps))\n",
    "\n",
    "sorted_columns = np.sort(temps, axis=0)\n",
    "print('The temperatures sorted in each column (along axis 0): \\n{}'.format(sorted_columns))\n",
    "\n",
    "sorted_rows = np.sort(temps, axis=1)\n",
    "print('The temperatures sorted in each row (along axis 1): \\n{}'.format(sorted_rows))\n",
    "\n",
    "print('To be sure, the original data are left unchanged:\\n{}'.format(temps))"
   ]
  },
  {
   "cell_type": "markdown",
   "metadata": {},
   "source": [
    "In the code above we see that the sort takes place and the result is provided in a new matrix, as the output:\n",
    "```python\n",
    "output_array = np.sort(input_array, axis=...)```\n",
    "\n",
    "This is not efficient, especially if the ``input_array`` is really large. It means that a copy of the data is made, using up memory, and computer time; and only then does the sort take place in the copy of the data.\n",
    "\n",
    "It is possible to simply sort the original array. This is called ***in-place sorting***. You will see that terminology in several places in NumPy's documentation: ***in-place***. It means that the original matrix is used, calculated on, and the result is in the same variable as the original matrix.\n",
    "\n",
    "You perform an in-place sort as follows:\n",
    "```python\n",
    "input_array.sort(axis=...)\n",
    "```\n",
    "Dy definition an in-place operation means there is no need to assign the result to another variable as output.\n",
    "\n",
    "Let's see what the implication of in-place sorting is:"
   ]
  },
  {
   "cell_type": "code",
   "execution_count": 7,
   "metadata": {},
   "outputs": [
    {
     "name": "stdout",
     "output_type": "stream",
     "text": [
      "The temperatures are given one column per city, each row is a daily average:\n",
      "[[ 7  9 12 10]\n",
      " [ 1  4  5  2]\n",
      " [-3  1 -2 -3]\n",
      " [-2 -1 -2 -2]\n",
      " [-3 -1 -2 -4]]\n",
      "The sorted values along axis 0: \n",
      "[[-3 -1 -2 -4]\n",
      " [-3 -1 -2 -3]\n",
      " [-2  1 -2 -2]\n",
      " [ 1  4  5  2]\n",
      " [ 7  9 12 10]]\n",
      "Out of curiosity, the value of \"output\" is: None\n"
     ]
    }
   ],
   "source": [
    "import numpy as np\n",
    "temps = np.array([[7, 9, 12, 10], [1, 4, 5, 2], [-3, 1, -2, -3], [-2, -1, -2, -2], [-3, -1, -2, -4]])\n",
    "print('The temperatures are given one column per city, each row is a daily average:\\n{}'.format(temps))\n",
    "\n",
    "# In-place sort. We don't need to use `output=` but let's see what happens.\n",
    "# The in-place sort results is in the original variable \"temps\"\n",
    "output = temps.sort(axis=0)  \n",
    "print('The sorted values along axis 0: \\n{}'.format(temps))\n",
    "print('Out of curiosity, the value of \"output\" is: {}'.format(output))\n",
    "\n",
    "# So you can simply say:\n",
    "temps.sort(axis=0)\n",
    "\n",
    "# and the result will be sorted in the original variable."
   ]
  },
  {
   "cell_type": "markdown",
   "metadata": {},
   "source": [
    "### Enrichment\n",
    "\n",
    "1. What if you want to sort the entire array, as if it is were 1 long sequence of numbers? See the sections above for a hint.\n",
    "2. The above codes have all sorted from lowest values to highest. How can you sort from largest to smallest? Try this:\n",
    "```python\n",
    "np.sort(input_array)[::-1]```"
   ]
  },
  {
   "cell_type": "markdown",
   "metadata": {},
   "source": [
    "## Calculate the (cumulative) sum going across each column"
   ]
  },
  {
   "cell_type": "markdown",
   "metadata": {},
   "source": [
    "If the values in the rows or columns represent some property, such as weight in a container, then it might be interesting to calculate the cumulative value. \n",
    "\n",
    "The values in column 2, 3, 4 and 5 represent the weight (kilograms), added to 4 containers. Each row represents 1 minute. The first column is a counter. \n",
    "\n",
    "**The goal**: Find the point in time when the weight in the container just exceeds 100kg. You will see why we have a counter as column 1."
   ]
  },
  {
   "cell_type": "code",
   "execution_count": 8,
   "metadata": {},
   "outputs": [
    {
     "name": "stdout",
     "output_type": "stream",
     "text": [
      "The weight added to the 4 containers every minute [ignore the first column]:\n",
      "[[1. 5. 8. 6. 7.]\n",
      " [1. 5. 8. 7. 5.]\n",
      " [1. 6. 8. 4. 4.]\n",
      " [1. 6. 4. 6. 5.]\n",
      " [1. 7. 7. 4. 4.]\n",
      " [1. 4. 8. 4. 7.]\n",
      " [1. 6. 4. 7. 5.]\n",
      " [1. 4. 7. 4. 4.]\n",
      " [1. 7. 5. 8. 4.]\n",
      " [1. 5. 8. 8. 8.]\n",
      " [1. 4. 8. 8. 4.]\n",
      " [1. 7. 5. 4. 5.]\n",
      " [1. 5. 7. 4. 7.]\n",
      " [1. 4. 7. 7. 8.]\n",
      " [1. 4. 5. 5. 8.]\n",
      " [1. 8. 8. 6. 8.]\n",
      " [1. 8. 7. 4. 5.]\n",
      " [1. 4. 7. 7. 8.]\n",
      " [1. 5. 7. 8. 8.]\n",
      " [1. 7. 7. 8. 6.]]\n",
      "The cumulative weight over time is:\n",
      "[[  1.   5.   8.   6.   7.]\n",
      " [  2.  10.  16.  13.  12.]\n",
      " [  3.  16.  24.  17.  16.]\n",
      " [  4.  22.  28.  23.  21.]\n",
      " [  5.  29.  35.  27.  25.]\n",
      " [  6.  33.  43.  31.  32.]\n",
      " [  7.  39.  47.  38.  37.]\n",
      " [  8.  43.  54.  42.  41.]\n",
      " [  9.  50.  59.  50.  45.]\n",
      " [ 10.  55.  67.  58.  53.]\n",
      " [ 11.  59.  75.  66.  57.]\n",
      " [ 12.  66.  80.  70.  62.]\n",
      " [ 13.  71.  87.  74.  69.]\n",
      " [ 14.  75.  94.  81.  77.]\n",
      " [ 15.  79.  99.  86.  85.]\n",
      " [ 16.  87. 107.  92.  93.]\n",
      " [ 17.  95. 114.  96.  98.]\n",
      " [ 18.  99. 121. 103. 106.]\n",
      " [ 19. 104. 128. 111. 114.]\n",
      " [ 20. 111. 135. 119. 120.]]\n",
      "At which minute in time does the container weight exceed 100kg?\n"
     ]
    }
   ],
   "source": [
    "import numpy as np\n",
    "n = 20\n",
    "k = 4\n",
    "\n",
    "counter = np.ones(shape=(n, 1)) \n",
    "weights = np.random.randint(low=4, high=9, size=(n, 4))\n",
    "weight_matrix = np.hstack((counter, weights))\n",
    "\n",
    "print('The weight added to the {0} containers every minute [ignore the first column]:\\n{1}'.format(k, weight_matrix))\n",
    "\n",
    "accumulation = np.cumsum(weight_matrix, axis=0)\n",
    "print('The cumulative weight over time is:\\n{}'.format(accumulation))\n",
    "print('At which minute in time does the container weight exceed 100kg?')"
   ]
  },
  {
   "cell_type": "markdown",
   "metadata": {},
   "source": [
    "## Other functions that might be of interest\n",
    "\n",
    "Investigate these functions as enrichment:\n",
    "1. The 'distance' from the maximum to the minimum value, also called the range, or 'peak to peak': ``np.ptp(..., axis=...)``\n",
    "2. The standard deviation (ignore this if you do not know yet what the standard deviation is): ``np.std(..., axis=...)``\n",
    "3. The cumulative product, similar to the cumulative sum, except for multiplication: ``np.cumprod(..., axis=...)``\n",
    "4. The difference, from row to row: ``np.diff(..., axis=...)``\n",
    "5. Randomly shuffle the values around in the array: ``np.random.shuffle(...)``. Will only shuffle in the first dimension of the array (within the row direction, the axis=0 direction)."
   ]
  },
  {
   "cell_type": "code",
   "execution_count": 9,
   "metadata": {},
   "outputs": [
    {
     "name": "stdout",
     "output_type": "stream",
     "text": [
      "The temperatures are given one column per city, each row is a daily average:\n",
      "[[ 7  9 12 10]\n",
      " [ 1  4  5  2]\n",
      " [-3  1 -2 -3]\n",
      " [-2 -1 -2 -2]\n",
      " [-3 -1 -2 -4]]\n",
      "The range, from maximum to minimum, for every city is [10 10 14 14] degrees.\n",
      "The standard deviation for each city is [3.79473319 3.77359245 5.6        5.12249939] degrees\n",
      "The cumulative product of the temperature values is:\n",
      "[[   7    9   12   10]\n",
      " [   7   36   60   20]\n",
      " [ -21   36 -120  -60]\n",
      " [  42  -36  240  120]\n",
      " [-126   36 -480 -480]]\n",
      "The difference from one day to the next of the temperatures is:\n",
      "[[-6 -5 -7 -8]\n",
      " [-4 -3 -7 -5]\n",
      " [ 1 -2  0  1]\n",
      " [-1  0  0 -2]]\n",
      "The values, shuffled from row-to-row, are shuffled in-place:\n",
      "[[-3 -1 -2 -4]\n",
      " [-3  1 -2 -3]\n",
      " [-2 -1 -2 -2]\n",
      " [ 7  9 12 10]\n",
      " [ 1  4  5  2]]\n"
     ]
    }
   ],
   "source": [
    "import numpy as np\n",
    "temps = np.array([[7, 9, 12, 10], [1, 4, 5, 2], [-3, 1, -2, -3], [-2, -1, -2, -2], [-3, -1, -2, -4]])\n",
    "print('The temperatures are given one column per city, each row is a daily average:\\n{}'.format(temps))\n",
    "\n",
    "print('The range, from maximum to minimum, for every city is {} degrees.'.format(np.ptp(temps, axis=0)))\n",
    "\n",
    "print('The standard deviation for each city is {} degrees'.format(np.std(temps, axis=0)))\n",
    "\n",
    "print('The cumulative product of the temperature values is:\\n{}'.format(np.cumprod(temps, axis=0)))\n",
    "\n",
    "# Notice that the output has one fewer row than the input\n",
    "print('The difference from one day to the next of the temperatures is:\\n{}'.format(np.diff(temps, axis=0)))\n",
    "\n",
    "np.random.shuffle(temps)\n",
    "print('The values, shuffled from row-to-row, are shuffled in-place:\\n{}'.format(temps))"
   ]
  }
 ],
 "metadata": {
  "kernelspec": {
   "display_name": "Python [conda env:anaconda]",
   "language": "python",
   "name": "conda-env-anaconda-py"
  },
  "language_info": {
   "codemirror_mode": {
    "name": "ipython",
    "version": 3
   },
   "file_extension": ".py",
   "mimetype": "text/x-python",
   "name": "python",
   "nbconvert_exporter": "python",
   "pygments_lexer": "ipython3",
   "version": "3.5.5"
  },
  "toc": {
   "base_numbering": 1,
   "nav_menu": {},
   "number_sections": true,
   "sideBar": true,
   "skip_h1_title": true,
   "title_cell": "Table of Contents",
   "title_sidebar": "Contents",
   "toc_cell": true,
   "toc_position": {},
   "toc_section_display": true,
   "toc_window_display": false
  }
 },
 "nbformat": 4,
 "nbformat_minor": 2
}
