{
 "cells": [
  {
   "cell_type": "markdown",
   "metadata": {},
   "source": [
    ">All content is released under Creative Commons Attribution [CC-BY 4.0](https://creativecommons.org/licenses/by/4.0/) and all source code is released under a [BSD-3 clause license](https://en.wikipedia.org/wiki/BSD_licenses). Parts of these materials were inspired by https://github.com/engineersCode/EngComp/ (CC-BY 4.0), L.A. Barba, N.C. Clementi.\n",
    ">\n",
    ">Please reuse, remix, revise, and reshare this content in any way, keeping this notice.\n",
    ">\n",
    "><img style=\"float: right;\" width=\"150px\" src=\"images/jupyter-logo.png\">**Are you viewing this on jupyter.org?** Then this notebook will be read-only. <br>\n",
    ">See how you can interactively run the code in this notebook by visiting our [instruction page about Notebooks](https://yint.org/notebooks). "
   ]
  },
  {
   "cell_type": "markdown",
   "metadata": {},
   "source": [
    "# Functions on the rows or columns of a matrix\n",
    "\n",
    "In the [prior notebook](./) you learned about elementwise operations. In other words, NumPy performed the mathematicl calculation on every element (entry) in the array.\n",
    "\n",
    "Sometimes we need calculations the work on every row, or column, of an array. For example:\n",
    "1. find the maximum value in the entire array (over all rows and all columns)\n",
    "2. calculate the minimum value in every row (give back a column vector that has the minimum value of every row)\n",
    "3. calculate the average value of every column (give back a row vector that has the average value of every column)\n",
    "4. sort the rows, so at the end every column goes from low to high\n",
    "5. give the cumulative sum going down each column\n",
    "\n",
    "In this notebook we will talk about matrices, but the operations can be applied to multi-dimensional arrays, with 3, 4, or more dimentions."
   ]
  },
  {
   "cell_type": "markdown",
   "metadata": {},
   "source": [
    "## 1. Maximum or minimum value over the entire matrix\n",
    "\n",
    "You have just received all the data in your matrix, and now you wish to find the largest, or smallest value.\n"
   ]
  },
  {
   "cell_type": "code",
   "execution_count": 22,
   "metadata": {},
   "outputs": [
    {
     "name": "stdout",
     "output_type": "stream",
     "text": [
      "The matrix is:\n",
      " [[ 7  3 11 12  2]\n",
      " [10 13  8  8  2]\n",
      " [ 3 13  6  2  3]\n",
      " [ 5  3  9  2  6]]\n",
      "The maximum value is 13\n",
      "The minimum value is 2\n"
     ]
    }
   ],
   "source": [
    "import numpy as np\n",
    "rnd = np.array([[ 7, 3, 11, 12, 2], [10, 13, 8, 8, 2], [3, 13, 6, 2, 3], [5, 3, 9, 2, 6]])\n",
    "print('The matrix is:\\n {}'.format(rnd))\n",
    "\n",
    "max_value = np.amax(rnd)\n",
    "print('The maximum value is {}'.format(max_value))\n",
    "\n",
    "min_value = np.amin(rnd)\n",
    "print('The minimum value is {}'.format(min_value))"
   ]
  },
  {
   "cell_type": "markdown",
   "metadata": {},
   "source": [
    "The ``np.amax(...)`` and ``np.amin(...)`` functions will work along the entire array: all dimensions, looking at every element.\n",
    "\n",
    "### Enrichment:\n",
    "\n",
    "The NumPy library will internally unfold, or flatten the array into a single long vector. Take a look at what that looks like when you use the ``.flatten(...)`` method on the array: ``rnd.flatten()``. It works from column to column, down each row:\n",
    "\n",
    "```python\n",
    "print(rnd.flatten())\n",
    "```\n",
    "``[ 7  3 11 12  2 10 13  8  8  2  3 13  6  2  3  5  3  9  2  6]``\n",
    "\n",
    "This is actually how the data is stored internally in the computer's memory.\n",
    "\n",
    "The reason we point this ``.flatten(...)`` function out is because sometimes knowing what the maximum value is is only half the work. The other half is knowing *where* that maximum value is. For that we have the ``np.argmax(...)`` function.\n",
    "\n",
    "Try this code:\n",
    "\n",
    "```python\n",
    "max_position = np.argmax(rnd)\n",
    "print('The maximum value is in position {} of the flattened array'.format(max_position))\n",
    "```\n",
    "\n",
    "Verify that that is actually the case, using the space below:"
   ]
  },
  {
   "cell_type": "code",
   "execution_count": 28,
   "metadata": {},
   "outputs": [],
   "source": [
    "# Copy the above code here and run it:\n"
   ]
  },
  {
   "cell_type": "markdown",
   "metadata": {},
   "source": [
    "\n",
    "* mean\n",
    "* sort\n",
    "* cumulative sum\n",
    "* max(max(...))\n"
   ]
  }
 ],
 "metadata": {
  "kernelspec": {
   "display_name": "Python [conda env:anaconda]",
   "language": "python",
   "name": "conda-env-anaconda-py"
  },
  "language_info": {
   "codemirror_mode": {
    "name": "ipython",
    "version": 3
   },
   "file_extension": ".py",
   "mimetype": "text/x-python",
   "name": "python",
   "nbconvert_exporter": "python",
   "pygments_lexer": "ipython3",
   "version": "3.5.5"
  }
 },
 "nbformat": 4,
 "nbformat_minor": 2
}
