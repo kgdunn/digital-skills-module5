{
 "cells": [
  {
   "cell_type": "markdown",
   "metadata": {
    "toc": true
   },
   "source": [
    "<h1>Table of Contents<span class=\"tocSkip\"></span></h1>\n",
    "<div class=\"toc\"><ul class=\"toc-item\"><li><span><a href=\"#Maximum-(or-minimum)-value-over-the-entire-matrix\" data-toc-modified-id=\"Maximum-(or-minimum)-value-over-the-entire-matrix-1\"><span class=\"toc-item-num\">1&nbsp;&nbsp;</span>Maximum (or minimum) value over the entire matrix</a></span></li><li><span><a href=\"#Minimum-(or-maximum)-value-in-every-row/column\" data-toc-modified-id=\"Minimum-(or-maximum)-value-in-every-row/column-2\"><span class=\"toc-item-num\">2&nbsp;&nbsp;</span>Minimum (or maximum) value in every row/column</a></span></li><li><span><a href=\"#The-average-value-of-every-column-or-row\" data-toc-modified-id=\"The-average-value-of-every-column-or-row-3\"><span class=\"toc-item-num\">3&nbsp;&nbsp;</span>The average value of every column or row</a></span></li><li><span><a href=\"#Sort-the-rows,-so-at-the-end-every-column-goes-from-low-to-high\" data-toc-modified-id=\"Sort-the-rows,-so-at-the-end-every-column-goes-from-low-to-high-4\"><span class=\"toc-item-num\">4&nbsp;&nbsp;</span>Sort the rows, so at the end every column goes from low to high</a></span></li><li><span><a href=\"#Calculate-the-(cumulative)-sum-going-across-each-column\" data-toc-modified-id=\"Calculate-the-(cumulative)-sum-going-across-each-column-5\"><span class=\"toc-item-num\">5&nbsp;&nbsp;</span>Calculate the (cumulative) sum going across each column</a></span></li></ul></div>"
   ]
  },
  {
   "cell_type": "markdown",
   "metadata": {},
   "source": [
    ">All content is released under Creative Commons Attribution [CC-BY 4.0](https://creativecommons.org/licenses/by/4.0/) and all source code is released under a [BSD-3 clause license](https://en.wikipedia.org/wiki/BSD_licenses). Parts of these materials were inspired by https://github.com/engineersCode/EngComp/ (CC-BY 4.0), L.A. Barba, N.C. Clementi.\n",
    ">\n",
    ">Please reuse, remix, revise, and reshare this content in any way, keeping this notice.\n",
    ">\n",
    "><img style=\"float: right;\" width=\"150px\" src=\"images/jupyter-logo.png\">**Are you viewing this on jupyter.org?** Then this notebook will be read-only. <br>\n",
    ">See how you can interactively run the code in this notebook by visiting our [instruction page about Notebooks](https://yint.org/notebooks). "
   ]
  },
  {
   "cell_type": "markdown",
   "metadata": {},
   "source": [
    "# Functions on the rows or columns of a matrix\n",
    "\n",
    "In the [prior notebook](./) you learned about elementwise operations. In other words, NumPy performed the mathematical calculation on every element (entry) in the array.\n",
    "\n",
    "Sometimes we need calculations the work on every row, or column, of an array. For example:\n",
    "1. Find the maximum value in the entire array (over all rows and all columns)\n",
    "2. Calculate the minimum value in every row (give back a column vector that has the minimum value of every row)\n",
    "3. Calculate the average value of every column (give back a row vector that has the average value of every column)\n",
    "4. Sort the rows, so at the end every column goes from low to high\n",
    "5. Show the (cumulative) sum going across each column\n",
    "\n",
    "In this notebook we will talk about matrices, but the operations can be applied to multi-dimensional arrays, with 3, 4, or more dimentions.\n",
    "\n",
    "We also introduce the important term ***``axis``***, which you regularly see in the NumPy documentation."
   ]
  },
  {
   "cell_type": "markdown",
   "metadata": {},
   "source": [
    "## Maximum (or minimum) value over the entire matrix\n",
    "\n",
    "You have just received all the data in your matrix, and now you wish to find the largest, or smallest value.\n"
   ]
  },
  {
   "cell_type": "code",
   "execution_count": 1,
   "metadata": {},
   "outputs": [
    {
     "name": "stdout",
     "output_type": "stream",
     "text": [
      "The matrix is:\n",
      " [[ 7  3 11 12  2]\n",
      " [10 13  8  8  2]\n",
      " [ 3 13  6  2  3]\n",
      " [ 5  3  9  2  6]]\n",
      "The maximum value is 13\n",
      "The minimum value is 2\n"
     ]
    }
   ],
   "source": [
    "import numpy as np\n",
    "rnd = np.array([[ 7, 3, 11, 12, 2], [10, 13, 8, 8, 2], [3, 13, 6, 2, 3], [5, 3, 9, 2, 6]])\n",
    "print('The matrix is:\\n {}'.format(rnd))\n",
    "\n",
    "max_value = np.amax(rnd)\n",
    "print('The maximum value is {}'.format(max_value))\n",
    "\n",
    "min_value = np.amin(rnd)\n",
    "print('The minimum value is {}'.format(min_value))"
   ]
  },
  {
   "cell_type": "markdown",
   "metadata": {},
   "source": [
    "The ``np.amax(...)`` and ``np.amin(...)`` functions will work along the entire array: all dimensions, looking at every element.\n",
    "\n",
    "### Enrichment:\n",
    "\n",
    "The NumPy library will internally unfold, or flatten the array into a single long vector. Take a look at what that looks like when you use the ``.flatten(...)`` method on the array: ``rnd.flatten()``. It works from column to column, down each row:\n",
    "\n",
    "```python\n",
    "print(rnd.flatten())\n",
    "```\n",
    "``[ 7  3 11 12  2 10 13  8  8  2  3 13  6  2  3  5  3  9  2  6]``\n",
    "\n",
    "This is actually how the data is stored internally in the computer's memory.\n",
    "\n",
    "The reason we point this ``.flatten(...)`` function out is because sometimes knowing what the maximum value is is only half the work. The other half is knowing *where* that maximum value is. For that we have the ``np.argmax(...)`` function.\n",
    "\n",
    "Try this code:\n",
    "\n",
    "```python\n",
    "max_position = np.argmax(rnd)\n",
    "print('The maximum value is in position {} of the flattened array'.format(max_position))\n",
    "```\n",
    "\n",
    "Verify that that is actually the case, using the space below:"
   ]
  },
  {
   "cell_type": "code",
   "execution_count": 2,
   "metadata": {},
   "outputs": [],
   "source": [
    "# Copy the above code here and run it.\n",
    "# In which position is the maximum value?\n",
    "# And the minimum value?\n",
    "\n"
   ]
  },
  {
   "cell_type": "markdown",
   "metadata": {},
   "source": [
    "## Minimum (or maximum) value in every row/column\n",
    "\n",
    "Above we found the minimum or maximum in the entire matrix. But what if we wanted that extreme value given per row, or per column?\n",
    "\n",
    "Think of a matrix containing the daily temperatures per city; one city per column, and every row is a day of the year. \n",
    "* What is the max or min temperature for each city (per column)?\n",
    "* What is the max or min temperature each day for all cities (per row)?\n",
    "\n",
    "For this we also use the ``np.amax(matrix, axis=...)`` or ``np.amin(matrix, axis=...)`` function.\n",
    "\n",
    "You must specify, as a second input, along which ***``axis``*** you want that extreme value to be calculated. \n",
    "* Axis 0 is the first axis, along the direction of the rows, going from top to bottom\n",
    "* Axis 1 is the next axis, along the direction of the columns, going from left to right\n",
    "\n",
    "See the code below."
   ]
  },
  {
   "cell_type": "code",
   "execution_count": 10,
   "metadata": {},
   "outputs": [
    {
     "name": "stdout",
     "output_type": "stream",
     "text": [
      "The temperatures are given one column per city, each row is a daily average:\n",
      " [[ 7  9 12 10]\n",
      " [ 1  4  5  2]\n",
      " [-3  1 -2 -3]\n",
      " [-2 -1 -2 -2]\n",
      " [-3 -1 -2 -4]]\n",
      "The maximum value along axis 0 (row-wise, per city for all days) is [ 7  9 12 10]\n",
      "The maximum value along axis 1 (column-wise, per day for all cities) is [12  5  1 -1 -1]\n",
      "The maximum value along axis 1 (column-wise, per day for all cities) is\n",
      "[[12]\n",
      " [ 5]\n",
      " [ 1]\n",
      " [-1]\n",
      " [-1]]\n"
     ]
    }
   ],
   "source": [
    "import numpy as np\n",
    "temps = np.array([[7, 9, 12, 10], [1, 4, 5, 2], [-3, 1, -2, -3], [-2, -1, -2, -2], [-3, -1, -2, -4]])\n",
    "print('The temperatures are given one column per city, each row is a daily average:\\n {}'.format(temps))\n",
    "\n",
    "max_value_0 = np.amax(temps, axis=0)\n",
    "print('The maximum value along axis 0 (row-wise, per city for all days) is {}'.format(max_value_0))\n",
    "\n",
    "max_value_1 = np.amax(temps, axis=1)\n",
    "print('The maximum value along axis 1 (column-wise, per day for all cities) is {}'.format(max_value_1))\n",
    "\n",
    "# Notice the above output is 'flatten' and returned as a row, \n",
    "# instead of a column, as you might hope for. We can use the `keepdims` input though:\n",
    "max_value_1_col = np.amax(temps, axis=1, keepdims=True)\n",
    "print('The maximum value along axis 1 (column-wise, per day for all cities) is\\n{}'.format(max_value_1_col))\n",
    "\n"
   ]
  },
  {
   "cell_type": "markdown",
   "metadata": {},
   "source": [
    "You can visually verify that the maximum values returned are what you expected.\n",
    "\n",
    "Now try it below for the minimum values:"
   ]
  },
  {
   "cell_type": "code",
   "execution_count": 4,
   "metadata": {},
   "outputs": [],
   "source": [
    "# Give the minimum temperature for all cities\n",
    "# Print the minimum temperature for all days for every city\n"
   ]
  },
  {
   "cell_type": "markdown",
   "metadata": {},
   "source": [
    "### Enrichment:\n",
    "\n",
    "Many functions in NumPy take ***``axis``*** as in input argument, including the ``np.argmin(...)`` and ``np.argmax(...)`` functions you saw above. \n",
    "\n",
    "Try this in the code block above:\n",
    "```python\n",
    "max_position_0 = np.argmin(temps, axis=0)\n",
    "print('The minimum temperature for each city occurred in position {} of each column'.format(max_position_0))\n",
    "```\n",
    "\n",
    "What position value is returned if there is more than one entry of the same minimum value (see column 3, for example, which has ``12, 5, -2, -2, -2``)?"
   ]
  },
  {
   "cell_type": "markdown",
   "metadata": {},
   "source": [
    "## The average value of every column or row\n",
    "\n",
    "Just like with the minimum or maximum value in the part above, you can expect to calculate averages per row and per column."
   ]
  },
  {
   "cell_type": "code",
   "execution_count": 13,
   "metadata": {},
   "outputs": [
    {
     "name": "stdout",
     "output_type": "stream",
     "text": [
      "The temperatures are given one column per city, each row is a daily average:\n",
      " [[ 7  9 12 10]\n",
      " [ 1  4  5  2]\n",
      " [-3  1 -2 -3]\n",
      " [-2 -1 -2 -2]\n",
      " [-3 -1 -2 -4]]\n",
      "The average value along axis 0 (row-wise, per city, over all days) is [0.  2.4 2.2 0.6]\n",
      "The average value along axis 1 (column-wise, per day, over all cities) is:\n",
      "[[ 9.5 ]\n",
      " [ 3.  ]\n",
      " [-1.75]\n",
      " [-1.75]\n",
      " [-2.5 ]]\n"
     ]
    }
   ],
   "source": [
    "import numpy as np\n",
    "temps = np.array([[7, 9, 12, 10], [1, 4, 5, 2], [-3, 1, -2, -3], [-2, -1, -2, -2], [-3, -1, -2, -4]])\n",
    "print('The temperatures are given one column per city, each row is a daily average:\\n {}'.format(temps))\n",
    "\n",
    "mean_value_0 = np.mean(temps, axis=0)\n",
    "print('The average value along axis 0 (row-wise, per city, over all days) is {}'.format(mean_value_0))\n",
    "\n",
    "mean_value_1 = np.mean(temps, axis=1, keepdims=True) # <-- notice the extra input\n",
    "print('The average value along axis 1 (column-wise, per day, over all cities) is:\\n{}'.format(mean_value_1))"
   ]
  },
  {
   "cell_type": "markdown",
   "metadata": {},
   "source": [
    "## Sort the rows, so at the end every column goes from low to high"
   ]
  },
  {
   "cell_type": "code",
   "execution_count": 25,
   "metadata": {},
   "outputs": [
    {
     "name": "stdout",
     "output_type": "stream",
     "text": [
      "The temperatures are given one column per city, each row is a daily average:\n",
      " [[ 7  9 12 10]\n",
      " [ 1  4  5  2]\n",
      " [-3  1 -2 -3]\n",
      " [-2 -1 -2 -2]\n",
      " [-3 -1 -2 -4]]\n",
      "[[-3 -1 -2 -4]\n",
      " [-3 -1 -2 -3]\n",
      " [-2  1 -2 -2]\n",
      " [ 1  4  5  2]\n",
      " [ 7  9 12 10]]\n",
      "[-10  -9  -5  12  38]\n"
     ]
    }
   ],
   "source": [
    "import numpy as np\n",
    "temps = np.array([[7, 9, 12, 10], [1, 4, 5, 2], [-3, 1, -2, -3], [-2, -1, -2, -2], [-3, -1, -2, -4]])\n",
    "print('The temperatures are given one column per city, each row is a daily average:\\n {}'.format(temps))\n",
    "\n",
    "temps.sort(axis=0)\n",
    "print(temps)\n",
    "temps.argmax(axis=0)\n",
    "\n",
    "print(temps.sum(axis=1))"
   ]
  },
  {
   "cell_type": "markdown",
   "metadata": {},
   "source": [
    "## Calculate the (cumulative) sum going across each column"
   ]
  },
  {
   "cell_type": "markdown",
   "metadata": {},
   "source": [
    "\n",
    "* sort\n",
    "* cumulative sum\n"
   ]
  }
 ],
 "metadata": {
  "kernelspec": {
   "display_name": "Python [conda env:anaconda]",
   "language": "python",
   "name": "conda-env-anaconda-py"
  },
  "language_info": {
   "codemirror_mode": {
    "name": "ipython",
    "version": 3
   },
   "file_extension": ".py",
   "mimetype": "text/x-python",
   "name": "python",
   "nbconvert_exporter": "python",
   "pygments_lexer": "ipython3",
   "version": "3.5.5"
  },
  "toc": {
   "base_numbering": 1,
   "nav_menu": {},
   "number_sections": true,
   "sideBar": true,
   "skip_h1_title": true,
   "title_cell": "Table of Contents",
   "title_sidebar": "Contents",
   "toc_cell": true,
   "toc_position": {},
   "toc_section_display": true,
   "toc_window_display": false
  }
 },
 "nbformat": 4,
 "nbformat_minor": 2
}
