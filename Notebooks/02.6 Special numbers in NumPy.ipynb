{
 "cells": [
  {
   "cell_type": "markdown",
   "metadata": {},
   "source": [
    ">All content is released under Creative Commons Attribution [CC-BY 4.0](https://creativecommons.org/licenses/by/4.0/) and all source code is released under a [BSD-3 clause license](https://en.wikipedia.org/wiki/BSD_licenses).\n",
    ">\n",
    ">Please reuse, remix, revise, and reshare this content in any way, keeping this notice.\n",
    ">\n",
    "><img style=\"float: right;\" width=\"150px\" src=\"images/jupyter-logo.png\">**Are you viewing this on jupyter.org?** Then this notebook will be read-only. <br>\n",
    ">See how you can interactively run the code in this notebook by visiting our [instruction page about Notebooks](https://yint.org/notebooks). "
   ]
  },
  {
   "cell_type": "markdown",
   "metadata": {},
   "source": [
    "# Special numbers in NumPy\n",
    "\n",
    "Certain mathematical constants are required:\n",
    "* perhaps as part of a calculation, for example: ``area = np.pi * r ** 2`` will calculate the area of a circle = $\\pi r^2$\n",
    "* you need that value to be in your array, for example the value $e \\approx 2.71828$\n",
    "\n",
    "NumPy has some built-in special numbers for you to use. We will consider:\n",
    ">1. ``np.pi``, the value $\\pi$\n",
    ">1. ``np.e``, also called Euler's constant\n",
    ">1. ``np.Inf``, which is $+\\infty$\n",
    ">1. ``np.NaN``, which is an abbreviation for not-a-number\n",
    "\n",
    "And there are also ways to test if entries in a NumPy matrix are equal to those values:\n",
    "* ``np.isfinite``: checks if the values are finite (``True``) or not finite (``False``)\n",
    "* ``np.isnan``: checks if the values are numbers\n",
    "\n",
    "Let's take a look...\n"
   ]
  },
  {
   "cell_type": "markdown",
   "metadata": {},
   "source": [
    "## 1. Anyone for $\\pi$?"
   ]
  },
  {
   "cell_type": "code",
   "execution_count": 1,
   "metadata": {},
   "outputs": [
    {
     "name": "stdout",
     "output_type": "stream",
     "text": [
      "3.141592653589793\n"
     ]
    }
   ],
   "source": [
    "import numpy as np\n",
    "\n",
    "# What is \"pi\" ?\n",
    "print(np.pi)"
   ]
  },
  {
   "cell_type": "code",
   "execution_count": 2,
   "metadata": {},
   "outputs": [
    {
     "name": "stdout",
     "output_type": "stream",
     "text": [
      "98.5203456165759\n"
     ]
    }
   ],
   "source": [
    "# Area of a circle = pi * (radius)^2\n",
    "\n",
    "radius = 5.6 # meters\n",
    "area = np.pi * radius**2\n",
    "print(area)"
   ]
  },
  {
   "cell_type": "markdown",
   "metadata": {},
   "source": [
    "### To try:\n",
    "\n",
    "> 1. What is the formula for the perimeter of a circle?\n",
    "> 1. What is the perimeter of a circle with radius of 5.6 meters? Write the Python code below to calculate it\n",
    "> 1. What is the ***diameter*** of the circle that will have exactly an area of $100\\text{m}^2$?"
   ]
  },
  {
   "cell_type": "code",
   "execution_count": null,
   "metadata": {},
   "outputs": [],
   "source": [
    "# Step 1 and 2\n",
    "radius = 5.6 # meters\n",
    "perimeter = ...\n",
    "print('The perimeter is {}'.format(perimeter))\n",
    "\n",
    "# Step 3: [make sure your answer is 11 meters and 28 centimeters]\n",
    "area = 100 # square meters\n",
    "diameter = ...  \n",
    "print('The diameter for a circle of 100m^2 is {}'.format(perimeter))"
   ]
  },
  {
   "cell_type": "markdown",
   "metadata": {},
   "source": [
    "## 2. Euler's constant, $e$\n",
    "\n",
    "This constant shows up in many mathematical problems, and has an approximate value of 2.71828.... It is an irrational number, which means it cannot be written as the ratio of two integers. You could use $e \\approx \\tfrac{19}{7} = 2.7142$ but that is not accurate enough.\n",
    "\n",
    "So a built-in value for ``e`` is useful if we need that constant to a higher precision."
   ]
  },
  {
   "cell_type": "code",
   "execution_count": 4,
   "metadata": {},
   "outputs": [
    {
     "name": "stdout",
     "output_type": "stream",
     "text": [
      "2.718281828459045\n"
     ]
    }
   ],
   "source": [
    "import numpy as np\n",
    "print(np.e)\n",
    "\n",
    "# How many decimals of precision are there? \n",
    "# Compare it to the value given here: https://en.wikipedia.org/wiki/E_(mathematical_constant)"
   ]
  },
  {
   "cell_type": "markdown",
   "metadata": {},
   "source": [
    "### To try:\n",
    ">In a prior notebook on [elementwise functions](https://yint.org/ds--elementwise-functions-on-a-numpy-array) we saw the power function in NumPy: ``np.power(b, x)`` will calculate $b^x$, where ``b`` is called the base. The value $e$ is often used as a base, in other words $e^x$. Calculate $e^x$ for values of `x = [-2, -1, 0, 1, 2]`.\n",
    ">\n",
    "> Which two interesting values do you see in the ``output``?"
   ]
  },
  {
   "cell_type": "code",
   "execution_count": null,
   "metadata": {},
   "outputs": [],
   "source": [
    "# First define x\n",
    "x = np.array( ... )\n",
    "\n",
    "# Then calculate the power\n",
    "output = np.power(... , ...)\n",
    "print(output)"
   ]
  },
  {
   "cell_type": "markdown",
   "metadata": {},
   "source": [
    "## 3. To $\\infty$ and beyond\n",
    "\n",
    "Try the following code to see how you can get the value of infinity:"
   ]
  },
  {
   "cell_type": "code",
   "execution_count": 6,
   "metadata": {},
   "outputs": [
    {
     "name": "stdout",
     "output_type": "stream",
     "text": [
      "The input values are: \n",
      "[-0.5 -0.4 -0.3 -0.2 -0.1  0.   0.1  0.2  0.3  0.4  0.5]\n",
      "The inverse of the values are: \n",
      "[ -2.          -2.5         -3.33333333  -5.         -10.\n",
      "          inf  10.           5.           3.33333333   2.5\n",
      "   2.        ]\n",
      "Notice the value of infinity?\n"
     ]
    },
    {
     "name": "stderr",
     "output_type": "stream",
     "text": [
      "/Users/kevindunn/anaconda/lib/python3.5/site-packages/ipykernel/__main__.py:4: RuntimeWarning: divide by zero encountered in true_divide\n"
     ]
    }
   ],
   "source": [
    "import numpy as np\n",
    "values = np.linspace(-0.5,0.5, 11)\n",
    "print('The input values are: \\n{}'.format(values))\n",
    "print('The inverse of the values are: \\n{}'.format(1.0 / values))\n",
    "print('Notice the value of infinity?')"
   ]
  },
  {
   "cell_type": "markdown",
   "metadata": {},
   "source": [
    "You can see from the above code that $\\dfrac{1}{0} = \\infty$. Infact, any finite floating point value divided by zero will give a value of infinity. \n",
    "\n",
    "You should also see an ***warning*** message (note, you do not get an error message). You are warned that you have divided by zero, but the code will continue on.\n",
    "\n",
    "This is desirable behaviour. Perhaps the next lines of code could include:"
   ]
  },
  {
   "cell_type": "code",
   "execution_count": 7,
   "metadata": {},
   "outputs": [
    {
     "name": "stdout",
     "output_type": "stream",
     "text": [
      "Which outputs are finite? [ True  True  True  True  True False  True  True  True  True  True]\n"
     ]
    },
    {
     "name": "stderr",
     "output_type": "stream",
     "text": [
      "/Users/kevindunn/anaconda/lib/python3.5/site-packages/ipykernel/__main__.py:1: RuntimeWarning: divide by zero encountered in true_divide\n",
      "  if __name__ == '__main__':\n"
     ]
    }
   ],
   "source": [
    "outputs = 1.0 / values\n",
    "print('Which outputs are finite? {}'.format(np.isfinite(outputs)))"
   ]
  },
  {
   "cell_type": "markdown",
   "metadata": {},
   "source": [
    "Notice that the ``np.isfinite(...)`` function will check which entries are finite, and show those as ``True``. In the above output you will notice one value of ``False``. \n",
    "\n",
    "If you expect non-finite values in your calculations you can use the ``np.isfinite(...)`` function to branch your code with an ``if--else`` construction: doing one set of actions for finite values and another set of actions for non-finite values.\n",
    "\n",
    "### Enrichment\n",
    "\n",
    "The above ``RuntimeWarning`` can get a bit frustrating, especially if you know to expect the division by zero and will act on it appropriately. To hide these warnings you can:"
   ]
  },
  {
   "cell_type": "code",
   "execution_count": null,
   "metadata": {},
   "outputs": [],
   "source": [
    "import warnings\n",
    "\n",
    "# Will turn all warnings off\n",
    "warnings.filterwarnings(action='ignore')\n",
    "outputs = 1.0 / values\n",
    "\n",
    "# Will always show the warnings: you should see the error message twice: once for line 9, and once for line 10\n",
    "warnings.filterwarnings(action='always')\n",
    "outputs = 1.0 / values\n",
    "outputs = 1.0 / values\n",
    "\n",
    "# Will show the warning once (here for line 14) but then not again.\n",
    "warnings.filterwarnings(action='once')\n",
    "outputs = 1.0 / values\n",
    "outputs = 1.0 / values\n",
    "\n",
    "# Let's turn them off for the rest of this notebook\n",
    "warnings.filterwarnings(action='ignore')"
   ]
  },
  {
   "cell_type": "code",
   "execution_count": null,
   "metadata": {},
   "outputs": [],
   "source": [
    "# Also try the following to see the negative infinity in action:\n",
    "\n",
    "negative_positive = np.array([-2, 0, +2])\n",
    "surprise = negative_positive / 0.0\n",
    "print('The input values are: \\t\\t\\t{}'.format(negative_positive))\n",
    "print('When dividing these by zero we get:\\t{}'.format(surprise))\n",
    "print('Which of these are finite?:    \\t\\t{}'.format(np.isfinite(surprise)))\n",
    "print('Which of these are +infinity?: \\t\\t{}'.format(np.isposinf(surprise)))\n",
    "print('Which of these are -infinity?: \\t\\t{}'.format(np.isneginf(surprise)))\n",
    "print('Which of these are not numbers?: \\t{}'.format(np.isnan(surprise)))"
   ]
  },
  {
   "cell_type": "markdown",
   "metadata": {},
   "source": [
    "## 4. What is ``NaN``?\n",
    "\n",
    "NaN values are unrepresentable, or undefined data. It stands for **not a number**.\n",
    "\n",
    "You saw a NaN already introduced just above. How did that NaN arise? It was when taking zero, and dividing it by zero.\n",
    "\n",
    "What is really useful and interesting about NaN's is that they propogate. In other words, you can use them in calculations:\n",
    "\n",
    "### To try:\n",
    "\n",
    ">1. What is 27 + np.NaN?\n",
    ">1. What is 27 - np.nan?\n",
    ">1. What is 14 * np.NaN\n",
    ">1. What is np.power(13, np.NaN)?\n",
    ">1. What is np.sqrt(np.NaN)?\n",
    ">1. What is NaN * nan"
   ]
  },
  {
   "cell_type": "code",
   "execution_count": 8,
   "metadata": {},
   "outputs": [
    {
     "name": "stdout",
     "output_type": "stream",
     "text": [
      "27 + np.NaN is: nan\n",
      "27 - np.nan is: nan\n",
      "14 * np.NaN is: nan\n",
      "np.power(13, np.NaN) is: nan\n",
      "np.sqrt(np.NaN) is: nan\n",
      "np.NaN * np.nan is: nan\n"
     ]
    }
   ],
   "source": [
    "import numpy as np\n",
    "\n",
    "# Try various calculations with NaN's\n",
    "print('27 + np.NaN is: {}'.format(27 + np.NaN))\n",
    "print('27 - np.nan is: {}'.format(27 + np.nan))  # notice you can use .nan or .NaN\n",
    "print('14 * np.NaN is: {}'.format(14 * np.NaN))\n",
    "print('np.power(13, np.NaN) is: {}'.format(np.power(13, np.NaN)))\n",
    "print('np.sqrt(np.NaN) is: {}'.format(np.sqrt(np.NaN)))\n",
    "print('np.NaN * np.nan is: {}'.format(np.NaN * np.nan))"
   ]
  },
  {
   "cell_type": "markdown",
   "metadata": {},
   "source": [
    "All the operations containing a ``NaN`` are also ``NaN``. This is really helpful, because you notice that these operations continue, without raising an error, and they *propogate* the NaN value. In other words, the NaN value is propogated into the output.\n",
    "\n",
    "This is helpful with arrays of data, and where you want calculations to continue as usual on the non-NaN entries.\n",
    "\n",
    "### To try:\n",
    "\n",
    ">1. This vector of numbers are from an experiment: ``[263, FAIL, 451, 709, FAIL, 542, 223, 659, 689]``.\n",
    ">2. Some experiments failed, so the result of the experiment was set as NaN. Create an array with the 9 values, including the failed experiments:\n",
    ">``expt = [263, np.nan, 451, 709, np.nan, 542, 223, 659, 689]``\n",
    "> \n",
    ">3. We need to show a calculated value though. We need $\\sqrt{x-200}$, where $x$ is the value in the array.\n",
    ">4. Have NumPy tell us which entries are failed, and which are not?\n",
    ">5. Have NumPy tell us how many failed experiments there were.\n"
   ]
  },
  {
   "cell_type": "code",
   "execution_count": 9,
   "metadata": {},
   "outputs": [
    {
     "name": "stdout",
     "output_type": "stream",
     "text": [
      "1. The raw values are: [263.  nan 451. 709.  nan 542. 223. 659. 689.]\n",
      "3. The calculated output is [ 7.9  nan  15.8  22.6  nan  18.5  4.8  21.4  22.1]\n",
      "4. Which experiments failed? [False  True False False  True False False False False]\n",
      "5. There is/are 2 failed experiment(s).\n"
     ]
    }
   ],
   "source": [
    "# 1. Create the vector, using NaN's for the failed experiments:\n",
    "expt = np.array([263, np.nan, 451, 709, np.nan, 542, 223, 659, 689])\n",
    "print('1. The raw values are: {}'.format(expt))\n",
    "\n",
    "# 2. Show the calculated answer:\n",
    "calculated_output = np.sqrt(expt-200)\n",
    "\n",
    "# 3. Print these values, to 1 decimal place:\n",
    "np.set_printoptions(formatter={'float': '{: 0.1f}'.format})\n",
    "print('3. The calculated output is {}'.format(calculated_output))\n",
    "\n",
    "# 4. Failed experiments have NaN. We can see which entries are failed:\n",
    "print('4. Which experiments failed? {}'.format(np.isnan(calculated_output)))\n",
    "\n",
    "# 5. How many failed experiments? We use the fact that `True` = 1 and `False` = 0\n",
    "#    So if we just add up how many `True` entries there are ...\n",
    "print('5. There is/are {} failed experiment(s).'.format(np.sum(np.isnan(calculated_output))))"
   ]
  },
  {
   "cell_type": "markdown",
   "metadata": {},
   "source": [
    "## Enrichment\n",
    "\n",
    "1. What if we needed to calculate the average of ``calculated_output``? \n",
    "\n",
    "    We could try calculating the sum of the entries and dividing by the number of non-NaN values, but ``NaN + (not a NaN) = NaN``. So that won't work. Fortunately there is a way to do this. Try ``np.nanmean(calculated_output)``.\n",
    "\n",
    "    There are a variety of `np.nan___` functions. Try a few below, such as ``np.nanmedian(...)``, ``np.nansum(...)``, and ``np.nanmax(...)``. Discover some of the others too.\n",
    "\n",
    "\n",
    "2. You can also use NaN's in regular Python; it is not only available in NumPy. Try this code, which uses the built-in ``math`` library [this library is part of standard Python and is always available to you, while NumPy is not guaranteed to be there].\n",
    "\n",
    "```python\n",
    "import math\n",
    "print('A built-in NaN value: {}'.format(math.nan))\n",
    "print(math.isnan(13))\n",
    "print(math.isnan(math.nan))\n",
    "```\n",
    "\n"
   ]
  },
  {
   "cell_type": "code",
   "execution_count": null,
   "metadata": {},
   "outputs": [],
   "source": [
    "# Try the enrichment exercises here:\n",
    "average = ...\n",
    "\n",
    "# Put your cursor after the last \"n\" and push Tab on your keyboard.\n",
    "# This shows all the functions that start with np.nan___. There are quite a few!\n",
    "np.nan"
   ]
  }
 ],
 "metadata": {
  "kernelspec": {
   "display_name": "Python [conda env:anaconda]",
   "language": "python",
   "name": "conda-env-anaconda-py"
  },
  "language_info": {
   "codemirror_mode": {
    "name": "ipython",
    "version": 3
   },
   "file_extension": ".py",
   "mimetype": "text/x-python",
   "name": "python",
   "nbconvert_exporter": "python",
   "pygments_lexer": "ipython3",
   "version": "3.5.5"
  }
 },
 "nbformat": 4,
 "nbformat_minor": 2
}
