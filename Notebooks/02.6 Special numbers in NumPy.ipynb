{
 "cells": [
  {
   "cell_type": "markdown",
   "metadata": {},
   "source": [
    "All content is under Creative Commons Attribution CC-BY 4.0 and all source code is under BSD-3 clause. Parts of these materials were inspired by https://github.com/engineersCode/EngComp/ (CC-BY 4.0), L.A. Barba, N.C. Clementi\n",
    "\n",
    "Please reuse, remix, revise, and reshare this content in any way, keeping this notice! \n",
    "\n",
    "**Viewing this on jupyter.org?** This is then read-only. To learn how to more effectively interact with this notebook, visit our [instruction page about Notebooks](https://yint.org/notebooks)."
   ]
  },
  {
   "cell_type": "markdown",
   "metadata": {},
   "source": [
    "# Special numbers in NumPy\n",
    "\n",
    "* pi\n",
    "* e\n",
    "* Inf (plus and minus)\n",
    "* NaN\n",
    "* isfinite\n",
    "* isnan\n"
   ]
  },
  {
   "cell_type": "code",
   "execution_count": null,
   "metadata": {},
   "outputs": [],
   "source": [
    "import numpy as np"
   ]
  },
  {
   "cell_type": "code",
   "execution_count": null,
   "metadata": {},
   "outputs": [],
   "source": [
    "A/0\n",
    "Inf/Inf\n"
   ]
  }
 ],
 "metadata": {
  "kernelspec": {
   "display_name": "Python [conda env:anaconda]",
   "language": "python",
   "name": "conda-env-anaconda-py"
  },
  "language_info": {
   "codemirror_mode": {
    "name": "ipython",
    "version": 3
   },
   "file_extension": ".py",
   "mimetype": "text/x-python",
   "name": "python",
   "nbconvert_exporter": "python",
   "pygments_lexer": "ipython3",
   "version": "3.5.5"
  }
 },
 "nbformat": 4,
 "nbformat_minor": 2
}
