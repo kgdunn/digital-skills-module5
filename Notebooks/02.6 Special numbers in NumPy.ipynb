{
 "cells": [
  {
   "cell_type": "markdown",
   "metadata": {},
   "source": [
    ">All content is released under Creative Commons Attribution [CC-BY 4.0](https://creativecommons.org/licenses/by/4.0/) and all source code is released under a [BSD-3 clause license](https://en.wikipedia.org/wiki/BSD_licenses).\n",
    ">\n",
    ">Please reuse, remix, revise, and reshare this content in any way, keeping this notice.\n",
    ">\n",
    "><img style=\"float: right;\" width=\"150px\" src=\"images/jupyter-logo.png\">**Are you viewing this on jupyter.org?** Then this notebook will be read-only. <br>\n",
    ">See how you can interactively run the code in this notebook by visiting our [instruction page about Notebooks](https://yint.org/notebooks). "
   ]
  },
  {
   "cell_type": "markdown",
   "metadata": {},
   "source": [
    "# Special numbers in NumPy\n",
    "\n",
    "Certain mathematical constants are required:\n",
    "* perhaps as part of a calculation, for example: ``area = np.pi * r ** 2`` will calculate the area of a circle = $\\pi r^2$\n",
    "* you need that value to be in your array, for example the value $e \\approx 2.71828$\n",
    "\n",
    "NumPy has some built-in special numbers for you to use:\n",
    ">* ``np.pi``, the value $\\pi$\n",
    ">* ``np.e``, also called Euler's constant\n",
    ">* ``np.Inf``, which is $+\\infty$\n",
    ">* ``np.NaN``, which is an abbreviation for not-a-number\n",
    "\n",
    "And there are also ways to test if entries in a NumPy matrix are equal to those values:\n",
    "* ``np.isfinite``: checks if the values are finite (``True``) or not finite (``False``)\n",
    "* ``np.isnan``: checks if the values are numbers\n",
    "\n",
    "Let's take a look...\n"
   ]
  },
  {
   "cell_type": "markdown",
   "metadata": {},
   "source": [
    "## Anyone for $\\pi$?"
   ]
  },
  {
   "cell_type": "code",
   "execution_count": null,
   "metadata": {},
   "outputs": [],
   "source": [
    "import numpy as np\n",
    "\n",
    "# What is \"pi\" ?\n",
    "print(np.pi)"
   ]
  },
  {
   "cell_type": "code",
   "execution_count": null,
   "metadata": {},
   "outputs": [],
   "source": [
    "# Area of a circle = pi * (radius)^2\n",
    "\n",
    "radius = 5.6 # meters\n",
    "area = np.pi * radius**2\n",
    "print(area)"
   ]
  },
  {
   "cell_type": "markdown",
   "metadata": {},
   "source": [
    "### To try:\n",
    "\n",
    "> 1. What is the formula for the perimeter of a circle?\n",
    "> 1. What is the perimeter of a circle with radius of 5.6 meters? Write the Python code below to calculate it\n",
    "> 1. What is the ***diameter*** of the circle that will have exactly an area of $100\\text{m}^2$?"
   ]
  },
  {
   "cell_type": "code",
   "execution_count": null,
   "metadata": {},
   "outputs": [],
   "source": [
    "# Step 1 and 2\n",
    "radius = 5.6 # meters\n",
    "perimeter = ...\n",
    "print('The perimeter is {}'.format(perimeter))\n",
    "\n",
    "# Step 3: [make sure your answer is 11 meters and 28 centimeters]\n",
    "area = 100 # square meters\n",
    "diameter = ...  \n",
    "print('The diameter for a circle of 100m^2 is {}'.format(perimeter))"
   ]
  },
  {
   "cell_type": "markdown",
   "metadata": {},
   "source": [
    "## Euler's constant, $e$\n",
    "\n",
    "This constant shows up in many mathematical problems, and has an approximate value of 2.71828.... It is an irrational number, which means it cannot be written as the ratio of two integers. You could use $e \\approx \\tfrac{19}{7} = 2.7142$ but that is not accurate enough.\n",
    "\n",
    "So a built-in value for ``e`` is useful if we need that constant to a higher precision."
   ]
  },
  {
   "cell_type": "code",
   "execution_count": null,
   "metadata": {},
   "outputs": [],
   "source": [
    "import numpy as np\n",
    "print(np.e)\n",
    "\n",
    "# How many decimals of precision are there? \n",
    "# Compare it to the value given here: https://en.wikipedia.org/wiki/E_(mathematical_constant)"
   ]
  },
  {
   "cell_type": "markdown",
   "metadata": {},
   "source": [
    "### To try:\n",
    ">In a prior notebook on [elementwise functions](https://yint.org/ds--elementwise-functions-on-a-numpy-array) we saw the power function in NumPy: ``np.power(b, x)`` will calculate $b^x$, where ``b`` is called the base. The value $e$ is often used as a base, in other words $e^x$. Calculate $e^x$ for values of `x = [-2, -1, 0, 1, 2]`.\n",
    ">\n",
    "> Which two interesting values do you see in the ``output``?"
   ]
  },
  {
   "cell_type": "code",
   "execution_count": null,
   "metadata": {},
   "outputs": [],
   "source": [
    "# First define x\n",
    "x = np.array( ... )\n",
    "\n",
    "# Then calculate the power\n",
    "output = np.power(... , ...)\n",
    "print(output)"
   ]
  },
  {
   "cell_type": "markdown",
   "metadata": {},
   "source": [
    "## To $\\infty$ and beyond"
   ]
  }
 ],
 "metadata": {
  "kernelspec": {
   "display_name": "Python [conda env:anaconda]",
   "language": "python",
   "name": "conda-env-anaconda-py"
  },
  "language_info": {
   "codemirror_mode": {
    "name": "ipython",
    "version": 3
   },
   "file_extension": ".py",
   "mimetype": "text/x-python",
   "name": "python",
   "nbconvert_exporter": "python",
   "pygments_lexer": "ipython3",
   "version": "3.5.5"
  }
 },
 "nbformat": 4,
 "nbformat_minor": 2
}
