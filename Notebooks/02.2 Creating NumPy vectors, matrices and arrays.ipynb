{
 "cells": [
  {
   "cell_type": "markdown",
   "metadata": {
    "toc": true
   },
   "source": [
    "<h1>Table of Contents<span class=\"tocSkip\"></span></h1>\n",
    "<div class=\"toc\"><ul class=\"toc-item\"><li><span><a href=\"#Creating-your-first-matrix-(a-two-dimensional-array)\" data-toc-modified-id=\"Creating-your-first-matrix-(a-two-dimensional-array)-1\"><span class=\"toc-item-num\">1&nbsp;&nbsp;</span>Creating your first matrix (a two-dimensional array)</a></span></li><li><span><a href=\"#Creating-your-first-multi-dimensional-array\" data-toc-modified-id=\"Creating-your-first-multi-dimensional-array-2\"><span class=\"toc-item-num\">2&nbsp;&nbsp;</span>Creating your first multi-dimensional array</a></span></li><li><span><a href=\"#Summary\" data-toc-modified-id=\"Summary-3\"><span class=\"toc-item-num\">3&nbsp;&nbsp;</span>Summary</a></span></li></ul></div>"
   ]
  },
  {
   "cell_type": "markdown",
   "metadata": {},
   "source": [
    ">All content is released under Creative Commons Attribution [CC-BY 4.0](https://creativecommons.org/licenses/by/4.0/) and all source code is released under a [BSD-3 clause license](https://en.wikipedia.org/wiki/BSD_licenses). Parts of these materials were inspired by https://github.com/engineersCode/EngComp/ (CC-BY 4.0), L.A. Barba, N.C. Clementi.\n",
    ">\n",
    ">Please reuse, remix, revise, and reshare this content in any way, keeping this notice. [Report issues please](https://github.com/kgdunn/digital-skills-module5/issues).\n",
    ">\n",
    "><img style=\"float: right;\" width=\"150px\" src=\"images/jupyter-logo.png\">**Are you viewing this on jupyter.org?** Then this notebook will be read-only. <br>\n",
    ">See how you can interactively run the code in this notebook by visiting our [instruction page about Notebooks](https://yint.org/notebooks). "
   ]
  },
  {
   "cell_type": "markdown",
   "metadata": {},
   "source": [
    "# Creating vectors, matrices and arrays with NumPy\n",
    "\n",
    "NumPy offers many [ways to create arrays](https://docs.scipy.org/doc/numpy/reference/routines.array-creation.html#routines-array-creation). \n",
    "\n",
    "\n",
    "###  To try below:\n",
    "> 1. Scroll through that link above to see just how many ways there are.\n",
    "> 2. One of the simplest vectors we can create is a vector of just 1's. Try the `numpy.ones()` command below. We must tell NumPy how many array elements want. \n",
    "                                          "
   ]
  },
  {
   "cell_type": "code",
   "execution_count": 1,
   "metadata": {},
   "outputs": [
    {
     "data": {
      "text/plain": [
       "array([1., 1., 1., 1., 1.])"
      ]
     },
     "execution_count": 1,
     "metadata": {},
     "output_type": "execute_result"
    }
   ],
   "source": [
    "# To try: change the '5' to some other integer number\n",
    "import numpy as np\n",
    "np.ones(shape=5)    # complete function call\n",
    "np.ones(5)          # how it is commonly used"
   ]
  },
  {
   "cell_type": "code",
   "execution_count": 2,
   "metadata": {},
   "outputs": [
    {
     "data": {
      "text/plain": [
       "array([0., 0., 0.])"
      ]
     },
     "execution_count": 2,
     "metadata": {},
     "output_type": "execute_result"
    }
   ],
   "source": [
    "# There is also a command to create a vector of zeros:\n",
    "np.zeros(shape=3)\n",
    "np.zeros(3)"
   ]
  },
  {
   "cell_type": "markdown",
   "metadata": {},
   "source": [
    "## Creating your first matrix (a two-dimensional array)\n",
    "\n",
    "For this we use the ``.ones()`` or ``.zeros()`` command, but we just specify the ``shape`` differently."
   ]
  },
  {
   "cell_type": "code",
   "execution_count": 3,
   "metadata": {},
   "outputs": [
    {
     "name": "stdout",
     "output_type": "stream",
     "text": [
      "[[1. 1. 1. 1. 1. 1. 1.]\n",
      " [1. 1. 1. 1. 1. 1. 1.]\n",
      " [1. 1. 1. 1. 1. 1. 1.]\n",
      " [1. 1. 1. 1. 1. 1. 1.]\n",
      " [1. 1. 1. 1. 1. 1. 1.]]\n",
      "(5, 7)\n",
      "------------\n",
      "[[0. 0. 0. 0. 0. 0. 0.]\n",
      " [0. 0. 0. 0. 0. 0. 0.]\n",
      " [0. 0. 0. 0. 0. 0. 0.]\n",
      " [0. 0. 0. 0. 0. 0. 0.]\n",
      " [0. 0. 0. 0. 0. 0. 0.]]\n",
      "<class 'numpy.ndarray'>\n"
     ]
    }
   ],
   "source": [
    "twoD = np.ones(shape=(5,7))\n",
    "print(twoD)\n",
    "print(twoD.shape)\n",
    "print('------------')\n",
    "\n",
    "naughts = np.zeros((5,7))\n",
    "print(naughts)\n",
    "print(type(naughts))      # you have created an object with type `numpy.ndarray`"
   ]
  },
  {
   "cell_type": "markdown",
   "metadata": {},
   "source": [
    "## Creating your first multi-dimensional array\n",
    "\n",
    "Why stop at two-dimenions? Create a 3-dimenional array with 2 rows, 3 columns and 4 layers: in other words a $2 \\times 3 \\times $$ array.\n",
    "\n",
    "Just adjust the `tuple` provided to the `shape` argument:"
   ]
  },
  {
   "cell_type": "code",
   "execution_count": null,
   "metadata": {},
   "outputs": [],
   "source": [
    "threeD = np.zeros(shape=(2,3,4))\n",
    "print(threeD)\n",
    "print(threeD.shape)\n",
    "\n",
    "# Is this what you expected to see? You might have to imagine the 3rd dimension going in and out of the screen."
   ]
  },
  {
   "cell_type": "markdown",
   "metadata": {},
   "source": [
    "### To try below\n",
    "\n",
    ">1. Try to create a matrix with 4 rows and 5 column where every value in the matrix is the number 8. Do this by making a matrix of only ``.ones()`` and multiplying that matrix by the value of 8.\n",
    ">2. Now do the same thing, using the ``np.full`` command. If you need help, please see the [Numpy documentation for the ``np.full`` command](https://docs.scipy.org/doc/numpy/reference/generated/numpy.full.html#numpy.full]) .\n",
    "\n"
   ]
  },
  {
   "cell_type": "code",
   "execution_count": null,
   "metadata": {},
   "outputs": [],
   "source": [
    "# Step 1:\n",
    "eights = np.ones( ___ ) * ___\n",
    "print(eights)"
   ]
  },
  {
   "cell_type": "code",
   "execution_count": null,
   "metadata": {},
   "outputs": [],
   "source": [
    "# Step 2:\n",
    "eight_again = np.full(shape=___, fill_value=___)\n",
    "print(eight_again)"
   ]
  },
  {
   "cell_type": "markdown",
   "metadata": {},
   "source": [
    "## Summary\n",
    "\n",
    "You have created vectors, matrices and arrays. These have a specific ``.shape`` that you can check. \n",
    "\n",
    "These objects are of the type ``numpy.ndarray``: an n-dimensional array."
   ]
  }
 ],
 "metadata": {
  "kernelspec": {
   "display_name": "Python [conda env:anaconda]",
   "language": "python",
   "name": "conda-env-anaconda-py"
  },
  "language_info": {
   "codemirror_mode": {
    "name": "ipython",
    "version": 3
   },
   "file_extension": ".py",
   "mimetype": "text/x-python",
   "name": "python",
   "nbconvert_exporter": "python",
   "pygments_lexer": "ipython3",
   "version": "3.5.5"
  },
  "toc": {
   "base_numbering": 1,
   "nav_menu": {},
   "number_sections": true,
   "sideBar": true,
   "skip_h1_title": true,
   "title_cell": "Table of Contents",
   "title_sidebar": "Contents",
   "toc_cell": true,
   "toc_position": {},
   "toc_section_display": true,
   "toc_window_display": false
  }
 },
 "nbformat": 4,
 "nbformat_minor": 2
}
