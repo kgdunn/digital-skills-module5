{
 "cells": [
  {
   "cell_type": "markdown",
   "metadata": {
    "toc": true
   },
   "source": [
    "<h1>Table of Contents<span class=\"tocSkip\"></span></h1>\n",
    "<div class=\"toc\"><ul class=\"toc-item\"><li><span><a href=\"#Ammonia-case-study\" data-toc-modified-id=\"Ammonia-case-study-1\"><span class=\"toc-item-num\">1&nbsp;&nbsp;</span>Ammonia case study</a></span><ul class=\"toc-item\"><li><span><a href=\"#Check\" data-toc-modified-id=\"Check-1.1\"><span class=\"toc-item-num\">1.1&nbsp;&nbsp;</span>Check</a></span></li></ul></li><li><span><a href=\"#Summarize-(describe)-the-data\" data-toc-modified-id=\"Summarize-(describe)-the-data-2\"><span class=\"toc-item-num\">2&nbsp;&nbsp;</span>Summarize (describe) the data</a></span><ul class=\"toc-item\"><li><span><a href=\"#Check\" data-toc-modified-id=\"Check-2.1\"><span class=\"toc-item-num\">2.1&nbsp;&nbsp;</span>Check</a></span></li><li><span><a href=\"#Theory\" data-toc-modified-id=\"Theory-2.2\"><span class=\"toc-item-num\">2.2&nbsp;&nbsp;</span>Theory</a></span></li><li><span><a href=\"#Check:\" data-toc-modified-id=\"Check:-2.3\"><span class=\"toc-item-num\">2.3&nbsp;&nbsp;</span>Check:</a></span></li><li><span><a href=\"#Looking-ahead\" data-toc-modified-id=\"Looking-ahead-2.4\"><span class=\"toc-item-num\">2.4&nbsp;&nbsp;</span>Looking ahead</a></span></li></ul></li></ul></div>"
   ]
  },
  {
   "attachments": {},
   "cell_type": "markdown",
   "metadata": {},
   "source": [
    ">All content is released under Creative Commons Attribution [CC-BY 4.0](https://creativecommons.org/licenses/by/4.0/) and all source code is released under a [BSD-3 clause license](https://en.wikipedia.org/wiki/BSD_licenses). Parts of these materials were inspired by https://github.com/engineersCode/EngComp/ (CC-BY 4.0), L.A. Barba, N.C. Clementi.\n",
    ">\n",
    ">Please reuse, remix, revise, and reshare this content in any way, keeping this notice.\n",
    ">\n",
    "><img style=\"float: right;\" width=\"150px\" src=\"images/jupyter-logo.png\">**Are you viewing this on jupyter.org?** Then this notebook will be read-only. <br>\n",
    ">See how you can interactively run the code in this notebook by visiting our [instruction page about Notebooks](https://yint.org/notebooks). "
   ]
  },
  {
   "cell_type": "markdown",
   "metadata": {},
   "source": [
    "# Summarizing data: numerically and visually"
   ]
  },
  {
   "cell_type": "markdown",
   "metadata": {},
   "source": [
    "This is the first in a series of modules introducing statistical and data science concepts, including plotting.\n",
    "\n",
    "When you start a data-based project the first step is to have an objective in mind. Define what you want to do with this data. Then your next steps become clear.\n",
    "\n",
    "After that you will look for and get your data (or it will be given to you by a colleague).\n",
    "\n",
    "Then we start by **looking at the data**. What do we have in our hands? Are the data what we expect? This is the exploratory step.\n",
    "\n",
    "We clearly don't go look at every number: we want a summary. Let's see how ... with *text*, and *plots*."
   ]
  },
  {
   "cell_type": "markdown",
   "metadata": {},
   "source": [
    "## Ammonia case study\n",
    "\n",
    "**The objective is**: describe what time-based trends we see in the ammonia concentration of a wastewater stream. We have a single measurement, taken every six hours. We have a data file, with 1 column and several rows of measurements.\n",
    "\n",
    "**The actions are:**\n",
    "* open the data\n",
    "* check if the data are correct (we know that the concentrations are typically in the range of 15 to 50 mmol/L)\n",
    "* summarize the data (table, and graphically)\n",
    "* plot the time-based trends"
   ]
  },
  {
   "cell_type": "code",
   "execution_count": 7,
   "metadata": {
    "scrolled": true
   },
   "outputs": [
    {
     "name": "stdout",
     "output_type": "stream",
     "text": [
      "   Ammonia\n",
      "0    35.00\n",
      "1    40.66\n",
      "2    41.05\n",
      "3    32.29\n",
      "4    35.59\n",
      "      Ammonia\n",
      "1430    52.54\n",
      "1431    38.11\n",
      "1432    37.18\n",
      "1433    43.41\n",
      "1434    40.82\n",
      "1435    33.01\n",
      "1436    38.22\n",
      "1437    48.08\n",
      "1438    43.18\n",
      "1439    34.70\n"
     ]
    }
   ],
   "source": [
    "# Loading the data, using Pandas\n",
    "import pandas as pd\n",
    "\n",
    "data_file = 'datasets/ammonia.csv'                 # if it is locally, on your computer (read below also)\n",
    "data_file = 'http://openmv.net/file/ammonia.csv'   # from the web\n",
    "ammonia = pd.read_csv(data_file)\n",
    "\n",
    "# Show only the first few lines of the data table (by default it will show 5 lines)\n",
    "print(ammonia.head())\n",
    "\n",
    "# And the last 10:\n",
    "print(ammonia.tail(n=10))"
   ]
  },
  {
   "cell_type": "markdown",
   "metadata": {},
   "source": [
    "##### Note:\n",
    "\n",
    "If you downloaded this notebook alone, and don't have the data file on the location we assume above, get it by adding a code cell, and execute the following code in it:\n",
    "\n",
    "```Python\n",
    "from urllib.request import urlretrieve\n",
    "URL = 'http://openmv.net/file/ammonia.csv'\n",
    "urlretrieve(URL, 'ammonia.csv')\n",
    "```\n",
    "The data file will be downloaded to your working directory, and you will then need to modify the path information, i.e., modify the string `'datasets/'`, in the bcode to point to your actual directory on your computer."
   ]
  },
  {
   "cell_type": "markdown",
   "metadata": {},
   "source": [
    "### Check\n",
    "We have opened the data, and the ``.head(...)`` command indicates our data are within the expected range.\n",
    "\n",
    "We are ready to move on:\n",
    "\n",
    "## Summarize (describe) the data\n"
   ]
  },
  {
   "cell_type": "code",
   "execution_count": 8,
   "metadata": {
    "scrolled": true
   },
   "outputs": [
    {
     "data": {
      "text/html": [
       "<div>\n",
       "<style scoped>\n",
       "    .dataframe tbody tr th:only-of-type {\n",
       "        vertical-align: middle;\n",
       "    }\n",
       "\n",
       "    .dataframe tbody tr th {\n",
       "        vertical-align: top;\n",
       "    }\n",
       "\n",
       "    .dataframe thead th {\n",
       "        text-align: right;\n",
       "    }\n",
       "</style>\n",
       "<table border=\"1\" class=\"dataframe\">\n",
       "  <thead>\n",
       "    <tr style=\"text-align: right;\">\n",
       "      <th></th>\n",
       "      <th>Ammonia</th>\n",
       "    </tr>\n",
       "  </thead>\n",
       "  <tbody>\n",
       "    <tr>\n",
       "      <th>count</th>\n",
       "      <td>1440.000000</td>\n",
       "    </tr>\n",
       "    <tr>\n",
       "      <th>mean</th>\n",
       "      <td>36.094993</td>\n",
       "    </tr>\n",
       "    <tr>\n",
       "      <th>std</th>\n",
       "      <td>8.518928</td>\n",
       "    </tr>\n",
       "    <tr>\n",
       "      <th>min</th>\n",
       "      <td>9.990000</td>\n",
       "    </tr>\n",
       "    <tr>\n",
       "      <th>25%</th>\n",
       "      <td>30.225000</td>\n",
       "    </tr>\n",
       "    <tr>\n",
       "      <th>50%</th>\n",
       "      <td>36.180000</td>\n",
       "    </tr>\n",
       "    <tr>\n",
       "      <th>75%</th>\n",
       "      <td>42.370000</td>\n",
       "    </tr>\n",
       "    <tr>\n",
       "      <th>max</th>\n",
       "      <td>58.740000</td>\n",
       "    </tr>\n",
       "  </tbody>\n",
       "</table>\n",
       "</div>"
      ],
      "text/plain": [
       "           Ammonia\n",
       "count  1440.000000\n",
       "mean     36.094993\n",
       "std       8.518928\n",
       "min       9.990000\n",
       "25%      30.225000\n",
       "50%      36.180000\n",
       "75%      42.370000\n",
       "max      58.740000"
      ]
     },
     "execution_count": 8,
     "metadata": {},
     "output_type": "execute_result"
    }
   ],
   "source": [
    "# Run this single line of code, and answer the questions below\n",
    "ammonia.describe()"
   ]
  },
  {
   "cell_type": "markdown",
   "metadata": {},
   "source": [
    "### Check\n",
    "\n",
    "1. There are \\_\\_\\_\\_\\_\\_ rows of data. Measured at 6 hours apart, this represents \\_\\_\\_\\_\\_\\_ days of sensor readings.\n",
    "2. We expected ammonia concentrations to typically be in the range of 15 to 50 mmol/L. Is that the case from the description?\n",
    "3. What is the average ammonia concentration?"
   ]
  },
  {
   "cell_type": "markdown",
   "metadata": {},
   "source": [
    "### Theory\n",
    "\n",
    "There are 1440 rows, or data points. If we sort these from low to high we will find the minimum as the first entry, and the maximum in the last position of the vector.\n",
    "\n",
    "What value will we find halfway? It is called the **median**, the middle value, the one that separates your data set in half. If there are an even number of data values, you take the average between the two middle values\n",
    "\n",
    "Try find the median value:"
   ]
  },
  {
   "cell_type": "code",
   "execution_count": null,
   "metadata": {
    "scrolled": true
   },
   "outputs": [],
   "source": [
    "# Specify \"by\": by which column do we want to sort. This is useful for multi-column data sets.\n",
    "# But for now, we only have 1 column.\n",
    "ammonia_sorted = ammonia.sort_values(by='Ammonia')  \n",
    "\n",
    "print(ammonia_sorted.head())\n",
    "print(ammonia_sorted.tail())\n",
    "\n",
    "# Notice the indexes are maintained. So you can see, for example, sample 811 and 812 (0-based) \n",
    "# were the lowest recorded ammonia values.\n",
    "\n",
    "# Find the middle two values: 719 and 720, and calculate the average:\n",
    "ammonia_sorted[719:721] # gets entry 719 and 720, and stops just before entry number 721."
   ]
  },
  {
   "cell_type": "markdown",
   "metadata": {},
   "source": [
    "So there is the median: 36.18 mmol/L. And compared to the average, the **mean** of 36.094, they agree closely."
   ]
  },
  {
   "cell_type": "code",
   "execution_count": null,
   "metadata": {
    "scrolled": true
   },
   "outputs": [],
   "source": [
    "# There is a quicker way to find the median:\n",
    "ammonia.median()"
   ]
  },
  {
   "cell_type": "markdown",
   "metadata": {},
   "source": [
    "Now, with that knowledge can you interpret what the row **\"50%\"** means in the above ``.describe()`` command?\n",
    "\n",
    "\n",
    "The \"50%\" row in that description is called the 50th *percentile*. \n",
    "![alt=Pandas \"describe\" output](images/summarizing-data/ammonia-description.png)\n",
    "\n",
    "It is the value in the dataset above which 50% of the values are found, and below which 50% of the values are found. A shortcut name that we use for the 50th percentile is **median**. It is the only percentile which has a special name.\n"
   ]
  },
  {
   "cell_type": "markdown",
   "metadata": {},
   "source": [
    "### Check:\n",
    "\n",
    "1. What does the 25th percentile mean? Below the 25th percentile value we will find \\_\\_\\_\\_% of the values, and above the 25th percentile we find \\_\\_\\_\\_% of the values. In this case that means the 25th percentile will be close to value of the 360th entry in the sorted vector of data. Try it:\n",
    "\n",
    "    ``ammonia_sorted[358:362]``\n",
    "\n",
    "2. What does the 75th percentile mean? Below the 75th percentile value we will find \\_\\_\\_\\_% of the values, and above the 75th percentile we find \\_\\_\\_\\_% of the values. In this case that means the 75th percentile will be close to value of the 1080th entry in the sorted vector of data.  Try it:\n",
    "\n",
    "    ``ammonia_sorted[1078:1082]``\n",
    "\n",
    "3. So therefore: between the 25th percentile and the 75th percentile, we will find \\_\\_\\_\\_% of the values in our vector. \n",
    "\n",
    "And there is the key reason why you are given the 25th and 75th percentile values. Half of the data in the sorted data vector lie between these two values. 25% of the data lie below the 25th percentile, and the other 25% lie above the 75th percentile, and the bulk of the data lie between these two."
   ]
  },
  {
   "cell_type": "markdown",
   "metadata": {},
   "source": [
    "Now we have looked at the extremes with ``.head()`` and ``.tail()`` and the mean and the median. \n",
    "\n",
    "What about the **typical** values? What do we even mean by _typical_ or _usual_ or _common_ values? Could we use the 25th and 75th percentiles to help guide us?\n",
    "\n",
    "One way to get a feel for that is to plot these numbers: 25th, 50th and 75th percentiles. Let's see how, by using a **boxplot**."
   ]
  },
  {
   "cell_type": "code",
   "execution_count": 9,
   "metadata": {
    "scrolled": true
   },
   "outputs": [
    {
     "data": {
      "image/png": "[encoded data removed]",
      "text/plain": [
       "<Figure size 432x288 with 1 Axes>"
      ]
     },
     "metadata": {},
     "output_type": "display_data"
    }
   ],
   "source": [
    "from matplotlib import pyplot\n",
    "%matplotlib inline\n",
    "\n",
    "# The plotting library needs access to the raw data values. Access those\n",
    "# using the ``.values`` method\n",
    "raw_values = ammonia.values\n",
    "pyplot.boxplot(raw_values);"
   ]
  },
  {
   "cell_type": "markdown",
   "metadata": {},
   "source": [
    "The boxplot gives you an idea of the distribution, the spread, of the data.\n",
    "\n",
    "The key point is the orange center line, the line that splits the centre square (actually it is a rectangle, but it looks squarish). That horizontal line is the median.\n",
    "\n",
    "It is surprising to see that middle chunk, that middle 50% of the sorted data values fall in such a narrow range of the rectangle.\n",
    "![alt=\"Boxplot for the percentiles](images/summarizing-data/percentiles-ammonia.png)\n",
    "\n",
    "The bottom 25% of the data falls below the box, and the top 25% of the data falls above the box. That is indicated to some extent by the whiskers, the lines leaving the middle square/rectangle shape. The whiskers tell how much spread there is in our data. We we see 2 single circles below the bottom whisker. These are likely *outliers*, data which are unusual, given the context of the rest of the data. More about *outliers* later.\n",
    "\n",
    "\n",
    "\n",
    "asdahdlahd a'da\n"
   ]
  },
  {
   "cell_type": "code",
   "execution_count": null,
   "metadata": {
    "scrolled": true
   },
   "outputs": [],
   "source": [
    "# Run this code to see that basic histogram.\n",
    "# 1. Adjust the number of bins, and see how the histogram changes. The default number is 10.\n",
    "# 2. Adjust the colour of the bin edges (borders). Try 'red', or 'black' or 'xkcd:pea soup'\n",
    "pyplot.hist(raw_values, bins=30, edgecolor='white');\n"
   ]
  },
  {
   "cell_type": "code",
   "execution_count": 10,
   "metadata": {
    "scrolled": true
   },
   "outputs": [
    {
     "data": {
      "text/plain": [
       "Ammonia    36.18\n",
       "Name: 0.5, dtype: float64"
      ]
     },
     "execution_count": 10,
     "metadata": {},
     "output_type": "execute_result"
    },
    {
     "data": {
      "image/png": "[encoded data removed]",
      "text/plain": [
       "<Figure size 432x288 with 1 Axes>"
      ]
     },
     "metadata": {},
     "output_type": "display_data"
    }
   ],
   "source": [
    "# It is helpful to visualize the 25th and 75th percentiles on the histogram.\n",
    "\n",
    "# Run the following code:\n",
    "pyplot.hist(raw_values, bins=20, edgecolor='white');\n",
    "\n",
    "# Now superimpose on the histogram the 25th and the 75th percentiles  (a type of quantile)\n",
    "# as vertical lines (vlines) on the histogram\n",
    "pyplot.vlines(x=ammonia.quantile(0.25), ymin=0, ymax=250, color=\"red\")\n",
    "pyplot.vlines(x=ammonia.quantile(0.50), ymin=0, ymax=250, color=\"orange\")\n",
    "pyplot.vlines(x=ammonia.quantile(0.75), ymin=0, ymax=250, color=\"red\")\n",
    "\n",
    "# NOTE:\n",
    "ammonia.quantile(0.5)  # The 0.5 quantile, is the same as the 50th percentile, is the same as the median."
   ]
  },
  {
   "cell_type": "markdown",
   "metadata": {},
   "source": [
    "It might not appear like it is true, but \n",
    "* 25% of the histogram area is to the left of the first red line\n",
    "* 25% of the histogram area is between the red and the orange line\n",
    "* 25% of the histogram area is between the orange line and the next red line to the right\n",
    "* 25% of the histogram area is to the right of the second red line\n",
    "\n",
    "All of that you can get from this single table. \n",
    "![alt=Pandas \"describe\" output](images/summarizing-data/ammonia-description.png)\n",
    "\n",
    "Which brings us to two important points:\n",
    "1. Tables **are** (despite what some people might say), a very effective form of summarizing data\n",
    "2. Start your data analysis with the ``.describe()`` function to get a feel for your data.\n"
   ]
  },
  {
   "cell_type": "markdown",
   "metadata": {},
   "source": [
    "### Looking ahead\n",
    "\n",
    "We have not solved our complete objective yet. Scroll up, and recall what we needed to do: \"*describe what time-based trends we see in the ammonia concentration of a wastewater stream*\". We will look at that coming up, but here is a preview below. What trends do you see?"
   ]
  },
  {
   "cell_type": "code",
   "execution_count": null,
   "metadata": {
    "scrolled": true
   },
   "outputs": [],
   "source": [
    "pyplot.figure(figsize=(20,5))\n",
    "pyplot.plot(ammonia);\n",
    "\n",
    "# Superimpose the median on the plot as a horizontal line (hline):\n",
    "pyplot.hlines(y=ammonia.quantile(0.50), xmin=0, xmax=1440, color=\"orange\");"
   ]
  },
  {
   "cell_type": "code",
   "execution_count": null,
   "metadata": {},
   "outputs": [],
   "source": []
  },
  {
   "cell_type": "code",
   "execution_count": null,
   "metadata": {},
   "outputs": [],
   "source": [
    "\n",
    "import seaborn as sns\n",
    "tips = sns.load_dataset(\"tips\")\n",
    "sns.swarmplot(y=ammonia['Ammonia'],size=4);"
   ]
  }
 ],
 "metadata": {
  "kernelspec": {
   "display_name": "Python [conda env:anaconda]",
   "language": "python",
   "name": "conda-env-anaconda-py"
  },
  "language_info": {
   "codemirror_mode": {
    "name": "ipython",
    "version": 3
   },
   "file_extension": ".py",
   "mimetype": "text/x-python",
   "name": "python",
   "nbconvert_exporter": "python",
   "pygments_lexer": "ipython3",
   "version": "3.5.5"
  },
  "toc": {
   "base_numbering": 1,
   "nav_menu": {},
   "number_sections": true,
   "sideBar": true,
   "skip_h1_title": true,
   "title_cell": "Table of Contents",
   "title_sidebar": "Contents",
   "toc_cell": true,
   "toc_position": {},
   "toc_section_display": true,
   "toc_window_display": false
  }
 },
 "nbformat": 4,
 "nbformat_minor": 2
}
