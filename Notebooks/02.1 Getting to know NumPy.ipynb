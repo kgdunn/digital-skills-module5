{
 "cells": [
  {
   "cell_type": "markdown",
   "metadata": {},
   "source": [
    "All content is under Creative Commons Attribution CC-BY 4.0 and all source code is under BSD-3 clause. Parts of these materials were inspired by https://github.com/engineersCode/EngComp/ (CC-BY 4.0), L.A. Barba, N.C. Clementi.\n",
    "\n",
    "Please reuse, remix, revise, and reshare this content in any way, keeping this notice.\n",
    "\n",
    "**Viewing this on jupyter.org?** Then this notebook will be read-only. To learn how to interact and actually run the Python code in this notebook, visit our [instruction page about Notebooks](https://yint.org/notebooks)."
   ]
  },
  {
   "cell_type": "markdown",
   "metadata": {},
   "source": [
    "# \"Arrays store objects of the same type.\" \n",
    "\n",
    "There's a lot in that sentence:\n",
    "* ***objects***: do you recall what an object is in Python?\n",
    "* ***type***: do you recall what a type is?\n",
    "\n",
    "If not, please look back at prior sections, or read further. And an ***array***: well that is just a collection of these objects. Let's take a look with an example.\n",
    "\n",
    "Here is a collection of floating points objects:\n",
    "\n",
    "``[45.2, 91.2, 67.2, -23.78]``\n",
    "\n",
    "The type of the object is ``float`` (we could have also used ``int`` (integer) objects).\n",
    "\n",
    "Remember you can always confirm the ***type*** of an ***object*** as follows: \n",
    "```python\n",
    ">>> type(45.2)\n",
    ">>> type(42)\n",
    ">>> type('some text')\n",
    "```\n",
    "\n",
    "Now let's collect some objects together, in a list (vector) to start, then as a matrix, then as an array."
   ]
  },
  {
   "cell_type": "markdown",
   "metadata": {},
   "source": [
    "# Vectors, Matrices and Arrays using NumPy\n",
    "\n",
    "Let's quickly get the definitions out of the way, and start:\n",
    "* **Vector**: a sequence of numbers; very much like a `list` in regular Python: [1, 2, 6, -2, 0].\n",
    "\n",
    "\n",
    "* **Matrix**: a 2-dimensional structure of numbers with rows and columns. A vector is simply a matrix, but where one of the dimensions is equal to 1 -- either one row, or one column. \n",
    "    \n",
    "    You could crudely store a matrix in regular Python using a list of lists, where the main list contains entries which themselves are lists. But while a \"list of lists\" could store your numbers, it would not be great for calculations, such as matrix multiplication. This is where NumPy comes in.\n",
    "    \n",
    "    \n",
    "* **Array**: an *n*-dimensional structure of numbers; a general form of a matrix, but with multiple dimensions. \n",
    "\n",
    "    For example, a 3-dimensional array here shows data collected in a lab: we are performing the experiment several times (N), in each experiment we have several sensors (K), and we set the sensors to collect data on a regular interval so that we end up with J samples per experiment, per sensor.\n",
    "\n",
    "\n",
    "<img src=\"images/batch-data-layers-into-page-3d-structure.png\" style=\"width: 400px;\"/> \n",
    "\n",
    "Storing the data like this is useful, because now you could perform calculations on all experiments over all time, for all sensors in array X.\n",
    "\n",
    "*For example:* you can calculate the average in the direction of arrow $J$, to reduce the *array* to a *matrix*. That matrix would be the average value of the sensor for the experiments. That reduced matrix would have $N$ rows and $K$ columns.\n",
    "\n",
    "Engineering applications benefit from using *vectors*, or *matrices* or *arrays*: they are sequences of data all of the _same type_. Arrays behave a lot like lists in Python, except for the constraint that all elements have the same type. \n"
   ]
  },
  {
   "cell_type": "markdown",
   "metadata": {},
   "source": [
    "## Introducing NumPy for working with arrays\n",
    "\n",
    "There is an important Python library in science and engineering, called **NumPy**, \n",
    "that provides support for _n-dimensional array_ data structures (a.k.a, `ndarray`).\n",
    "\n",
    "Let us import that library and get started."
   ]
  },
  {
   "cell_type": "markdown",
   "metadata": {},
   "source": [
    "## Importing libraries\n",
    "\n",
    "First, a word on importing libraries to expand your running Python session. Because libraries are large collections of code and are for special purposes, they are not loaded automatically when you launch Python (or IPython, or Jupyter). You have to import a library using the `import` command. For example, to import **NumPy**, you can enter:\n",
    "\n",
    "```python\n",
    "import numpy\n",
    "```\n",
    "\n",
    "Once you execute that command in a code cell, you can call any NumPy function using the dot notation, prepending the library name. For example, some commonly used functions are:\n",
    "\n",
    "* [`numpy.linspace()`](https://docs.scipy.org/doc/numpy/reference/generated/numpy.linspace.html)\n",
    "* [`numpy.ones()`](https://docs.scipy.org/doc/numpy/reference/generated/numpy.ones.html#numpy.ones)\n",
    "* [`numpy.zeros()`](https://docs.scipy.org/doc/numpy/reference/generated/numpy.zeros.html#numpy.zeros)\n",
    "* [`numpy.copy()`](https://docs.scipy.org/doc/numpy/reference/generated/numpy.copy.html#numpy.copy)\n",
    "\n",
    "\n",
    "Part of the community effort to creating the NumPy library, is also an effort at maintaining excellent documentation. \n",
    "\n",
    "### To try:\n",
    ">Click and read one of those links to explore the documentation - the pages each have the same layout, so once you know where to look, you can quickly search and refer to the documentation for other functions.\n",
    "\n",
    "                   "
   ]
  },
  {
   "cell_type": "markdown",
   "metadata": {},
   "source": [
    "##### Warning:\n",
    "\n",
    "You will find _a lot_ of source code that uses a different syntax for importing. Most often you will see:\n",
    "```python\n",
    "import numpy as np\n",
    "```\n",
    "All this does is create an alias for `numpy` with the shorter string `np`, so you then would call a **NumPy** function like this: `np.linspace()`. This is just an alternative way of doing it. It is arguably better that you are explicit, but practicality and code reuse often dictates that people write it with ``np`` instead."
   ]
  },
  {
   "cell_type": "code",
   "execution_count": 2,
   "metadata": {},
   "outputs": [],
   "source": [
    "import numpy\n",
    "import numpy as np    # both do the same"
   ]
  },
  {
   "cell_type": "markdown",
   "metadata": {},
   "source": [
    "## Creating your first array .... well vector, to be specific\n",
    "\n",
    "To create a NumPy array from an existing Python ``list`` of numbers, we use **`numpy.array()`**, like this:"
   ]
  },
  {
   "cell_type": "code",
   "execution_count": 3,
   "metadata": {},
   "outputs": [
    {
     "data": {
      "text/plain": [
       "array([ 3,  4,  7, -2, 11])"
      ]
     },
     "execution_count": 3,
     "metadata": {},
     "output_type": "execute_result"
    }
   ],
   "source": [
    "my_list = [3, 4, 7, -2, 11]\n",
    "np.array(my_list)\n",
    "\n",
    "# or more compactly, without the intermediate variable:\n",
    "np.array([3, 4, 7, -2, 11])"
   ]
  },
  {
   "cell_type": "markdown",
   "metadata": {},
   "source": [
    "### To try:\n",
    "\n",
    ">Create an array of 11 numbers below, some negative, some positive, some integers, some floating point\n"
   ]
  },
  {
   "cell_type": "code",
   "execution_count": null,
   "metadata": {},
   "outputs": [],
   "source": [
    "# Create an array of 11 numbers\n",
    "eleven = np.array([ ... ])\n",
    "print(eleven)\n",
    "print(len(eleven))  # verify the length"
   ]
  },
  {
   "cell_type": "markdown",
   "metadata": {},
   "source": [
    "In general, a Python list can have elements of different types:\n",
    "\n",
    "```new_list = ['abc', 123, 456.7]```\n",
    "\n",
    "### To try:\n",
    "\n",
    "> Python allows you to create lists of mixed types. Add a string entry to your list, and try creating an array. Does this break NumPy and give an error message\n",
    ". ***What happens?***\n",
    "\n",
    "In this list there are 3 objects, of 3 different types. Try running the code below to verify:"
   ]
  },
  {
   "cell_type": "code",
   "execution_count": null,
   "metadata": {},
   "outputs": [],
   "source": [
    "my_list = ['abc', 123, 456.7]        # Adv: try adding np.NaN as a 4th element, and re-run this code\n",
    "print([type(k) for k in my_list])    # remember list comprehensions?\n",
    "np.array(my_list)"
   ]
  },
  {
   "cell_type": "markdown",
   "metadata": {},
   "source": [
    "### Coming next\n",
    "\n",
    "We will show how the NumPy library can be used to create matrices and arrays, not just vectors.\n",
    "\n"
   ]
  }
 ],
 "metadata": {
  "kernelspec": {
   "display_name": "Python [conda env:anaconda]",
   "language": "python",
   "name": "conda-env-anaconda-py"
  },
  "language_info": {
   "codemirror_mode": {
    "name": "ipython",
    "version": 3
   },
   "file_extension": ".py",
   "mimetype": "text/x-python",
   "name": "python",
   "nbconvert_exporter": "python",
   "pygments_lexer": "ipython3",
   "version": "3.5.5"
  }
 },
 "nbformat": 4,
 "nbformat_minor": 2
}
