{
 "cells": [
  {
   "cell_type": "markdown",
   "metadata": {
    "toc": true
   },
   "source": [
    "<h1>Table of Contents<span class=\"tocSkip\"></span></h1>\n",
    "<div class=\"toc\"><ul class=\"toc-item\"><li><span><a href=\"#Scalars\" data-toc-modified-id=\"Scalars-1\"><span class=\"toc-item-num\">1&nbsp;&nbsp;</span>Scalars</a></span></li><li><span><a href=\"#Vectors\" data-toc-modified-id=\"Vectors-2\"><span class=\"toc-item-num\">2&nbsp;&nbsp;</span>Vectors</a></span></li><li><span><a href=\"#Matrix\" data-toc-modified-id=\"Matrix-3\"><span class=\"toc-item-num\">3&nbsp;&nbsp;</span>Matrix</a></span></li><li><span><a href=\"#Array\" data-toc-modified-id=\"Array-4\"><span class=\"toc-item-num\">4&nbsp;&nbsp;</span>Array</a></span></li><li><span><a href=\"#Introducing-NumPy-for-working-with-arrays\" data-toc-modified-id=\"Introducing-NumPy-for-working-with-arrays-5\"><span class=\"toc-item-num\">5&nbsp;&nbsp;</span>Introducing NumPy for working with arrays</a></span></li><li><span><a href=\"#Importing-libraries\" data-toc-modified-id=\"Importing-libraries-6\"><span class=\"toc-item-num\">6&nbsp;&nbsp;</span>Importing libraries</a></span></li><li><span><a href=\"#Creating-your-first-array-....-well-vector,-to-be-specific\" data-toc-modified-id=\"Creating-your-first-array-....-well-vector,-to-be-specific-7\"><span class=\"toc-item-num\">7&nbsp;&nbsp;</span>Creating your first array .... well vector, to be specific</a></span></li></ul></div>"
   ]
  },
  {
   "cell_type": "markdown",
   "metadata": {},
   "source": [
    ">All content is released under Creative Commons Attribution [CC-BY 4.0](https://creativecommons.org/licenses/by/4.0/) and all source code is released under a [BSD-3 clause license](https://en.wikipedia.org/wiki/BSD_licenses). Parts of these materials were inspired by https://github.com/engineersCode/EngComp/ (CC-BY 4.0), L.A. Barba, N.C. Clementi.\n",
    ">\n",
    ">Please reuse, remix, revise, and reshare this content in any way, keeping this notice. [Report issues please](https://github.com/kgdunn/digital-skills-module5/issues).\n",
    ">\n",
    "><img style=\"float: right;\" width=\"150px\" src=\"images/jupyter-logo.png\">**Are you viewing this on jupyter.org?** Then this notebook will be read-only. <br>\n",
    ">See how you can interactively run the code in this notebook by visiting our [instruction page about Notebooks](https://yint.org/notebooks). "
   ]
  },
  {
   "cell_type": "markdown",
   "metadata": {},
   "source": [
    "### Warning\n",
    "\n",
    "<img src=\"images/general/128px-Achtung.svg.png\" style=\"width: 100px; float:right \"/> \n",
    "> We start here with terminology. Then we get to apply it very briefly at the end of the notebook.\n",
    ">\n",
    ">If you are comfortable with the terms of *vectors*, *arrays*, *matrix*, Python *libraries*, then safely skim and scroll to the end of this notebook. \n",
    ">\n",
    ">Otherwise, please read this carefully. Learners come from a wide variety of backgrounds, and we hope to get everyone to the same level of understanding."
   ]
  },
  {
   "cell_type": "markdown",
   "metadata": {},
   "source": [
    "# \"Arrays store objects of the same type.\" \n",
    "\n",
    "There's a lot in that sentence:\n",
    "* ***objects***: do you recall what an object is in Python?\n",
    "* ***type***: do you recall what a type is?\n",
    "\n",
    "A quick recap might be helpful:\n",
    "* ***everything in Python is an object***. For example, a numeric value, a string, a list, a dictionary. These are all just objects. Objects can be assigned to a variable, and they can also be the inputs for a function.\n",
    "* ***``type(object)``*** will tell you which type of object you have. For example ``type(45.2)`` will give ``float`` as a reply.\n",
    "\n",
    "So now you should understand that an ***array*** is just a collection of these objects. Let's take a look with an example.\n",
    "\n",
    "Here is a collection of floating points objects:\n",
    "\n",
    "``[45.2, 91.2, 67.2, -23.78]``\n",
    "\n",
    "The type of the object is ``float`` (we could have also used ``int`` (integer) objects). The 4 objects are collected in a list, and that list is also an object.\n",
    "\n",
    "Remember you can always confirm the ***type*** of an ***object*** as follows: \n",
    "```python\n",
    ">>> type(45.2)\n",
    ">>> type(42)\n",
    ">>> type('some text')\n",
    ">>> type([45.2, 91.2, 67.2, -23.78])\n",
    "```"
   ]
  },
  {
   "cell_type": "code",
   "execution_count": null,
   "metadata": {},
   "outputs": [],
   "source": [
    "# Try it! Reenter the code above, and verify the type of each object\n",
    "type(...)"
   ]
  },
  {
   "cell_type": "markdown",
   "metadata": {},
   "source": [
    "# Vectors, Matrices and Arrays using NumPy\n",
    "\n",
    "Let's quickly get a few definitions out of the way, and start:\n",
    "\n",
    "Now let's collect some objects together, first singley (scalar), then in a list (vector), then as a 'spreadsheet' (matrix), then as an array.\n",
    "\n",
    "\n",
    "## Scalars\n",
    "\n",
    "If our collection of (numeric) objects coincidentally is only a single number, we call that a ***scalar***.\n",
    "* ```python\n",
    "scalar_1 = 45.2```\n",
    "* ```python\n",
    "scalar_2 = 0```\n",
    "* ```python\n",
    "scalar_3 = -12```\n",
    "\n",
    "## Vectors\n",
    "\n",
    "A collection of scalars in a single row, or column, is very much like a `list` in regular Python. This collection we then call a ***vector***.\n",
    "* ```python \n",
    "list_1 = [1, 2, 6, -2, 0]```\n",
    "* ```python \n",
    "list_2 = [0, 0, 0, 0, 0, 0, 0, 0]```\n",
    "* ```python \n",
    "list_3 = [254.2, 501, 368.4, 697, 476.5, 188.2, 525.6, 451, 514]```\n",
    "\n",
    "\n",
    "We say this collection has a single dimension: a single row of numbers, or a single column of numbers. If there coincidentally is 1 number in the collection, we simply call that a scalar. But in theory we can store as many numbers as we like in our vector.\n",
    "\n",
    "Think, for example, the pressure measured outside an aircraft every second, during the duration of a flight. This 1-dimensional sequence is called a vector.\n",
    "\n",
    "## Matrix\n",
    "\n",
    "If we take several 1-dimensional vectors, but **each one of the same length**, and put them together, side-by-side then we get a ***matrix***. \n",
    "\n",
    "* ```python \n",
    "matrix_1 = [ [1, 2, 6, -2], [4, 3, 2, 1] ]   # has 2 rows and 4 columns```\n",
    "* ```python \n",
    "matrix_2 = [ [0, 0, 0], [0, 0, 0], [0, 0, 0] ]   # has 3 rows and 3 columns```\n",
    "\n",
    "You could crudely store, as we showed above, a matrix by using a list of lists, where the main list (the outside list) contains objects which themselves are lists. But while this \"list-of-lists\" approach can store your data, it would not be great for calculations. \n",
    "    \n",
    "Notice that a vector is simply a matrix, but where one of the dimensions is equal to 1: either 1 row, or 1 column. \n",
    "\n",
    "Matrices are widely used in engineering and data analysis. Often each row is an object, or a sample, or an observation. And each column represents some sort of value measured on that object or sample. For example:\n",
    "<table>\n",
    "  <tr>\n",
    "    <th></th>\n",
    "    <th>Measurement 1</th>\n",
    "    <th>Measurement 2</th>\n",
    "    <th>Variable 3</th>\n",
    "    <th>Variable 4</th>\n",
    "  </tr>\n",
    "  <tr class=\"odd\">\n",
    "    <td>Sample 1</td>\n",
    "    <td>5.5</td>\n",
    "    <td>0.55</td>\n",
    "    <td>-23.4</td>\n",
    "    <td>561522.2</td>\n",
    "  </tr>\n",
    "  <tr class=\"odd\">\n",
    "    <td>Sample 2</td>\n",
    "    <td>6.7</td>\n",
    "    <td>0.44</td>\n",
    "    <td>-22.2</td>\n",
    "    <td>526616.4</td>\n",
    "  </tr>\n",
    "  <tr class=\"odd\">\n",
    "    <td>Sample 3</td>\n",
    "    <td>4.9</td>\n",
    "    <td>0.61</td>\n",
    "    <td>-38.1</td>\n",
    "    <td>612515.7</td>\n",
    "  </tr>\n",
    "</table>\n",
    "\n",
    "\n",
    "## Array\n",
    "\n",
    "If we take several 2-dimensional matrices, but **each one with the same number of rows and column**, and put them together, then we get a ***3-dimensional array***. \n",
    "\n",
    "A matrix was a list-of-lists. We can go up to a third dimension and make a list-of-lists-of-lists. \n",
    "\n",
    "Why stop there? We can go to higher and higher dimensions. We use a general names for such a collection of (numeric) objects: an ***array***. \n",
    "\n",
    "An array is an *n*-dimensional structure of numbers. You can therefore say:\n",
    "* a vector is a 1-dimenional data structure\n",
    "* a matrix is a 2-dimenional data structure\n",
    "* an array is an *n*-dimensional data structure\n",
    "\n",
    "\n",
    "<img src=\"images/numpy/batch-data-layers-into-page-3d-structure.png\" style=\"width: 400px; float: right\"/> \n",
    "\n",
    "For example, a 3-dimensional array here shows data collected in a lab: we are performing the experiment several times (``N``, the layers - each layer is a matrix actually - that lies on top of each other). \n",
    "\n",
    "In each experiment we collect a matrix of data from several sensors. There are ``K`` sensors. We set the sensors to collect data on a regular interval, once every 3 seconds, for example, so that we end up with exactly the same number of samples per sensor, ``J`` values per sensor.\n",
    "\n",
    "\n",
    "\n",
    "\n",
    "Storing the data like this is useful, because now you could perform calculations on all experiments over all time, for all sensors in array X.\n",
    "\n",
    "*For example:* you can calculate the average in the direction of arrow ``J``, to reduce the *array* to a *matrix*. That matrix would be the average value of the sensor for the experiments. That reduced matrix would have ``N`` rows and ``K`` columns.\n",
    "\n",
    "Engineering applications benefit from using *vectors*, or *matrices* or *arrays*: they are sequences of data all of the _same type_. Arrays behave a lot like lists in Python, except for the constraint that all elements have the same type. \n"
   ]
  },
  {
   "cell_type": "markdown",
   "metadata": {},
   "source": [
    "## Introducing NumPy for working with arrays\n",
    "\n",
    "There is an important Python library in science and engineering, called **NumPy**, \n",
    "that provides support for _n-dimensional array_ data structures (a.k.a, `ndarray`).\n",
    "\n",
    "Let us import that library and get started."
   ]
  },
  {
   "cell_type": "markdown",
   "metadata": {},
   "source": [
    "## Importing libraries\n",
    "\n",
    "First, a word on importing libraries to expand your running Python session. Because libraries are large collections of code and are for special purposes, they are not loaded automatically when you launch Python (or IPython, or Jupyter). You have to import a library using the `import` command. For example, to import **NumPy**, you can enter:\n",
    "\n",
    "```python\n",
    "import numpy\n",
    "```\n",
    "\n",
    "Once you execute that command in a code cell, you can call any NumPy function using the dot notation, prepending the library name. For example, some commonly used functions are:\n",
    "\n",
    "* [`numpy.sqrt()`](https://docs.scipy.org/doc/numpy/reference/generated/numpy.sqrt.html)\n",
    "* [`numpy.ones()`](https://docs.scipy.org/doc/numpy/reference/generated/numpy.ones.html#numpy.ones)\n",
    "* [`numpy.zeros()`](https://docs.scipy.org/doc/numpy/reference/generated/numpy.zeros.html#numpy.zeros)\n",
    "* [`numpy.copy()`](https://docs.scipy.org/doc/numpy/reference/generated/numpy.copy.html#numpy.copy)\n",
    "\n",
    "\n",
    "Part of the community effort to creating the NumPy library, is also an effort at maintaining excellent documentation. \n",
    "\n",
    "### To try:\n",
    ">Click and read one of those links to explore the documentation - the pages each have the same layout, so once you know where to look, you can quickly search and refer to the documentation for other functions.\n",
    "\n",
    "                   "
   ]
  },
  {
   "cell_type": "markdown",
   "metadata": {},
   "source": [
    "#### Warning:\n",
    "\n",
    ">You will find _a lot_ of source code that uses a different syntax for importing. Most often you will see:\n",
    ">```python\n",
    ">import numpy as np\n",
    ">```\n",
    ">All this does is create an alias for `numpy` with the shorter string `np`, so you then would call a **NumPy** function like this: `np.linspace()` instead of the lengthier ``numpy.linspace()``.\n",
    ">\n",
    "> This is just an alternative way of doing it. It is arguably better that you are explicit (using the full ``numpy.``), but practicality, code reuse, and screen real-estate often dictate that people write it simply as ``np``. Both are fine."
   ]
  },
  {
   "cell_type": "code",
   "execution_count": 1,
   "metadata": {},
   "outputs": [],
   "source": [
    "import numpy\n",
    "import numpy as np    # both do the same"
   ]
  },
  {
   "cell_type": "markdown",
   "metadata": {},
   "source": [
    "## Creating your first array .... well vector, to be specific\n",
    "\n",
    "To create a NumPy array from an existing Python ``list`` of numbers, we use **`numpy.array()`**, like this:"
   ]
  },
  {
   "cell_type": "code",
   "execution_count": 2,
   "metadata": {},
   "outputs": [
    {
     "data": {
      "text/plain": [
       "array([ 3,  4,  7, -2, 11])"
      ]
     },
     "execution_count": 2,
     "metadata": {},
     "output_type": "execute_result"
    }
   ],
   "source": [
    "my_list = [3, 4, 7, -2, 11]\n",
    "np.array(my_list)\n",
    "\n",
    "# or more compactly, without the intermediate variable:\n",
    "np.array([3, 4, 7, -2, 11])"
   ]
  },
  {
   "cell_type": "markdown",
   "metadata": {},
   "source": [
    "### To try:\n",
    "\n",
    ">Create an array of 11 numbers below, some negative, some positive, some integers, some floating point\n"
   ]
  },
  {
   "cell_type": "code",
   "execution_count": null,
   "metadata": {},
   "outputs": [],
   "source": [
    "# Create a vector of 11 numbers\n",
    "eleven = np.array([ ... ])\n",
    "print(eleven)\n",
    "print(len(eleven))  # verify the length"
   ]
  },
  {
   "cell_type": "markdown",
   "metadata": {},
   "source": [
    "In general, a Python list can have elements of different types:\n",
    "\n",
    "```new_list = ['abc', 123, 456.7]```\n",
    "\n",
    "### To try:\n",
    "\n",
    "> Python allows you to create lists of mixed types. Add a string entry to your list, and try creating an array. Does this break NumPy and give an error message\n",
    ". ***What happens?***\n",
    "\n",
    "In this list there are 3 objects, of 3 different types. Try running the code below to verify:"
   ]
  },
  {
   "cell_type": "code",
   "execution_count": null,
   "metadata": {},
   "outputs": [],
   "source": [
    "my_list = ['abc', 123, 456.7]        # Adv: try adding np.NaN as a 4th element, and re-run this code\n",
    "print([type(k) for k in my_list])    # remember list comprehensions?\n",
    "np.array(my_list)"
   ]
  },
  {
   "cell_type": "markdown",
   "metadata": {},
   "source": [
    "### Coming next\n",
    "\n",
    "We will show how the NumPy library can be used to create matrices and arrays, not just vectors.\n",
    "\n"
   ]
  }
 ],
 "metadata": {
  "kernelspec": {
   "display_name": "Python [conda env:anaconda]",
   "language": "python",
   "name": "conda-env-anaconda-py"
  },
  "language_info": {
   "codemirror_mode": {
    "name": "ipython",
    "version": 3
   },
   "file_extension": ".py",
   "mimetype": "text/x-python",
   "name": "python",
   "nbconvert_exporter": "python",
   "pygments_lexer": "ipython3",
   "version": "3.5.5"
  },
  "toc": {
   "base_numbering": 1,
   "nav_menu": {},
   "number_sections": true,
   "sideBar": true,
   "skip_h1_title": true,
   "title_cell": "Table of Contents",
   "title_sidebar": "Contents",
   "toc_cell": true,
   "toc_position": {},
   "toc_section_display": true,
   "toc_window_display": false
  }
 },
 "nbformat": 4,
 "nbformat_minor": 2
}
