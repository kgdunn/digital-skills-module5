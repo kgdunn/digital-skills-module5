{
 "cells": [
  {
   "cell_type": "markdown",
   "metadata": {},
   "source": [
    "###### Content originally from https://github.com/engineersCode/EngComp\n",
    "##### Licensed under Creative Commons Attribution license CC-BY 4.0, code under BSD 3-Clause License © 2017 L.A. Barba, N.C. Clementi\n",
    "##### Adapted for Digital Skills course, TU Delft, 2018"
   ]
  },
  {
   "cell_type": "markdown",
   "metadata": {},
   "source": [
    "## \"Arrays store objects of the same type.\" \n",
    "\n",
    "There's a lot in that sentence:\n",
    "* objects: do you recall what an object is in Python?\n",
    "* type: do you recall what a type is?\n",
    "\n",
    "If not, please look back at prior sections, or read further. And an **array**: well that is just a collection of these objects.\n",
    "\n",
    "Here is a collection of floating points objects:\n",
    "\n",
    "``[45.2, 91.2, 67.2, -23.78]``\n",
    "\n",
    "The type of the object is ``float``; we could have also used ``int`` (integer) objects.\n",
    "\n",
    "You can confirm the type of something as follows: \n",
    "```python\n",
    ">>> type(45.2)\n",
    ">>> type(42)\n",
    "```\n",
    "\n",
    "## Introducing NumPy for working with arrays\n",
    "\n",
    "\n",
    "There is an important Python library in science and engineering, called **NumPy**, \n",
    "that provides support for _n-dimensional array_ data structures (a.k.a, `ndarray`).\n",
    "\n",
    "Let us import that library and get started."
   ]
  },
  {
   "cell_type": "markdown",
   "metadata": {},
   "source": [
    "## Importing libraries\n",
    "\n",
    "First, a word on importing libraries to expand your running Python session. Because libraries are large collections of code and are for special purposes, they are not loaded automatically when you launch Python (or IPython, or Jupyter). You have to import a library using the `import` command. For example, to import **NumPy**, you can enter:\n",
    "\n",
    "```python\n",
    "import numpy\n",
    "```\n",
    "\n",
    "Once you execute that command in a code cell, you can call any NumPy function using the dot notation, prepending the library name. For example, some commonly used functions are:\n",
    "\n",
    "* [`numpy.linspace()`](https://docs.scipy.org/doc/numpy/reference/generated/numpy.linspace.html)\n",
    "* [`numpy.ones()`](https://docs.scipy.org/doc/numpy/reference/generated/numpy.ones.html#numpy.ones)\n",
    "* [`numpy.zeros()`](https://docs.scipy.org/doc/numpy/reference/generated/numpy.zeros.html#numpy.zeros)\n",
    "* [`numpy.empty()`](https://docs.scipy.org/doc/numpy/reference/generated/numpy.empty.html#numpy.empty)\n",
    "* [`numpy.copy()`](https://docs.scipy.org/doc/numpy/reference/generated/numpy.copy.html#numpy.copy)\n",
    "\n",
    "\n",
    "Part of the community effort to creating the NumPy library, is also an effort at good documentation. \n",
    "\n",
    "### To try:\n",
    "Click and read one of those links to explore the documentation - the pages each have the same layout, so once you know where to look, you can quickly search and refer to the documentation for other functions.\n",
    "\n",
    "                   "
   ]
  },
  {
   "cell_type": "markdown",
   "metadata": {},
   "source": [
    "##### Warning:\n",
    "\n",
    "You will find _a lot_ of source code that uses a different syntax for importing. Most often you will see:\n",
    "```python\n",
    "import numpy as np\n",
    "```\n",
    "All this does is create an alias for `numpy` with the shorter string `np`, so you then would call a **NumPy** function like this: `np.linspace()`. This is just an alternative way of doing it. It is arguably better that you are explicit, but practicality and code reuse often dictates that people write it with ``np`` instead."
   ]
  },
  {
   "cell_type": "code",
   "execution_count": 1,
   "metadata": {},
   "outputs": [],
   "source": [
    "import numpy\n",
    "import numpy as np    # both do the same"
   ]
  },
  {
   "cell_type": "markdown",
   "metadata": {},
   "source": [
    "## Creating an array\n",
    "\n",
    "To create a NumPy array from an existing Python ``list`` of numbers, we use **`numpy.array()`**, like this:"
   ]
  },
  {
   "cell_type": "code",
   "execution_count": 2,
   "metadata": {},
   "outputs": [
    {
     "data": {
      "text/plain": [
       "array([ 3,  4,  7, -2, 11])"
      ]
     },
     "execution_count": 2,
     "metadata": {},
     "output_type": "execute_result"
    }
   ],
   "source": [
    "my_list = [3, 4, 7, -2, 11]\n",
    "np.array(my_list)\n",
    "\n",
    "# or more compactly, without the intermediate variable:\n",
    "np.array([3, 4, 7, -2, 11])"
   ]
  },
  {
   "cell_type": "markdown",
   "metadata": {},
   "source": [
    "### To try:\n",
    "\n",
    "1. Create an array of 11 numbers, some negative, some positive, some integers, some floating point\n",
    "2. Try and break NumPy: Python allows you to create lists of mixed types. Add a string entry to your list, and try creating an array. ***What happens?***"
   ]
  }
 ],
 "metadata": {
  "kernelspec": {
   "display_name": "Python [conda env:anaconda]",
   "language": "python",
   "name": "conda-env-anaconda-py"
  },
  "language_info": {
   "codemirror_mode": {
    "name": "ipython",
    "version": 3
   },
   "file_extension": ".py",
   "mimetype": "text/x-python",
   "name": "python",
   "nbconvert_exporter": "python",
   "pygments_lexer": "ipython3",
   "version": "3.5.5"
  }
 },
 "nbformat": 4,
 "nbformat_minor": 2
}
