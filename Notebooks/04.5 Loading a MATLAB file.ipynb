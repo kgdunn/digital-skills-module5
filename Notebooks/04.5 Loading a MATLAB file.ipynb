{
 "cells": [
  {
   "cell_type": "markdown",
   "metadata": {},
   "source": [
    "using Scipy: ``scipy.io.loadmat(...)``\n",
    "\n",
    "\n",
    "MATLAB files are a proprietary file format specified by The MathWorks, a software company aimed at engineers and scientists. You might encounter files of this type at some point, so we show how you can:\n",
    "* read \n",
    "* write \n",
    "\n",
    "files of this type."
   ]
  }
 ],
 "metadata": {
  "kernelspec": {
   "display_name": "Python [conda env:anaconda]",
   "language": "python",
   "name": "conda-env-anaconda-py"
  },
  "language_info": {
   "codemirror_mode": {
    "name": "ipython",
    "version": 3
   },
   "file_extension": ".py",
   "mimetype": "text/x-python",
   "name": "python",
   "nbconvert_exporter": "python",
   "pygments_lexer": "ipython3",
   "version": "3.5.5"
  }
 },
 "nbformat": 4,
 "nbformat_minor": 2
}
