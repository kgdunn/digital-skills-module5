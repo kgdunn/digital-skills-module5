{
 "cells": [
  {
   "cell_type": "markdown",
   "metadata": {},
   "source": [
    ">All content is under Creative Commons Attribution CC-BY 4.0 and all source code is under BSD-3 clause. \n",
    ">\n",
    ">Please reuse, remix, revise, and reshare this content in any way, keeping this notice.\n",
    ">\n",
    ">**Viewing this on jupyter.org?** Then this notebook will be read-only. To learn how to interact and actually run the Python code in this notebook, visit our [instruction page about Notebooks](https://yint.org/notebooks)."
   ]
  },
  {
   "cell_type": "markdown",
   "metadata": {},
   "source": [
    "# Simple elementwise functions and operations on a NumPy array\n",
    "\n",
    "Once we have created an array - [see the prior notebooks](./) - we are then ready to actually use them for calculations!\n",
    "\n",
    "Let us consider these calculations:\n",
    "1. Addition and subtraction\n",
    "2. Multiplication and division (element-by-element)\n",
    "3. Square roots and other powers\n",
    "4. Trigonometric and other functions"
   ]
  },
  {
   "cell_type": "markdown",
   "metadata": {},
   "source": [
    "## 1. Addition and subtraction\n",
    "\n",
    "NumPy can add to, or subtract from two arrays with the same shape. We will use array ``A`` and ``B`` in these examples."
   ]
  },
  {
   "cell_type": "code",
   "execution_count": 1,
   "metadata": {},
   "outputs": [
    {
     "name": "stdout",
     "output_type": "stream",
     "text": [
      "A = \n",
      "[[1. 1. 1. 1. 1.]\n",
      " [1. 1. 1. 1. 1.]\n",
      " [1. 1. 1. 1. 1.]\n",
      " [1. 1. 1. 1. 1.]\n",
      " [1. 1. 1. 1. 1.]]\n",
      "\n",
      "B = \n",
      "[[1. 1. 1. 1. 1.]\n",
      " [1. 1. 1. 1. 1.]\n",
      " [1. 1. 1. 1. 1.]\n",
      " [1. 1. 1. 1. 1.]\n",
      " [1. 1. 1. 1. 1.]]\n"
     ]
    }
   ],
   "source": [
    "import numpy as np\n",
    "\n",
    "A = np.ones(shape=(5,5))\n",
    "B = np.ones(shape=(5,5))\n",
    "print('A = \\n{}\\n\\nB = \\n{}'.format(A, B))"
   ]
  },
  {
   "cell_type": "code",
   "execution_count": 2,
   "metadata": {},
   "outputs": [
    {
     "name": "stdout",
     "output_type": "stream",
     "text": [
      "[[2. 2. 2. 2. 2.]\n",
      " [2. 2. 2. 2. 2.]\n",
      " [2. 2. 2. 2. 2.]\n",
      " [2. 2. 2. 2. 2.]\n",
      " [2. 2. 2. 2. 2.]]\n"
     ]
    }
   ],
   "source": [
    "print(A + B)"
   ]
  },
  {
   "cell_type": "markdown",
   "metadata": {},
   "source": [
    "The ``+`` operation on two arrays is actually just a convenience. The actual function in NumPy which is being called to do the work is the ``np.add(...)`` function. \n",
    "\n",
    "Try this to verify:"
   ]
  },
  {
   "cell_type": "code",
   "execution_count": 3,
   "metadata": {},
   "outputs": [
    {
     "name": "stdout",
     "output_type": "stream",
     "text": [
      "[[2. 2. 2. 2. 2.]\n",
      " [2. 2. 2. 2. 2.]\n",
      " [2. 2. 2. 2. 2.]\n",
      " [2. 2. 2. 2. 2.]\n",
      " [2. 2. 2. 2. 2.]]\n"
     ]
    }
   ],
   "source": [
    "print(np.add(A, B))"
   ]
  },
  {
   "cell_type": "markdown",
   "metadata": {},
   "source": [
    "Similarly, we have the `-` and `.subtract()` functions that serve the same purpose:"
   ]
  },
  {
   "cell_type": "code",
   "execution_count": 4,
   "metadata": {},
   "outputs": [
    {
     "name": "stdout",
     "output_type": "stream",
     "text": [
      "[[0. 0. 0. 0. 0.]\n",
      " [0. 0. 0. 0. 0.]\n",
      " [0. 0. 0. 0. 0.]\n",
      " [0. 0. 0. 0. 0.]\n",
      " [0. 0. 0. 0. 0.]]\n",
      "[[0. 0. 0. 0. 0.]\n",
      " [0. 0. 0. 0. 0.]\n",
      " [0. 0. 0. 0. 0.]\n",
      " [0. 0. 0. 0. 0.]\n",
      " [0. 0. 0. 0. 0.]]\n",
      "[[0. 0. 0. 0. 0.]\n",
      " [0. 0. 0. 0. 0.]\n",
      " [0. 0. 0. 0. 0.]\n",
      " [0. 0. 0. 0. 0.]\n",
      " [0. 0. 0. 0. 0.]]\n"
     ]
    }
   ],
   "source": [
    "print(A - B)\n",
    "print(np.subtract(A, B)) # does the same thing as the prior line of code\n",
    "print(np.add(A, -B))     # and this produces the same result"
   ]
  },
  {
   "cell_type": "markdown",
   "metadata": {},
   "source": [
    "These are element-by-element operations. That means, NumPy performed the operation of addition on each corresponding element in the arrays `A` and `B` and then repeats that entry-by-entry. This is also called element-wise in NumPy's documentation.\n",
    "\n",
    "NumPy will also allow you take shortcuts. Imagine that you want to subtract the value of 3 from every entry in matrix `A`. You no not first need to create a matrix with the same shape as ``A`` contain the value of 3, and then go subract that. \n",
    "\n",
    "**There is a shortcut: **"
   ]
  },
  {
   "cell_type": "code",
   "execution_count": 5,
   "metadata": {},
   "outputs": [
    {
     "name": "stdout",
     "output_type": "stream",
     "text": [
      "[[-2. -2. -2. -2. -2.]\n",
      " [-2. -2. -2. -2. -2.]\n",
      " [-2. -2. -2. -2. -2.]\n",
      " [-2. -2. -2. -2. -2.]\n",
      " [-2. -2. -2. -2. -2.]]\n"
     ]
    }
   ],
   "source": [
    "print(A - 3)  # still does element-by-element calculations"
   ]
  },
  {
   "cell_type": "markdown",
   "metadata": {},
   "source": [
    "## 2. Multiplication and division (element-by-element)\n",
    "\n",
    "Multiplication and division can also be done element-by-element. "
   ]
  },
  {
   "cell_type": "code",
   "execution_count": 6,
   "metadata": {},
   "outputs": [
    {
     "name": "stdout",
     "output_type": "stream",
     "text": [
      "[[ 1.  2.  3.  4.  5.]\n",
      " [ 6.  7.  8.  9. 10.]\n",
      " [11. 12. 13. 14. 15.]\n",
      " [16. 17. 18. 19. 20.]\n",
      " [21. 22. 23. 24. 25.]]\n"
     ]
    }
   ],
   "source": [
    "import numpy as np\n",
    "C = np.reshape(np.linspace(1, 25, 25), (5, 5))\n",
    "print(C)"
   ]
  },
  {
   "cell_type": "markdown",
   "metadata": {},
   "source": [
    "Now go multiply every value in matrix `C` by 2.0 as follows:"
   ]
  },
  {
   "cell_type": "code",
   "execution_count": 7,
   "metadata": {},
   "outputs": [
    {
     "name": "stdout",
     "output_type": "stream",
     "text": [
      "[[ 2.  4.  6.  8. 10.]\n",
      " [12. 14. 16. 18. 20.]\n",
      " [22. 24. 26. 28. 30.]\n",
      " [32. 34. 36. 38. 40.]\n",
      " [42. 44. 46. 48. 50.]]\n",
      "[[ 2.  4.  6.  8. 10.]\n",
      " [12. 14. 16. 18. 20.]\n",
      " [22. 24. 26. 28. 30.]\n",
      " [32. 34. 36. 38. 40.]\n",
      " [42. 44. 46. 48. 50.]]\n",
      "[[0. 0. 0. 0. 0.]\n",
      " [0. 0. 0. 0. 0.]\n",
      " [0. 0. 0. 0. 0.]\n",
      " [0. 0. 0. 0. 0.]\n",
      " [0. 0. 0. 0. 0.]]\n"
     ]
    }
   ],
   "source": [
    "doubled = C * 2\n",
    "print(doubled)\n",
    "\n",
    "print(np.multiply(C, 2))  # does exactly the same as the prior code\n",
    "\n",
    "# Also try this:\n",
    "print(C * 0.0)"
   ]
  },
  {
   "cell_type": "markdown",
   "metadata": {},
   "source": [
    "What happens if you multiply matrix ``C`` by itself, if you want to calculated $C^2$"
   ]
  },
  {
   "cell_type": "code",
   "execution_count": 8,
   "metadata": {},
   "outputs": [
    {
     "name": "stdout",
     "output_type": "stream",
     "text": [
      "[[  1.   4.   9.  16.  25.]\n",
      " [ 36.  49.  64.  81. 100.]\n",
      " [121. 144. 169. 196. 225.]\n",
      " [256. 289. 324. 361. 400.]\n",
      " [441. 484. 529. 576. 625.]]\n"
     ]
    }
   ],
   "source": [
    "print(C * C)"
   ]
  },
  {
   "cell_type": "markdown",
   "metadata": {},
   "source": [
    "The multiply operator `*` is shorthand for ``numpy.multiply()`` and works on an element-by-element basis. Similarly the `/` operator is shorthand for `numpy.divide()`"
   ]
  },
  {
   "cell_type": "code",
   "execution_count": 9,
   "metadata": {},
   "outputs": [
    {
     "name": "stdout",
     "output_type": "stream",
     "text": [
      "[[1. 1. 1. 1. 1.]\n",
      " [1. 1. 1. 1. 1.]\n",
      " [1. 1. 1. 1. 1.]\n",
      " [1. 1. 1. 1. 1.]\n",
      " [1. 1. 1. 1. 1.]]\n",
      "[[1. 1. 1. 1. 1.]\n",
      " [1. 1. 1. 1. 1.]\n",
      " [1. 1. 1. 1. 1.]\n",
      " [1. 1. 1. 1. 1.]\n",
      " [1. 1. 1. 1. 1.]]\n"
     ]
    }
   ],
   "source": [
    "print(C / C)\n",
    "print(np.divide(C, C)) # both give you what you expect - a matrix of 1's\n",
    "\n",
    "# Advanced: add some code to see what happens if you divide by zero: C/0.0"
   ]
  },
  {
   "cell_type": "markdown",
   "metadata": {},
   "source": [
    "## Square roots and other powers\n",
    "\n",
    "There are other elementwise operations that can be done on matrices. These often involve raising the individual matrix elements to a certain power, or taking a square root (which is the same as raising a number to the power of $0.5$), or calculating the logarithm.\n",
    "\n",
    "Let's try it out interactively.\n",
    "\n",
    "### To try:\n",
    "\n",
    "> 1. Use the ``**`` operation to raise to a power\n",
    "> 2. Use the ``.square()`` function \n",
    "> 3. Use the ``.power()`` function \n",
    "> 4. Use the ``.sqrt()`` function\n",
    "> 5. Verify that `**(0.5)` gives the same values as the `.sqrt()` function\n"
   ]
  },
  {
   "cell_type": "code",
   "execution_count": null,
   "metadata": {},
   "outputs": [],
   "source": [
    "# Step 1:\n",
    "import numpy as np\n",
    "D = np.reshape(np.linspace(-1, 1, 15), (3, 5))  # create a 3x5 matrix with positive and negative values\n",
    "print(D**2)\n",
    "print('-------')\n",
    "\n",
    "# Step 2\n",
    "print(np.square(D)) # you should see the same as above\n",
    "print('-------')\n",
    "\n",
    "# Step 3\n",
    "D_squared = np.power(D, 2)\n",
    "print(D_squared)\n",
    "print('-------')\n",
    "\n",
    "# Step 4: remember there are some negative values in D\n",
    "#         The square root is undefined for negative values (exception for complex values)\n",
    "print(np.sqrt(D))  \n",
    "print('-------')\n",
    "\n",
    "# Step 5: raising something to the power of 0.5 is the same as square rooting\n",
    "print(np.power(D, 0.5))"
   ]
  },
  {
   "cell_type": "markdown",
   "metadata": {},
   "source": [
    "## Trigonometric and other functions\n",
    "\n",
    "A wide variety of mathematical functions are possible. See the full list in the [NumPy documentation](https://docs.scipy.org/doc/numpy/reference/routines.math.html).\n",
    "\n",
    "You will self-discover these function by running the code below.\n",
    "\n",
    "### Some questions to try answering below:\n",
    ">1. The standard trigonometric functions: ``np.sin(...)``, ``np.tan(...)``, etc\n",
    ">2. Rounding off to the closest integer. Do negative values round up towards zero, or away from zero?\n",
    ">3. Rounding off to a certain number of ``decimals``; try rounding to 1 decimal place. Are the results what you expect?\n",
    ">4. Similar to rounding: try the ``np.floor(...)`` and ``np.ceil(...)``: what is the difference between the floor and the ceiling? Hint: read the documentation for [`floor`](https://docs.scipy.org/doc/numpy/reference/generated/numpy.floor.html) and [`ceil`](https://docs.scipy.org/doc/numpy/reference/generated/numpy.ceil.html).\n",
    ">5. Logarithms and exponents are also part of the standard calculations we expect to do with matrices using the ``np.log(...)`` and ``np.exp(...)`` functions. Recall that $\\log(\\exp(x)) = x$. \n"
   ]
  },
  {
   "cell_type": "code",
   "execution_count": 11,
   "metadata": {},
   "outputs": [
    {
     "name": "stdout",
     "output_type": "stream",
     "text": [
      "[[-2.         -1.73333333 -1.46666667 -1.2       ]\n",
      " [-0.93333333 -0.66666667 -0.4        -0.13333333]\n",
      " [ 0.13333333  0.4         0.66666667  0.93333333]\n",
      " [ 1.2         1.46666667  1.73333333  2.        ]]\n",
      "-----\n",
      "[[-0.90929743 -0.98681992 -0.9945834  -0.93203909]\n",
      " [-0.80360826 -0.6183698  -0.38941834 -0.13293862]\n",
      " [ 0.13293862  0.38941834  0.6183698   0.80360826]\n",
      " [ 0.93203909  0.9945834   0.98681992  0.90929743]]\n",
      "-----\n",
      "[[ 2.18503986  6.09817038 -9.56867673 -2.57215162]\n",
      " [-1.35024221 -0.78684289 -0.42279322 -0.13412912]\n",
      " [ 0.13412912  0.42279322  0.78684289  1.35024221]\n",
      " [ 2.57215162  9.56867673 -6.09817038 -2.18503986]]\n"
     ]
    }
   ],
   "source": [
    "import numpy as np\n",
    "\n",
    "radians = np.reshape(np.linspace(-2, +2, 16), (4, 4))  # create a 4x4 matrix with positive and negative values\n",
    "print(radians)\n",
    "print('-----')\n",
    "\n",
    "# Step 1\n",
    "print(np.sin(radians))\n",
    "print('-----')\n",
    "print(np.tan(radians))"
   ]
  },
  {
   "cell_type": "code",
   "execution_count": 12,
   "metadata": {},
   "outputs": [
    {
     "name": "stdout",
     "output_type": "stream",
     "text": [
      "[[-2. -2. -1. -1.]\n",
      " [-1. -1. -0. -0.]\n",
      " [ 0.  0.  1.  1.]\n",
      " [ 1.  1.  2.  2.]]\n"
     ]
    }
   ],
   "source": [
    "# Step 2\n",
    "print(np.around(radians))  # rounds to the closest integer. Check what happens with negatives!"
   ]
  },
  {
   "cell_type": "code",
   "execution_count": 13,
   "metadata": {},
   "outputs": [
    {
     "name": "stdout",
     "output_type": "stream",
     "text": [
      "[[-2.  -1.7 -1.5 -1.2]\n",
      " [-0.9 -0.7 -0.4 -0.1]\n",
      " [ 0.1  0.4  0.7  0.9]\n",
      " [ 1.2  1.5  1.7  2. ]]\n"
     ]
    }
   ],
   "source": [
    "# Step 3\n",
    "print(np.around(radians, decimals=1))  # rounds to the closest 0.1\n",
    "# Advanced: try this code:  np.around(radians*100, decimals=-2)\n",
    "# What does it mean to round to a negative number of decimals?"
   ]
  },
  {
   "cell_type": "code",
   "execution_count": 15,
   "metadata": {},
   "outputs": [
    {
     "name": "stdout",
     "output_type": "stream",
     "text": [
      "[[-2. -2. -2. -2.]\n",
      " [-1. -1. -1. -1.]\n",
      " [ 0.  0.  0.  0.]\n",
      " [ 1.  1.  1.  2.]]\n",
      "[[-2. -1. -1. -1.]\n",
      " [-0. -0. -0. -0.]\n",
      " [ 1.  1.  1.  1.]\n",
      " [ 2.  2.  2.  2.]]\n"
     ]
    }
   ],
   "source": [
    "# Step 4\n",
    "print(np.floor(radians))  # compare this output to the original matrix\n",
    "print(np.ceil(radians))   "
   ]
  },
  {
   "cell_type": "code",
   "execution_count": 16,
   "metadata": {},
   "outputs": [
    {
     "name": "stdout",
     "output_type": "stream",
     "text": [
      "[[0.13533528 0.17669445 0.23069318 0.30119421]\n",
      " [0.39324072 0.51341712 0.67032005 0.87517332]\n",
      " [1.14263081 1.4918247  1.94773404 2.54297164]\n",
      " [3.32011692 4.33476183 5.65948746 7.3890561 ]]\n",
      "-----\n",
      "[[-2.         -1.73333333 -1.46666667 -1.2       ]\n",
      " [-0.93333333 -0.66666667 -0.4        -0.13333333]\n",
      " [ 0.13333333  0.4         0.66666667  0.93333333]\n",
      " [ 1.2         1.46666667  1.73333333  2.        ]]\n",
      "-----\n",
      "[[ 0.00000000e+00  0.00000000e+00  0.00000000e+00  0.00000000e+00]\n",
      " [ 0.00000000e+00  1.11022302e-16 -5.55111512e-17  0.00000000e+00]\n",
      " [ 8.32667268e-17 -5.55111512e-17  0.00000000e+00  0.00000000e+00]\n",
      " [ 0.00000000e+00  0.00000000e+00  0.00000000e+00  0.00000000e+00]]\n"
     ]
    }
   ],
   "source": [
    "# Step 5\n",
    "exponent = np.exp(radians)\n",
    "print(exponent)\n",
    "print('-----')\n",
    "\n",
    "recovered = np.log(exponent)\n",
    "print(recovered)          \n",
    "print('-----')\n",
    "\n",
    "# Does \"recovered\" match the original \"radians\" matrix? \n",
    "# It should: we first took the exponent, then the logarithm.\n",
    "# This subtraction should be a matrix of all zeros:\n",
    "print(recovered - radians)"
   ]
  },
  {
   "cell_type": "markdown",
   "metadata": {},
   "source": [
    "The last matrix in your printout above should be all zeros, but is not exactly equal to zero (it is very, very close to zero though).\n",
    "\n",
    "To test that we can use the ``np.isclose(...)`` function. It is another elementwise function that you can add to your toolbox. It tests if the entries in an array are close to another:"
   ]
  },
  {
   "cell_type": "code",
   "execution_count": 17,
   "metadata": {},
   "outputs": [
    {
     "data": {
      "text/plain": [
       "array([[ True,  True,  True,  True],\n",
       "       [ True,  True,  True,  True],\n",
       "       [ True,  True,  True,  True],\n",
       "       [ True,  True,  True,  True]])"
      ]
     },
     "execution_count": 17,
     "metadata": {},
     "output_type": "execute_result"
    }
   ],
   "source": [
    "np.isclose(recovered - radians, 0)"
   ]
  },
  {
   "cell_type": "code",
   "execution_count": 18,
   "metadata": {},
   "outputs": [
    {
     "data": {
      "text/plain": [
       "True"
      ]
     },
     "execution_count": 18,
     "metadata": {},
     "output_type": "execute_result"
    }
   ],
   "source": [
    "# There is a function to check if the entries are all `True`\n",
    "np.allclose(recovered - radians, 0)"
   ]
  }
 ],
 "metadata": {
  "kernelspec": {
   "display_name": "Python [conda env:anaconda]",
   "language": "python",
   "name": "conda-env-anaconda-py"
  },
  "language_info": {
   "codemirror_mode": {
    "name": "ipython",
    "version": 3
   },
   "file_extension": ".py",
   "mimetype": "text/x-python",
   "name": "python",
   "nbconvert_exporter": "python",
   "pygments_lexer": "ipython3",
   "version": "3.5.5"
  }
 },
 "nbformat": 4,
 "nbformat_minor": 2
}
