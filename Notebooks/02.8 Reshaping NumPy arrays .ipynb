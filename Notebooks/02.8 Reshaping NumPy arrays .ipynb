{
 "cells": [
  {
   "cell_type": "markdown",
   "metadata": {
    "toc": true
   },
   "source": [
    "<h1>Table of Contents<span class=\"tocSkip\"></span></h1>\n",
    "<div class=\"toc\"><ul class=\"toc-item\"><li><span><a href=\"#What-is-the-current-shape-of-my-data?\" data-toc-modified-id=\"What-is-the-current-shape-of-my-data?-1\"><span class=\"toc-item-num\">1&nbsp;&nbsp;</span>What is the current <code>shape</code> of my data?</a></span></li><li><span><a href=\"#Reshape-yourself\" data-toc-modified-id=\"Reshape-yourself-2\"><span class=\"toc-item-num\">2&nbsp;&nbsp;</span>Reshape yourself</a></span></li><li><span><a href=\"#Unraveling-an-array\" data-toc-modified-id=\"Unraveling-an-array-3\"><span class=\"toc-item-num\">3&nbsp;&nbsp;</span>Un<code>ravel</code>ing an array</a></span></li><li><span><a href=\"#Reshaping-irregular-sized-arrays\" data-toc-modified-id=\"Reshaping-irregular-sized-arrays-4\"><span class=\"toc-item-num\">4&nbsp;&nbsp;</span>Reshaping irregular sized arrays</a></span></li></ul></div>"
   ]
  },
  {
   "cell_type": "markdown",
   "metadata": {},
   "source": [
    ">All content is released under Creative Commons Attribution [CC-BY 4.0](https://creativecommons.org/licenses/by/4.0/) and all source code is released under a [BSD-3 clause license](https://en.wikipedia.org/wiki/BSD_licenses). \n",
    ">\n",
    ">Please reuse, remix, revise, and reshare this content in any way, keeping this notice.\n",
    ">\n",
    "><img style=\"float: right;\" width=\"150px\" src=\"images/jupyter-logo.png\">**Are you viewing this on jupyter.org?** Then this notebook will be read-only. <br>\n",
    ">See how you can interactively run the code in this notebook by visiting our [instruction page about Notebooks](https://yint.org/notebooks). "
   ]
  },
  {
   "cell_type": "markdown",
   "metadata": {},
   "source": [
    "# Reshaping your data matrix\n",
    "\n",
    "On many occasions you might face the need to keep the data that you have, but move it into a different shape.\n",
    "\n",
    "The most common example is when you read your data and it is one long vector. But you know that every 7th entry, for example, is the data from the start of a new week. So entry 1, 7, 14, etc, should be the start of the row, and you would like 7 columns. Once you have it in this form you can calculate weekly averages (across the rows), or daily averages (down each of the 7 columns).\n",
    "\n",
    "Another example is data that is measured every hour, and you want to reshape the vector into a matrix with 24 columns.\n",
    "\n",
    "Let's take a look at this, and we will break it down:\n",
    "* what is the current ``shape`` of my array\n",
    "* how can I ``reshape`` it?\n",
    "* how can I un``ravel`` the data into a long vector again?\n",
    "* what happens with irregular shapes?\n",
    "\n",
    "## What is the current ``shape`` of my data?\n",
    "\n",
    "Every array in NumPy has a ``.shape`` attribute. For example: ``my_data.shape`` will return a tuple with the array's shape. You can also use a NumPy function: ``np.shape(...)``. We show both below.\n",
    "\n",
    "An interesting other attribute is the ``my_data.ndim`` attribute, which shows how many dimensions your data has. The number of dimensions will **always** match the number of values in the ``.shape`` tuple.\n",
    "\n",
    "Let's try it (we actually saw this command already in the [prior notebook](./)):"
   ]
  },
  {
   "cell_type": "code",
   "execution_count": 1,
   "metadata": {},
   "outputs": [
    {
     "name": "stdout",
     "output_type": "stream",
     "text": [
      "Matrix A has this shape: (4, 3)\n",
      "Once it is transposed, it has this shape: (3, 4)\n",
      "This is another way to get the shape: (3, 4)\n",
      "The number of dimensions of this data is: 2, which is the same as the number of integers in this tuple: (4, 3)\n"
     ]
    }
   ],
   "source": [
    "import numpy as np\n",
    "A = np.array([[8, 7, 3], [6, 5, 4], [4, 3, 5], [2, 1, 6]])\n",
    "print('Matrix A has this shape: {}'.format(A.shape))\n",
    "print('Once it is transposed, it has this shape: {}'.format(A.T.shape))\n",
    "print('This is another way to get the shape: {}'.format(np.shape(A.T)))\n",
    "\n",
    "print(('The number of dimensions of this data is: {}, which '\n",
    "       'is the same as the number of integers in this tuple: {}').format(A.ndim, A.shape))"
   ]
  },
  {
   "cell_type": "markdown",
   "metadata": {},
   "source": [
    "## Reshape yourself\n",
    "\n",
    "Let's try it with an example where we have daily data, over 21 days. We would like to reshape the vector that has 21 entries to have 3 rows and 7 columns.\n",
    "\n",
    "To make it simple, let our vector simply be the numbers 1 to 21, but in reverse order."
   ]
  },
  {
   "cell_type": "code",
   "execution_count": 2,
   "metadata": {},
   "outputs": [
    {
     "name": "stdout",
     "output_type": "stream",
     "text": [
      "The data before reshaping: [21. 20. 19. 18. 17. 16. 15. 14. 13. 12. 11. 10.  9.  8.  7.  6.  5.  4.\n",
      "  3.  2.  1.]\n",
      "which has a shape of (21,)\n",
      "which has a dimension of 1\n",
      "When reshaping it into a matrix:\n",
      "[[21. 20. 19. 18. 17. 16. 15.]\n",
      " [14. 13. 12. 11. 10.  9.  8.]\n",
      " [ 7.  6.  5.  4.  3.  2.  1.]]\n",
      "which has a new shape of (3, 7)\n"
     ]
    }
   ],
   "source": [
    "daily = np.linspace(21, 1, 21)\n",
    "print('The data before reshaping: {}'.format(daily))\n",
    "print('which has a shape of {}'.format(daily.shape))\n",
    "print('which has a dimension of {}'.format(daily.ndim))\n",
    "\n",
    "\n",
    "matrix = daily.reshape((3, 7))\n",
    "print('When reshaping it into a matrix:\\n{}'.format(matrix))\n",
    "print('which has a new shape of {}'.format(matrix.shape))"
   ]
  },
  {
   "cell_type": "markdown",
   "metadata": {},
   "source": [
    "## Un``ravel``ing an array\n",
    "\n",
    "To *unravel* something means to take something that is knotted up, or tangled and undo it, or straighten it out. \n",
    "\n",
    "Before we show how, did you notice the shape of the ``daily`` variable above? It was printed as ``(21,)``. That is not the same as ``(21, 1)`` which means 21 rows and 1 column, and would have 2 dimensions. It is also not simply ``21``. A shape of ``(21,)`` indicates explicitly that the array has 1 dimension.\n",
    "\n",
    "We mention that, because when you un``ravel`` an array the unraveled dimension will be 1. Let's try it out:"
   ]
  },
  {
   "cell_type": "code",
   "execution_count": 3,
   "metadata": {},
   "outputs": [
    {
     "name": "stdout",
     "output_type": "stream",
     "text": [
      "The \"my_data\" matrix has 2 dimensions and a shape of (3, 5).\n",
      "The unraveled data has 1 dimension and a shape of (15,).\n",
      "Printed out, it looks like this:\n",
      " [15. 14. 13. 12. 11. 10.  9.  8.  7.  6.  5.  4.  3.  2.  1.]\n",
      "Folded back up into a matrix with 3 rows, the array is:\n",
      "[[15. 14. 13. 12. 11.]\n",
      " [10.  9.  8.  7.  6.]\n",
      " [ 5.  4.  3.  2.  1.]]\n",
      "Folded back up into a matrix with 5 rows, the array is:\n",
      "[[15. 14. 13.]\n",
      " [12. 11. 10.]\n",
      " [ 9.  8.  7.]\n",
      " [ 6.  5.  4.]\n",
      " [ 3.  2.  1.]]\n"
     ]
    }
   ],
   "source": [
    "my_data = np.linspace(15, 1, 15).reshape((3, 5))\n",
    "print('The \"my_data\" matrix has {} dimensions and a shape of {}.'.format(my_data.ndim, my_data.shape))\n",
    "\n",
    "unraveled = my_data.ravel()\n",
    "print('The unraveled data has {} dimension and a shape of {}.'.format(unraveled.ndim, unraveled.shape))\n",
    "print('Printed out, it looks like this:\\n {}'.format(unraveled))\n",
    "\n",
    "# Advanced/enrichment:\n",
    "# We want to reshape the unraveled array back into a matrix\n",
    "print('Folded back up into a matrix with 3 rows, the array is:\\n{}'.format(unraveled.reshape(3, 5)))\n",
    "\n",
    "# but you can also do this: say you know that you want 5 rows, you can let\n",
    "# Numpy automatically figure out how many columns. Notice the \"-1\"?\n",
    "print('Folded back up into a matrix with 5 rows, the array is:\\n{}'.format(unraveled.reshape(5, -1)))\n"
   ]
  },
  {
   "cell_type": "markdown",
   "metadata": {},
   "source": [
    "## Reshaping irregular sized arrays\n",
    "\n",
    "It is an error to reshape an array into another without preserving the size exactly. \n",
    "\n",
    "NumPy will not drop elements away, or fill entries with a missing value indicator (such as ``NaN``). The number of entries before and after reshaping ***must match exactly***.\n",
    "\n",
    "Try it out:"
   ]
  },
  {
   "cell_type": "code",
   "execution_count": 4,
   "metadata": {},
   "outputs": [
    {
     "name": "stdout",
     "output_type": "stream",
     "text": [
      "The \"my_data\" matrix has 2 dimensions and a shape of (3, 5).\n"
     ]
    },
    {
     "ename": "ValueError",
     "evalue": "cannot reshape array of size 15 into shape (2,8)",
     "output_type": "error",
     "traceback": [
      "\u001b[0;31m---------------------------------------------------------------------------\u001b[0m",
      "\u001b[0;31mValueError\u001b[0m                                Traceback (most recent call last)",
      "\u001b[0;32m<ipython-input-4-b0aacc24886d>\u001b[0m in \u001b[0;36m<module>\u001b[0;34m()\u001b[0m\n\u001b[1;32m      3\u001b[0m \u001b[0;34m\u001b[0m\u001b[0m\n\u001b[1;32m      4\u001b[0m \u001b[0;31m# Trying to reshape a matrix with 3x5 entries into a 2x8 matrix:\u001b[0m\u001b[0;34m\u001b[0m\u001b[0;34m\u001b[0m\u001b[0m\n\u001b[0;32m----> 5\u001b[0;31m \u001b[0mprint\u001b[0m\u001b[0;34m(\u001b[0m\u001b[0;34m'Reshaping it into a 2 by 8 matrix: \\n{}'\u001b[0m\u001b[0;34m.\u001b[0m\u001b[0mformat\u001b[0m\u001b[0;34m(\u001b[0m\u001b[0munraveled\u001b[0m\u001b[0;34m.\u001b[0m\u001b[0mreshape\u001b[0m\u001b[0;34m(\u001b[0m\u001b[0;36m2\u001b[0m\u001b[0;34m,\u001b[0m \u001b[0;36m8\u001b[0m\u001b[0;34m)\u001b[0m\u001b[0;34m)\u001b[0m\u001b[0;34m)\u001b[0m\u001b[0;34m\u001b[0m\u001b[0m\n\u001b[0m",
      "\u001b[0;31mValueError\u001b[0m: cannot reshape array of size 15 into shape (2,8)"
     ]
    }
   ],
   "source": [
    "my_data = np.linspace(15, 1, 15).reshape((3, 5))\n",
    "print('The \"my_data\" matrix has {} dimensions and a shape of {}.'.format(my_data.ndim, my_data.shape))\n",
    "\n",
    "# Trying to reshape a matrix with 3x5 entries into a 2x8 matrix:\n",
    "print('Reshaping it into a 2 by 8 matrix: \\n{}'.format(unraveled.reshape(2, 8)))\n",
    "\n"
   ]
  }
 ],
 "metadata": {
  "kernelspec": {
   "display_name": "Python [conda env:anaconda]",
   "language": "python",
   "name": "conda-env-anaconda-py"
  },
  "language_info": {
   "codemirror_mode": {
    "name": "ipython",
    "version": 3
   },
   "file_extension": ".py",
   "mimetype": "text/x-python",
   "name": "python",
   "nbconvert_exporter": "python",
   "pygments_lexer": "ipython3",
   "version": "3.5.5"
  },
  "toc": {
   "base_numbering": 1,
   "nav_menu": {},
   "number_sections": true,
   "sideBar": true,
   "skip_h1_title": true,
   "title_cell": "Table of Contents",
   "title_sidebar": "Contents",
   "toc_cell": true,
   "toc_position": {},
   "toc_section_display": true,
   "toc_window_display": false
  }
 },
 "nbformat": 4,
 "nbformat_minor": 2
}
