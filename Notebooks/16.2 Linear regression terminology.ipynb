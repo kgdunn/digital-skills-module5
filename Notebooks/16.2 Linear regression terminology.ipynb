{
 "cells": [
  {
   "cell_type": "markdown",
   "metadata": {},
   "source": [
    "(c) Kevin Dunn, All content is under Creative Commons Attribution CC-BY 4.0 and all code is under BSD-3 clause.\n",
    "Please reuse, remix, revise, and reshare this content in any way, keeping this notice! \n",
    "\n",
    "##### Content was also inspired from these other sources:\n",
    "* https://github.com/engineersCode/EngComp (CC-BY 4.0, BSD 3-Clause License, L.A. Barba, N.C. Clementi)\n",
    "* other?"
   ]
  },
  {
   "cell_type": "markdown",
   "metadata": {},
   "source": [
    "There are plenty of good reasons to study linear regression, or least squares models. Both those terms are used interchangeably.\n",
    "\n",
    "In fact, if there is one thing we can guarantee that you will see in your career being ***misused***, it will be this model. Misused by others when they intrepret the results, misused when they build this model, misused when making predictions.\n",
    "\n",
    "### Why use linear regression at all?\n",
    "\n",
    "You use this type of model when you **need to interpret and quantify the relationship between two or more variables**.\n",
    "\n",
    "That sounds vague. Here are concrete examples:\n",
    "\n",
    "* *HR manager*: We use a least squares regression model to relate education level (one variable) to salary (another variable). There is a strong relationship.\n",
    "* *HR worker*: We have a different regression model to relate \"number of years of experience\" (a variable) to \"salary\".   What do the model coefficients mean?\n",
    "* *HR manager*: can we combine these two regression models into a single model and get improved predictions?\n",
    "* *HR worker* : We can combine these models, yes, but we notice some really strong outliers, particularly the CEO and the other Cxx staff. What should we do with these outliers?\n",
    "\n",
    "Or another scenario:\n",
    "\n",
    "* *Colleague*: How is the yield from our beer fermentation related to the purity of the sucrose substrate?\n",
    "* *You*: The yield can be predicted from sucrose purity with an error of plus/minus 8%\n",
    "* *Colleague*: And how about the relationship between alcohol percentage and glucose purity?\n",
    "* *You*: Over the range of our historical data, there is no discernible relationship.\n"
   ]
  },
  {
   "cell_type": "code",
   "execution_count": null,
   "metadata": {},
   "outputs": [],
   "source": []
  },
  {
   "cell_type": "code",
   "execution_count": null,
   "metadata": {},
   "outputs": [],
   "source": []
  },
  {
   "cell_type": "code",
   "execution_count": null,
   "metadata": {},
   "outputs": [],
   "source": []
  }
 ],
 "metadata": {
  "kernelspec": {
   "display_name": "Python [conda env:anaconda]",
   "language": "python",
   "name": "conda-env-anaconda-py"
  },
  "language_info": {
   "codemirror_mode": {
    "name": "ipython",
    "version": 3
   },
   "file_extension": ".py",
   "mimetype": "text/x-python",
   "name": "python",
   "nbconvert_exporter": "python",
   "pygments_lexer": "ipython3",
   "version": "3.5.5"
  }
 },
 "nbformat": 4,
 "nbformat_minor": 2
}
