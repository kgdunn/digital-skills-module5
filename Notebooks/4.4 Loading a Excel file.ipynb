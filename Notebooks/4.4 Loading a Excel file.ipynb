{
 "cells": [
  {
   "cell_type": "markdown",
   "metadata": {},
   "source": [
    "(c) Kevin Dunn, All content is under Creative Commons Attribution CC-BY 4.0 and all code is under BSD-3 clause.\n",
    "Please reuse, remix, revise, and reshare this content in any way, keeping this notice! "
   ]
  },
  {
   "cell_type": "markdown",
   "metadata": {},
   "source": [
    "# Loading data from files into Python: Excel files"
   ]
  },
  {
   "cell_type": "markdown",
   "metadata": {},
   "source": [
    "This is a part of a series showing how to import data:\n",
    "1. CSV files, or text files\n",
    "2. Excel files\n",
    "3. MATLAB files\n",
    "4. Reading data from a remote web-based location\n",
    "5. Reading real-time sensor data (data stream)"
   ]
  },
  {
   "cell_type": "markdown",
   "metadata": {},
   "source": [
    "## Background\n",
    "\n",
    "Excel files are a proprietary file format specified by Microsoft for their spreadsheeting software. There are two variants: XLS (older format) and XLSX (newer). \n",
    "\n",
    "An Excel file can have one or more sheets (tabs). It is desirable to have a single instruction that can read an Excel file, specifying which tab to load.\n",
    "\n",
    "**Terminology:** the word *parse* is used in the descriptions below. To *parse* a file means to process it, or analyze it. It often also implies to return the input in a different form.\n",
    "\n",
    "We will use code below to *parse* an Excel file. Now you know what it means.\n"
   ]
  },
  {
   "cell_type": "markdown",
   "metadata": {},
   "source": [
    "### Problems and pitfalls\n",
    "* The Excel file format, thought publically specified, is controlled by a corporation. Though unlikely, files from 10 years ago might not easily be readily in 30 years from now. Compare this to flat text files, which have always, and almost certainly be readable in the future. Point being: do not rely Excel files for long-time archives.\n",
    "* Excel files do not just contain data: they may contain all sorts of formatting (e.g. cell borders, headers, colours, graphs), which are not imported into Python. What is visually obvious as a heading in an opened Excel file is not necessarily so when reading the file into Python.\n",
    "* Reading and processing an Excel file might cost you the price of software license. In practice, most Excel files can fully and functionally be opened by some [alternative software](https://www.google.nl/search?q=alternative+to+Excel).\n",
    "\n",
    "\n",
    "### Advantages\n",
    "* The data in an Excel file can be graphically manipulated. Completely removing a column from a spreadsheet is no problem, for example.\n",
    "* Additional calculations can be added to the spreadsheet, and then read into Python for further processing.\n",
    "\n",
    "\n",
    "\n"
   ]
  },
  {
   "cell_type": "markdown",
   "metadata": {},
   "source": [
    "### Getting set up for this project\n",
    "\n",
    "1. Download a file of CO2 emmissions from http://mkt.tableau.com/Public/Datasets/World_Bank_CO2.xlsx \n",
    "2. This file is also [available from GitHub](https://github.com/kgdunn/digital-skills-module5/blob/master/Notebooks/datasets/World_Bank_CO2.xlsx)\n",
    "3. Store it on a known place on your computer if you are running this notebook on your own laptop or desktop.\n",
    "\n",
    "4. Open the file in Microsoft Excel, or Open Office or Google Docs, to get an idea of what data is contained inside it, and which sheets are available.\n",
    "\n",
    "\n",
    "\n"
   ]
  },
  {
   "cell_type": "markdown",
   "metadata": {},
   "source": [
    "### Using Pandas to read the Excel file\n"
   ]
  },
  {
   "cell_type": "code",
   "execution_count": 12,
   "metadata": {},
   "outputs": [
    {
     "name": "stdout",
     "output_type": "stream",
     "text": [
      "['blender-efficiency', 'summary']\n",
      "Help on method parse in module pandas.io.excel:\n",
      "\n",
      "parse(sheet_name=0, header=0, skiprows=None, skip_footer=0, names=None, index_col=None, usecols=None, parse_dates=False, date_parser=None, na_values=None, thousands=None, convert_float=True, converters=None, true_values=None, false_values=None, squeeze=False, **kwds) method of pandas.io.excel.ExcelFile instance\n",
      "    Parse specified sheet(s) into a DataFrame\n",
      "    \n",
      "    Equivalent to read_excel(ExcelFile, ...)  See the read_excel\n",
      "    docstring for more info on accepted parameters\n",
      "\n"
     ]
    },
    {
     "data": {
      "text/plain": [
       "<matplotlib.axes._subplots.AxesSubplot at 0x1120a7f98>"
      ]
     },
     "execution_count": 12,
     "metadata": {},
     "output_type": "execute_result"
    },
    {
     "data": {
      "image/png": "[encoded data removed]",
      "text/plain": [
       "<Figure size 432x288 with 1 Axes>"
      ]
     },
     "metadata": {},
     "output_type": "display_data"
    }
   ],
   "source": [
    "import pandas as pd\n",
    "\n",
    "\n",
    "# Assign a filename where to find the spreadsheet: from your local computer, of from the internet\n",
    "# Change the file location in the next line, if needed, to point to the actual file \n",
    "excel_file = 'datasets/blender-efficiency.xlsx'  \n",
    "\n",
    "\n",
    "# or if you want to get it directly from the internet:\n",
    "excel_file = 'http://openmv.net/blender-efficiency.xlsx'\n",
    "\n",
    "\n",
    "# Load the spreadsheet into a variable\n",
    "xl = pd.ExcelFile(excel_file)\n",
    "\n",
    "# What can you do with this variable?\n",
    "dir(xl)   # remember the ``dir`` command? It shows the attributes and methods available for an object\n",
    "\n",
    "# There are two that we will use:\n",
    "#    .sheet_names    \n",
    "#    .parse(...)\n",
    "\n",
    "# Show the names of the sheets:\n",
    "print(xl.sheet_names)\n",
    "\n",
    "\n",
    "# Load (parse) as a dataframe a specific sheet. But how should we use the .parse() method?\n",
    "help(xl.parse)\n",
    "\n",
    "data = xl.parse('blender-efficiency', skiprows=(1,2,5))\n",
    "data\n",
    "data.plot()\n"
   ]
  },
  {
   "cell_type": "markdown",
   "metadata": {},
   "source": [
    "Now add to the code a bit. Try these:\n",
    "\n"
   ]
  },
  {
   "cell_type": "markdown",
   "metadata": {},
   "source": [
    "### Exercises to end off:\n",
    "\n",
    "1.  Edit the Excel file to create some missing values, add text, division by zero errors, and see what happens when you import that file. See the example screenshot below.\n",
    "![Excel file with missing and other unexpected values](images/reading-loading-data/Excel-with-missing-unexpected-values.png)\n",
    "\n",
    "\n",
    "1. Add the ``skiprows=1`` argument to the ``parse(...)`` function. What happened? Does that make sense?\n",
    "1. Try ``skiprows=(1,2,5)`` next.\n",
    "1. Try some of the other methods on the Pandas object above. Add these lines below the existing code\n",
    "    * ``data.plot()``\n",
    "    * ``data.mean()`` to calculate the average. The average of what is being shown?\n",
    "    * ``data.std()`` to calculate the standard deviation. The standard deviation of what is shown?"
   ]
  },
  {
   "cell_type": "markdown",
   "metadata": {},
   "source": [
    "## Enrichment\n",
    "\n",
    "Curious to learn more about importing from and writing to Excel files via Python? Follow this community tutorial on DataCamp: \n",
    "https://www.datacamp.com/community/tutorials/python-excel-tutorial"
   ]
  }
 ],
 "metadata": {
  "celltoolbar": "Tags",
  "kernelspec": {
   "display_name": "Python [default]",
   "language": "python",
   "name": "python3"
  },
  "language_info": {
   "codemirror_mode": {
    "name": "ipython",
    "version": 3
   },
   "file_extension": ".py",
   "mimetype": "text/x-python",
   "name": "python",
   "nbconvert_exporter": "python",
   "pygments_lexer": "ipython3",
   "version": "3.5.5"
  }
 },
 "nbformat": 4,
 "nbformat_minor": 2
}
