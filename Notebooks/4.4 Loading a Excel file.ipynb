{
 "cells": [
  {
   "cell_type": "markdown",
   "metadata": {},
   "source": [
    "(c) TU Delft, All content is under Creative Commons Attribution CC-BY 4.0 and all code is under BSD-3 clause.\n",
    "Please reuse, remix, revise, and reshare this content in any way, keeping this notice! "
   ]
  },
  {
   "cell_type": "markdown",
   "metadata": {},
   "source": [
    "# Loading data from files into Python: Excel files"
   ]
  },
  {
   "cell_type": "markdown",
   "metadata": {},
   "source": [
    "This is a part of a series showing how to import data:\n",
    "1. CSV files, or text files\n",
    "2. Excel files\n",
    "3. MATLAB files\n",
    "4. Reading data from a remote web-based location\n",
    "5. Reading real-time sensor data (data stream)"
   ]
  },
  {
   "cell_type": "markdown",
   "metadata": {},
   "source": [
    "## Background\n",
    "\n",
    "Excel files are a proprietary file format specified by Microsoft for their spreadsheeting software. There are two variants: XLS (older format) and XLSX (newer). \n",
    "\n",
    "An Excel file can have one or more sheets (tabs). It is desirable to have a single instruction that can read an Excel file, specifying which tab to load.\n"
   ]
  },
  {
   "cell_type": "markdown",
   "metadata": {},
   "source": [
    "### Try it now\n",
    "\n",
    "1. Download the file from the World Bank (original source here: https://data.worldbank.org/indicator/EN.ATM.CO2E.PC), but a modified, pre-processed version that we will use can be downloaded from: http://mkt.tableau.com/Public/Datasets/World_Bank_CO2.xlsx (also [available locally](datasets/World_Bank_CO2.xlsx))\n",
    "2. Open the file in Microsoft Excel, or Open Office or Google Docs, to get an idea of what data is contained inside it, and which sheets are available.\n",
    "\n",
    "\n"
   ]
  },
  {
   "cell_type": "markdown",
   "metadata": {},
   "source": [
    "### How to load an Excel data file into Python?\n",
    "* There are several libraries to read Excel files:\n",
    "\n"
   ]
  },
  {
   "cell_type": "markdown",
   "metadata": {},
   "source": [
    "### Problems and pitfalls\n",
    "* The Excel file format, thought publically specified, is controlled by a corporation. Though unlikely, files from 10 years ago might not easily be readily in 30 years from now. Compare this to flat text files, which have always, and almost certainly be readable in the future. Point being: do not rely Excel files for long-time archives.\n",
    "* Excel files do not just contain data: they may contain all sorts of formatting (e.g. cell borders, headers, colours, graphs), which are not imported into Python. What is visually obvious as a heading in an opened Excel file is not necessarily so when reading the file into Python.\n",
    "* Reading and processing an Excel file might cost you the price of software license. In practice, most Excel files can fully and functionally be opened by some [alternative software](https://www.google.nl/search?q=alternative+to+Excel).\n",
    "\n",
    "\n",
    "### Advantages\n",
    "* The data in an Excel file can be graphically manipulated. Completely removing a column from a spreadsheet is no problem, for example.\n",
    "* Additional calculations can be added to the spreadsheet, and then read into Python for further processing.\n",
    "\n",
    "\n",
    "\n"
   ]
  },
  {
   "cell_type": "markdown",
   "metadata": {},
   "source": [
    "### Using Pandas to read your file"
   ]
  },
  {
   "cell_type": "code",
   "execution_count": 1,
   "metadata": {},
   "outputs": [
    {
     "name": "stdout",
     "output_type": "stream",
     "text": [
      "<pandas.io.excel.ExcelFile object at 0x10cae4a90>\n"
     ]
    }
   ],
   "source": [
    "import pandas as pd\n",
    "\n",
    "# Assign a filename where to find the spreadsheet: from your local computer, of from the internet\n",
    "excel_file = 'datasets/World_Bank_CO2.xlsx'  # <--- adjust this line, if needed\n",
    "excel_file = 'http://mkt.tableau.com/Public/Datasets/World_Bank_CO2.xlsx'\n",
    "\n",
    "# Load the spreadsheet into a variable\n",
    "xl = pd.ExcelFile(excel_file)\n",
    "\n",
    "# What sheet names are in there\n",
    "print(xl)"
   ]
  },
  {
   "cell_type": "markdown",
   "metadata": {},
   "source": [
    "Now break the code a bit. Try these:\n",
    "* Change ``skiprows=0`` and rerun the code: what error message do you get? Does it make sense?\n",
    "* Add ``help(np.loadtxt)`` to the code, or visit the [help for the function](https://www.numpy.org/devdocs/reference/generated/numpy.loadtxt.html). What do you change to the above code if each row has a header too?\n",
    "* Edit the text file and remove a value, replacing it with ``NaN`` instead. Now try to read the file. Does it show as ``nan`` in the output?\n",
    "* Try it again, this time, putting nothing: just two commas next to each other. Did it work?"
   ]
  },
  {
   "cell_type": "markdown",
   "metadata": {},
   "source": [
    "### Using the CSV library to read, and load into Numpy\n",
    "\n",
    "The [CSV library](https://docs.python.org/3/library/csv.html) has many flexible options. We will just use the basics here, but look at that link to see the different options for importing a variety of file types."
   ]
  },
  {
   "cell_type": "code",
   "execution_count": null,
   "metadata": {},
   "outputs": [],
   "source": [
    "import csv\n",
    "\n",
    "csvfile = open(\"datasets/batch-yield-and-purity.csv\", \"rt\")\n",
    "\n",
    "# Creates a special Python object type called an iterator. Iterator have a\n",
    "# function method called ``next`` which will run iterator once. \n",
    "# You can repeatedly call the ``next(...)`` function and you will get the \n",
    "# next element from the iterator, until no more elements are left over.\n",
    "reader = csv.reader(csvfile, delimiter=\",\")\n",
    "\n",
    "# Use the ``next(...)`` function to call the iterator once, thereby skipping \n",
    "# the first row of text. Iterators in this context give you one line of the CSV file.\n",
    "next(reader)\n",
    "\n",
    "# Now use the ``list`` function. The ``list`` function is greedy: it will \n",
    "# keep called ``next(...)`` internally, until there are no more elements.\n",
    "# So instead of writing a for-loop, we can simply say:\n",
    "raw_list = list(reader)\n",
    "# print(raw_list)    # uncomment this to see what the intermediate data looks like\n",
    "\n",
    "# Lastly, convert the Python list of lists to an array.\n",
    "result = numpy.array(raw_list).astype(\"float\")\n",
    "print(result)\n",
    "\n"
   ]
  },
  {
   "cell_type": "markdown",
   "metadata": {},
   "source": [
    "### Using Pandas to load the file: simple and quick\n",
    "\n",
    "The Pandas function ``read_csv`` has a lot of flexiblity and [smart processing](https://pandas.pydata.org/pandas-docs/stable/generated/pandas.read_csv.html) built-in to make reading CSV files easy with headers, missing values, and other settings.\n",
    "\n",
    "It is a swiss-army knife function: very versatile, but you need to know how to use it.\n",
    "\n",
    "It also produces an object ``yield_purity_pd`` in this code below, which has many methods. You can call the ``.head()`` method, as shown, but also try some others. Some suggestions are given below."
   ]
  },
  {
   "cell_type": "code",
   "execution_count": null,
   "metadata": {},
   "outputs": [],
   "source": [
    "import pandas as pd\n",
    "yield_purity_pd = pd.read_csv('datasets/batch-yield-and-purity.csv')\n",
    "\n",
    "# Show only the first few lines of the data table\n",
    "yield_purity_pd.head()  "
   ]
  },
  {
   "cell_type": "markdown",
   "metadata": {},
   "source": [
    "### Exercises to end off:\n",
    "\n",
    "1. Edit the text file to create some missing values, like this, using ``,,`` or ``NaN`` or ``N/A``. \n",
    "![CSV with missing values](images/reading-loading-data/CSV-with-missing.png)\n",
    "1. Try the Pandas code and verify that it needs no modification to handle those variations. This is the advantage of using a library like Pandas: plenty of flexibility and options.\n",
    "1. Now try running the Numpy code and the CSV/Numpy code above on your CSV file with missing values. It will not work so easily; the code will likely crash.\n",
    "\n",
    "1. Try some of the other methods on the Pandas object above. Add these lines below the existing code\n",
    "    * ``yield_purity_pd.plot()``\n",
    "    * ``yield_purity_pd.mean()`` to calculate the average. The average of what is being shown?\n",
    "    * ``yield_purity_pd.std()`` to calculate the standard deviation. The standard deviation of what is shown?"
   ]
  },
  {
   "cell_type": "code",
   "execution_count": null,
   "metadata": {},
   "outputs": [],
   "source": [
    "http://mkt.tableau.com/Public/Datasets/World_Bank_CO2.xlsx"
   ]
  }
 ],
 "metadata": {
  "celltoolbar": "Tags",
  "kernelspec": {
   "display_name": "Python [default]",
   "language": "python",
   "name": "python3"
  },
  "language_info": {
   "codemirror_mode": {
    "name": "ipython",
    "version": 3
   },
   "file_extension": ".py",
   "mimetype": "text/x-python",
   "name": "python",
   "nbconvert_exporter": "python",
   "pygments_lexer": "ipython3",
   "version": "3.5.5"
  }
 },
 "nbformat": 4,
 "nbformat_minor": 2
}
