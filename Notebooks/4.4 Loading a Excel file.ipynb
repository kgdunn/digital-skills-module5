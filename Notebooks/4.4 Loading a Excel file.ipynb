{
 "cells": [
  {
   "cell_type": "markdown",
   "metadata": {},
   "source": [
    "(c) Kevin Dunn, All content is under Creative Commons Attribution CC-BY 4.0 and all code is under BSD-3 clause.\n",
    "Please reuse, remix, revise, and reshare this content in any way, keeping this notice! "
   ]
  },
  {
   "cell_type": "markdown",
   "metadata": {},
   "source": [
    "# Loading data from files into Python: Excel files"
   ]
  },
  {
   "cell_type": "markdown",
   "metadata": {},
   "source": [
    "This is a part of a series showing how to import data:\n",
    "1. CSV files, or text files\n",
    "2. Excel files\n",
    "3. MATLAB files\n",
    "4. Reading data from a remote web-based location\n",
    "5. Reading real-time sensor data (data stream)"
   ]
  },
  {
   "cell_type": "markdown",
   "metadata": {},
   "source": [
    "## Background\n",
    "\n",
    "Excel files are a proprietary file format specified by Microsoft for their spreadsheeting software. There are two variants: XLS (older format) and XLSX (newer). \n",
    "\n",
    "An Excel file can have one or more sheets (tabs). It is desirable to have a single instruction that can read an Excel file, specifying which tab to load.\n",
    "\n",
    "**Terminology:** the word *parse* is used in the descriptions below. To *parse* a file means to process it, or analyze it. It often also implies to return the input in a different form.\n",
    "\n",
    "We will use code below to *parse* an Excel file. Now you know what it means.\n"
   ]
  },
  {
   "cell_type": "markdown",
   "metadata": {},
   "source": [
    "### Problems and pitfalls\n",
    "* The Excel file format, thought publically specified, is controlled by a corporation. Though unlikely, files from 10 years ago might not easily be readily in 30 years from now. Compare this to flat text files, which have always, and almost certainly be readable in the future. Point being: do not rely Excel files for long-time archives.\n",
    "* Excel files do not just contain data: they may contain all sorts of formatting (e.g. cell borders, headers, colours, graphs), which are not imported into Python. What is visually obvious as a heading in an opened Excel file is not necessarily so when reading the file into Python.\n",
    "* Reading and processing an Excel file might cost you the price of software license. In practice, most Excel files can fully and functionally be opened by some [alternative software](https://www.google.nl/search?q=alternative+to+Excel).\n",
    "\n",
    "\n",
    "### Advantages\n",
    "* The data in an Excel file can be graphically manipulated. Completely removing a column from a spreadsheet is no problem, for example.\n",
    "* Additional calculations can be added to the spreadsheet, and then read into Python for further processing.\n",
    "\n",
    "\n",
    "\n"
   ]
  },
  {
   "cell_type": "markdown",
   "metadata": {},
   "source": [
    "### Getting set up for this project\n",
    "\n",
    "1. Download a file of CO2 emmissions from http://mkt.tableau.com/Public/Datasets/World_Bank_CO2.xlsx \n",
    "2. This file is also [available from GitHub](https://github.com/kgdunn/digital-skills-module5/blob/master/Notebooks/datasets/World_Bank_CO2.xlsx)\n",
    "3. Store it on a known place on your computer if you are running this notebook on your own laptop or desktop.\n",
    "\n",
    "4. Open the file in Microsoft Excel, or Open Office or Google Docs, to get an idea of what data is contained inside it, and which sheets are available.\n",
    "\n",
    "\n",
    "\n"
   ]
  },
  {
   "cell_type": "markdown",
   "metadata": {},
   "source": [
    "### Using Pandas to read your file\n"
   ]
  },
  {
   "cell_type": "code",
   "execution_count": null,
   "metadata": {},
   "outputs": [],
   "source": [
    "import pandas as pd\n",
    "\n",
    "\n",
    "# Assign a filename where to find the spreadsheet: from your local computer, of from the internet\n",
    "# Change the file location in the next line, if needed, to point to the actual file \n",
    "excel_file = 'datasets/blender-efficiency.xlsx'  \n",
    "\n",
    "\n",
    "# or if you want to get it directly from the internet:\n",
    "excel_file = 'http://openmv.net/blender-efficiency.xlsx'\n",
    "\n",
    "\n",
    "# Load the spreadsheet into a variable\n",
    "xl = pd.ExcelFile(excel_file)\n",
    "\n",
    "# What can you do with this variable?\n",
    "dir(xl)   # remember the ``dir`` command? It shows the attributes and methods available for an object\n",
    "\n",
    "# There are two that we will use:\n",
    "#    .sheet_names    \n",
    "#    .parse(...)\n",
    "\n",
    "# Show the names of the sheets:\n",
    "print(xl.sheet_names)\n",
    "\n",
    "\n",
    "# Load (parse) as a dataframe a specific sheet. But how should we use the .parse() method?\n",
    "help(xl.parse)\n",
    "\n",
    "data = xl.parse('blender-efficiency')\n",
    "data\n",
    "\n",
    "\n"
   ]
  },
  {
   "cell_type": "markdown",
   "metadata": {},
   "source": [
    "Now add to the code a bit. Try these:\n",
    "\n",
    "\n",
    "* Add ``skiprows=0`` to the parse function.\n",
    "* Add ``help(np.loadtxt)`` to the code, or visit the [help for the function](https://www.numpy.org/devdocs/reference/generated/numpy.loadtxt.html). What do you change to the above code if each row has a header too?\n",
    "* Edit the text file and remove a value, replacing it with ``NaN`` instead. Now try to read the file. Does it show as ``nan`` in the output?\n",
    "* Try it again, this time, putting nothing: just two commas next to each other. Did it work?"
   ]
  },
  {
   "cell_type": "markdown",
   "metadata": {},
   "source": [
    "### Exercises to end off:\n",
    "\n",
    "1. Edit the text file to create some missing values, like this, using ``,,`` or ``NaN`` or ``N/A``. \n",
    "![CSV with missing values](images/reading-loading-data/CSV-with-missing.png)\n",
    "1. Try the Pandas code and verify that it needs no modification to handle those variations. This is the advantage of using a library like Pandas: plenty of flexibility and options.\n",
    "1. Now try running the Numpy code and the CSV/Numpy code above on your CSV file with missing values. It will not work so easily; the code will likely crash.\n",
    "\n",
    "1. Try some of the other methods on the Pandas object above. Add these lines below the existing code\n",
    "    * ``yield_purity_pd.plot()``\n",
    "    * ``yield_purity_pd.mean()`` to calculate the average. The average of what is being shown?\n",
    "    * ``yield_purity_pd.std()`` to calculate the standard deviation. The standard deviation of what is shown?"
   ]
  },
  {
   "cell_type": "markdown",
   "metadata": {},
   "source": [
    "## Enrichment\n",
    "\n",
    "Curious to learn more about importing from and writing to Excel files via Python? Follow this community tutorial on DataCamp: \n",
    "https://www.datacamp.com/community/tutorials/python-excel-tutorial"
   ]
  }
 ],
 "metadata": {
  "celltoolbar": "Tags",
  "kernelspec": {
   "display_name": "Python [default]",
   "language": "python",
   "name": "python3"
  },
  "language_info": {
   "codemirror_mode": {
    "name": "ipython",
    "version": 3
   },
   "file_extension": ".py",
   "mimetype": "text/x-python",
   "name": "python",
   "nbconvert_exporter": "python",
   "pygments_lexer": "ipython3",
   "version": "3.5.5"
  }
 },
 "nbformat": 4,
 "nbformat_minor": 2
}
