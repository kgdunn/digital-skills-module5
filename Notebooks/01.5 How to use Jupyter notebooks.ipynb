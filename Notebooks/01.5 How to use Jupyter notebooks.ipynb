{
 "cells": [
  {
   "cell_type": "markdown",
   "metadata": {},
   "source": [
    "## This is a draft. It will be expanded on, to show how to install and use Notebooks on your own device.\n"
   ]
  },
  {
   "cell_type": "markdown",
   "metadata": {},
   "source": [
    "* Follow these instructions: http://jupyter.org/install.html\n",
    "* Download Anaconda\n",
    "* How to download the .ipynb files from this module and run them on your local computer.\n",
    "* Starting the Notebook server\n",
    "* How to assign a cell as Markdown, or Python code\n",
    "* How to run one cell\n",
    "* Running all cells\n",
    "* Saving\n",
    "* Closing and re-opening later\n",
    "* Adding LaTeX\n",
    "* Exporting your notebook to PDF\n",
    "* How to download and save your Notebook files (.ipynb)\n",
    "* Sharing a notebook file\n",
    "\n",
    "* How to get help on a function in a notebook with the Shift-Tab keys\n",
    "\n",
    "http://nbviewer.jupyter.org/github/engineersCode/EngComp1_offtheground/blob/master/notebooks_en/2_Jupyter_strings_and_lists.ipynb\n",
    "\n",
    "* Also repurpose the content under: Notebook%20Basics.ipynb\n",
    "\n",
    "Depends on availability of SURF, but we will explain how to download and use Anaconda."
   ]
  },
  {
   "cell_type": "markdown",
   "metadata": {},
   "source": [
    "## Enrichment\n",
    "\n",
    "* https://blog.dominodatalab.com/interactive-dashboards-in-jupyter/\n",
    "* https://blog.dominodatalab.com/lesser-known-ways-of-using-notebooks/\n",
    "* https://towardsdatascience.com/jupyter-notebook-hints-1f26b08429ad\n",
    "* https://www.dataquest.io/blog/jupyter-notebook-tips-tricks-shortcuts/\n",
    "* timeit magic"
   ]
  }
 ],
 "metadata": {
  "kernelspec": {
   "display_name": "Python [conda env:anaconda]",
   "language": "python",
   "name": "conda-env-anaconda-py"
  },
  "language_info": {
   "codemirror_mode": {
    "name": "ipython",
    "version": 3
   },
   "file_extension": ".py",
   "mimetype": "text/x-python",
   "name": "python",
   "nbconvert_exporter": "python",
   "pygments_lexer": "ipython3",
   "version": "3.5.5"
  }
 },
 "nbformat": 4,
 "nbformat_minor": 2
}
