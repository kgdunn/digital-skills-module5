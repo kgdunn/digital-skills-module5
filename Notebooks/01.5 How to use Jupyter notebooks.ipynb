{
 "cells": [
  {
   "cell_type": "markdown",
   "metadata": {},
   "source": [
    "* Download Anaconda\n",
    "* Starting the Notebook server\n",
    "* How to assign a cell as Markdown, or Python code\n",
    "* How to run one cell\n",
    "* Running all cells\n",
    "* Saving\n",
    "* Closing and re-opening later\n",
    "* Adding LaTeX\n",
    "* Exporting your notebook to PDF\n",
    "* Sharing a notebook file\n",
    "\n",
    "* How to get help on a function in a notebook with the Shift-Tab keys\n",
    "\n",
    "http://nbviewer.jupyter.org/github/engineersCode/EngComp1_offtheground/blob/master/notebooks_en/2_Jupyter_strings_and_lists.ipynb\n",
    "\n",
    "* Also repurpose the content under: Notebook%20Basics.ipynb"
   ]
  },
  {
   "cell_type": "markdown",
   "metadata": {},
   "source": [
    "## Enrichment\n",
    "\n",
    "* https://blog.dominodatalab.com/interactive-dashboards-in-jupyter/\n",
    "* https://blog.dominodatalab.com/lesser-known-ways-of-using-notebooks/\n",
    "* https://towardsdatascience.com/jupyter-notebook-hints-1f26b08429ad\n"
   ]
  }
 ],
 "metadata": {
  "kernelspec": {
   "display_name": "Python [conda env:anaconda]",
   "language": "python",
   "name": "conda-env-anaconda-py"
  },
  "language_info": {
   "codemirror_mode": {
    "name": "ipython",
    "version": 3
   },
   "file_extension": ".py",
   "mimetype": "text/x-python",
   "name": "python",
   "nbconvert_exporter": "python",
   "pygments_lexer": "ipython3",
   "version": "3.5.5"
  }
 },
 "nbformat": 4,
 "nbformat_minor": 2
}
