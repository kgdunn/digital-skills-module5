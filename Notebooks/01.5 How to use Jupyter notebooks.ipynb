{
 "cells": [
  {
   "cell_type": "markdown",
   "metadata": {},
   "source": [
    "* Download Anaconda\n",
    "* Starting the Notebook server\n",
    "* How to assign a cell as Markdown, or Python code\n",
    "* How to run one cell\n",
    "* Running all cells\n",
    "* Saving\n",
    "* Closing and re-opening later\n",
    "* Adding LaTeX\n",
    "* Exporting your notebook to PDF\n",
    "* Sharing a notebook file"
   ]
  }
 ],
 "metadata": {
  "kernelspec": {
   "display_name": "Python [conda env:anaconda]",
   "language": "python",
   "name": "conda-env-anaconda-py"
  },
  "language_info": {
   "codemirror_mode": {
    "name": "ipython",
    "version": 3
   },
   "file_extension": ".py",
   "mimetype": "text/x-python",
   "name": "python",
   "nbconvert_exporter": "python",
   "pygments_lexer": "ipython3",
   "version": "3.5.5"
  }
 },
 "nbformat": 4,
 "nbformat_minor": 2
}
