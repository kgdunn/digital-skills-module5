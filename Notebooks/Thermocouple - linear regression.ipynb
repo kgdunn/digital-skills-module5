{
 "cells": [
  {
   "cell_type": "code",
   "execution_count": 3,
   "metadata": {},
   "outputs": [],
   "source": [
    "import numpy as np\n",
    "import matplotlib.pyplot as plt\n",
    "%matplotlib inline"
   ]
  },
  {
   "cell_type": "markdown",
   "metadata": {},
   "source": [
    "# Objective: thermocouple case study\n",
    "\n",
    "[Thermocouples](https://en.wikipedia.org/wiki/Thermocouple) are a device that produce a temperature-dependant voltage. The voltage that you measure can therefore be used to predict temperature.\n",
    "\n",
    "In this case you will develop the linear regression model to **create your own temperature sensor**!\n"
   ]
  },
  {
   "cell_type": "markdown",
   "metadata": {},
   "source": [
    "You acquire the following data in your lab (also called the *calibration step*)\n",
    "    \n",
    "    \n",
    "| Voltage reading [mV]   | Temperature [K]  |\n",
    "| --- | ---| \n",
    "| 0.01     |273  |\n",
    "| 0.12     |293      | \n",
    "|  0.24 |  313    |  \n",
    "|0.38| 333\n",
    "|0.51|353\n",
    "|0.67|373\n",
    "|0.84|393\n",
    "| 1.01|413\n",
    "|1.15|433\n",
    "|1.31|453\n",
    "\n",
    "The data are also available here as a list:\n",
    "* voltage = [0.01, 0.12, 0.24, 0.38, 0.51, 0.67, 0.84, 1.01, 1.15, 1.31]\n",
    "* temperature = [273, 293, 313, 333, 353, 373, 393, 413, 433, 453]"
   ]
  },
  {
   "cell_type": "markdown",
   "metadata": {},
   "source": [
    "### Requirements for this case\n",
    "\n",
    "1. Follow the regular steps for creating a linear model: load your data, plot it, build the regression model, plot the result, and don't forget to check the residuals too!\n",
    "1. What is the model's slope coefficient? Interpret it (in simple English, to a colleague, who has no understanding of statistics)\n",
    "1. Calculate the $R^2$ and standard error, $S_E$ value for the provided data.\n",
    "1. What does each of these numbers tell you about the model? In other words, interpret them in the context of the problem provided.\n",
    "1. Test the model on new data (provided below), and make a prediction of temperature given the new data.\n",
    "1. Calculate prediction error, a confidence limit, of the prediction.\n",
    "1. Would you be satisfied with the predictions from this model in practice?\n",
    "1. Think about what you have modelled here in terms of cause-and-effect. Normally the \"cause\" is the $x$-variable, and the $y$ variable is the \"effect\", the output. In this example, what is the cause, and what is the effect?\n"
   ]
  },
  {
   "cell_type": "code",
   "execution_count": 4,
   "metadata": {},
   "outputs": [],
   "source": [
    "x_build = np.array([0.01, 0.12, 0.24, 0.38, 0.51, 0.67, 0.84, 1.01, 1.15, 1.31]).reshape(-1, 1)\n",
    "y_build = np.array([ 273,  293,  313,  333,  353,  373,  393,  413,  433,  453])"
   ]
  },
  {
   "cell_type": "code",
   "execution_count": 5,
   "metadata": {},
   "outputs": [
    {
     "data": {
      "image/png": "[encoded data removed]",
      "text/plain": [
       "<Figure size 432x288 with 1 Axes>"
      ]
     },
     "metadata": {},
     "output_type": "display_data"
    }
   ],
   "source": [
    "plt.plot(x_build, y_build, 'bo', label='Observed data')\n",
    "plt.xlabel('x [training data]')\n",
    "plt.ylabel('y [training data]')\n",
    "plt.grid()\n",
    "_ = plt.legend()"
   ]
  },
  {
   "cell_type": "code",
   "execution_count": 6,
   "metadata": {},
   "outputs": [],
   "source": [
    "from sklearn import linear_model\n",
    "from sklearn.metrics import mean_squared_error, r2_score\n",
    "\n",
    "regr = linear_model.LinearRegression()\n",
    "\n",
    "# Fit the model using the training data, and save it to the object ``model``\n",
    "model = regr.fit(x_build, y_build)\n",
    "y_predicted = regr.predict(x_build)\n",
    "error = regr.predict(x_build) - y_build\n",
    "dof = y_build.size - 2\n",
    "S_E_calc = np.sqrt(np.sum((np.power(error, 2)))/dof)"
   ]
  },
  {
   "cell_type": "code",
   "execution_count": 7,
   "metadata": {},
   "outputs": [
    {
     "name": "stdout",
     "output_type": "stream",
     "text": [
      "Slope coefficient: 135.3\n",
      "Intercept: 278.6\n",
      "R^2 value: 0.996\n",
      "Standard error: 3.916\n"
     ]
    }
   ],
   "source": [
    "print('Slope coefficient: {:.1f}'.format(model.coef_[0]))\n",
    "print('Intercept: {:.1f}'.format(model.intercept_))\n",
    "print('R^2 value: {:.3f}'.format(r2_score(y_pred=y_predicted, y_true=y_build)))\n",
    "print('Standard error: {:.3f}'.format(S_E_calc))\n"
   ]
  },
  {
   "cell_type": "markdown",
   "metadata": {},
   "source": [
    "### Interpretation of the model\n",
    "\n",
    "1. The model coefficient of 135 can be interpreted as .... student fills this in.\n",
    "2. The standard error value of 3.9 implies that ....\n",
    "3. An $R^2$ coefficient value of .... indicates ....\n",
    "\n",
    "\n",
    "### Plotting the model fit and residuals\n"
   ]
  },
  {
   "cell_type": "raw",
   "metadata": {},
   "source": [
    "x_fit = np.array([min(x_build), max(x_build)]).reshape(-1, 1)\n",
    "y_fit = regr.predict(x_fit)\n",
    "plt.figure(figsize=(15, 5))\n",
    "plt.subplot(1, 2, 1)\n",
    "plt.plot(x_build, y_build, 'bo', label='Observed data')\n",
    "plt.xlabel('x [training data]')\n",
    "plt.ylabel('y [training data]')\n",
    "plt.plot(x_fit.ravel(), y_fit.ravel(), '--', color='black', linewidth=1, label='Linear fit')\n",
    "plt.grid()\n",
    "_ = plt.legend()\n",
    "\n",
    "plt.subplot(1, 2, 2)\n",
    "plt.plot(np.arange(1,y_build.size+1), y_build-y_predicted, 'bo', label='Errors = observed - predicted')\n",
    "plt.axhline(y=0)\n",
    "plt.ylabel('errors [training data]')\n",
    "plt.grid()\n",
    "_ = plt.legend()\n"
   ]
  }
 ],
 "metadata": {
  "kernelspec": {
   "display_name": "Python [default]",
   "language": "python",
   "name": "python3"
  },
  "language_info": {
   "codemirror_mode": {
    "name": "ipython",
    "version": 3
   },
   "file_extension": ".py",
   "mimetype": "text/x-python",
   "name": "python",
   "nbconvert_exporter": "python",
   "pygments_lexer": "ipython3",
   "version": "3.5.5"
  }
 },
 "nbformat": 4,
 "nbformat_minor": 2
}
