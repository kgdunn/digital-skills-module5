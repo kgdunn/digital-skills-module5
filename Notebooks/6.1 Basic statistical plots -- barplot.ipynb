{
 "cells": [
  {
   "cell_type": "markdown",
   "metadata": {},
   "source": [
    "(c) Kevin Dunn, All content is under Creative Commons Attribution CC-BY 4.0 and all code is under BSD-3 clause.\n",
    "Please reuse, remix, revise, and reshare this content in any way, keeping this notice! \n"
   ]
  },
  {
   "cell_type": "code",
   "execution_count": 9,
   "metadata": {},
   "outputs": [],
   "source": [
    "# Standard imports required to show plots and tables\n",
    "from matplotlib import pyplot\n",
    "from IPython.display import display\n",
    "%matplotlib inline"
   ]
  },
  {
   "cell_type": "markdown",
   "metadata": {},
   "source": [
    "Over the next few notebooks we will look at basic data plots:\n",
    "\n",
    "1. Bar plots (bar charts) **`<-- this notebook`**\n",
    "1. Histograms\n",
    "1. Time-series, or a sequence plot\n",
    "1. Scatter plot\n",
    "1. Data tables\n",
    "\n",
    "\n",
    "\n"
   ]
  },
  {
   "cell_type": "markdown",
   "metadata": {},
   "source": [
    "## Website data case study\n",
    "\n",
    "**Step 1**: always define your objective: we have recorded visits to a small website. Which day of the week is the most popular, and which is the least popular? [*If we absolutely need to take the site offline, we can pick a day which has minimal disruption*]\n",
    "\n",
    "**Step 2**: load the data, view it and use the ``.describe()`` function:\n",
    "\n",
    "You can read more, and download the data from here: http://openmv.net/info/website-traffic \n",
    "\n",
    "\n",
    "**Step 3**: use the data to solve your problem. \n",
    "\n",
    "Let's go ahead with steps 2 and 3."
   ]
  },
  {
   "cell_type": "markdown",
   "metadata": {},
   "source": [
    "### Step 2: Load the data.\n",
    "\n",
    "Refer back to the module on loading data from a CSV file, if needed. "
   ]
  },
  {
   "cell_type": "code",
   "execution_count": null,
   "metadata": {},
   "outputs": [],
   "source": [
    "import pandas as pd\n",
    "website = pd.read_csv('http://openmv.net/file/website-traffic.csv')\n",
    "print(website.head())\n",
    "print(website.tail())\n",
    "website.describe()"
   ]
  },
  {
   "cell_type": "markdown",
   "metadata": {},
   "source": [
    "So it seems like we have data from 1 June 2009 till 31 December 2009 here, sorted in order.\n",
    "\n",
    "If you are paying attention, you will notice that the ``.head()`` command gives information about more columns than ``.describe()``. \n",
    "\n",
    "That is because, by default, ``.describe()`` will only describe numeric columns. To see a summary of all columns, use the following:"
   ]
  },
  {
   "cell_type": "code",
   "execution_count": null,
   "metadata": {},
   "outputs": [],
   "source": [
    "website.describe(include='all')"
   ]
  },
  {
   "cell_type": "markdown",
   "metadata": {},
   "source": [
    "We see that `DayOfWeek` has 7 unique values, which is expected.\n",
    "\n",
    "`DayOfWeek` is not a quantitative (numeric) column. So we cannot calculate the average, the minimum, the maximum, etc, which is why those rows in the summary table are `NaN` (not a number).\n",
    "\n",
    "Columns `Year` and ``Visits`` are quantitative, so those averages, minimums, maximums, etc can be quantified.\n",
    "\n",
    "In contrast, `DayOfWeek` can be collected in groups (categories), and then we can count the number of data items in that group. For example, we could ask how many rows (in our dataset) are on \"Monday\". When we can can group rows into categories, we call it ``Categorical`` data.\n",
    "\n",
    "\n",
    "Plenty of data you will work with are categorical. Some examples:\n",
    "* *type of operating system*: Linux, Mac, Windows,...\n",
    "* *colour eyes*: grey, blue, green, brown, ...\n",
    "* *shape of object*: square, circular, rectangular, ...\n",
    "\n",
    "### Check:\n",
    "\n",
    "* Name/describe some other examples of categorical data you have worked with recently.\n",
    "* Which of these are categorical, and which are quantitative?\n",
    "\n",
    "    * Number of years of education since high-school\n",
    "    * Highest level of education achieved\n",
    "    * 1st year student, 2nd year student, 3rd year student, ...\n",
    "    * Relationship status\n",
    "    * Fuel type used in cars\n",
    "    * Octane number\n",
    "    * Type of sweetener used: sugar, honey, stevia, maple syrup, ..."
   ]
  },
  {
   "cell_type": "code",
   "execution_count": 5,
   "metadata": {},
   "outputs": [],
   "source": [
    "# Drop out the \"Year\" column: it is 2009 for all rows, so it provides little value.\n",
    "website = website.drop(columns='Year')"
   ]
  },
  {
   "cell_type": "markdown",
   "metadata": {},
   "source": [
    "### Step 3:Show a bar plot of the average number of website visits, grouped per day.\n",
    "\n",
    "So we would like to see a chart with 7 bars, and the size of the bar represents the average number of visitors on that day.\n",
    "\n",
    "Luckily Pandas provides a function that does that for us: ``.groupby(...)``. It will group the data by a given categorical column.\n",
    "\n",
    "```python\n",
    "website.groupby('DayOfWeek')```\n",
    "\n",
    "But once the rows have been grouped, you need to indicate what you want to do within those groups. Here are some examples:\n",
    "\n",
    "```python\n",
    "    website.groupby('DayOfWeek').mean()   # calculate the average per group for the other columns\n",
    "    website.groupby('DayOfWeek').count()\n",
    "    website.groupby('DayOfWeek').max()    # once grouped, calculate the maximum per group\n",
    "    website.groupby('DayOfWeek').min()\n",
    "\n",
    "```\n"
   ]
  },
  {
   "cell_type": "code",
   "execution_count": 10,
   "metadata": {},
   "outputs": [
    {
     "data": {
      "text/html": [
       "<div>\n",
       "<style scoped>\n",
       "    .dataframe tbody tr th:only-of-type {\n",
       "        vertical-align: middle;\n",
       "    }\n",
       "\n",
       "    .dataframe tbody tr th {\n",
       "        vertical-align: top;\n",
       "    }\n",
       "\n",
       "    .dataframe thead th {\n",
       "        text-align: right;\n",
       "    }\n",
       "</style>\n",
       "<table border=\"1\" class=\"dataframe\">\n",
       "  <thead>\n",
       "    <tr style=\"text-align: right;\">\n",
       "      <th></th>\n",
       "      <th>Visits</th>\n",
       "    </tr>\n",
       "    <tr>\n",
       "      <th>DayOfWeek</th>\n",
       "      <th></th>\n",
       "    </tr>\n",
       "  </thead>\n",
       "  <tbody>\n",
       "    <tr>\n",
       "      <th>Friday</th>\n",
       "      <td>20.766667</td>\n",
       "    </tr>\n",
       "    <tr>\n",
       "      <th>Monday</th>\n",
       "      <td>25.322581</td>\n",
       "    </tr>\n",
       "    <tr>\n",
       "      <th>Saturday</th>\n",
       "      <td>15.266667</td>\n",
       "    </tr>\n",
       "    <tr>\n",
       "      <th>Sunday</th>\n",
       "      <td>17.633333</td>\n",
       "    </tr>\n",
       "    <tr>\n",
       "      <th>Thursday</th>\n",
       "      <td>23.709677</td>\n",
       "    </tr>\n",
       "    <tr>\n",
       "      <th>Tuesday</th>\n",
       "      <td>25.774194</td>\n",
       "    </tr>\n",
       "    <tr>\n",
       "      <th>Wednesday</th>\n",
       "      <td>26.741935</td>\n",
       "    </tr>\n",
       "  </tbody>\n",
       "</table>\n",
       "</div>"
      ],
      "text/plain": [
       "              Visits\n",
       "DayOfWeek           \n",
       "Friday     20.766667\n",
       "Monday     25.322581\n",
       "Saturday   15.266667\n",
       "Sunday     17.633333\n",
       "Thursday   23.709677\n",
       "Tuesday    25.774194\n",
       "Wednesday  26.741935"
      ]
     },
     "metadata": {},
     "output_type": "display_data"
    }
   ],
   "source": [
    "# Now we are ready to generate the barplot:\n",
    "\n",
    "# Get the data in a variable\n",
    "average_visits_per_day = website.groupby('DayOfWeek').mean()  \n",
    "display(average_visits_per_day)"
   ]
  },
  {
   "cell_type": "code",
   "execution_count": 13,
   "metadata": {},
   "outputs": [
    {
     "data": {
      "image/png": "[encoded data removed]",
      "text/plain": [
       "<Figure size 1080x288 with 1 Axes>"
      ]
     },
     "metadata": {},
     "output_type": "display_data"
    }
   ],
   "source": [
    "# And plot the data\n",
    "average_visits_per_day.plot.barh(figsize=(15, 4));"
   ]
  },
  {
   "cell_type": "markdown",
   "metadata": {},
   "source": [
    "### Checks:\n",
    "\n",
    "1. The most visits, *on average*, occur on a \\_\\_\\_\\_day.\n",
    "2. If the website should go offline for an entire day, the best day to pick would be a \\_\\_\\_\\_day.\n",
    "3. Is the bar plot strictly necessary in this case study when compared to the data table? *In other words*, what value does the bar plot provide, if any, that is not provided by the table?"
   ]
  },
  {
   "attachments": {},
   "cell_type": "markdown",
   "metadata": {},
   "source": [
    "### Summary, and improvements\n",
    "\n",
    "![alt=\"Bar plot terminology\"](images/summarizing-data/barplot-example-expenses.png)\n",
    "\n",
    "* A bar plot should be used when there are many categories.\n",
    "* The category axis can be shown on the vertical axis (makes it more readable), but on the horizontal axis is also possible.\n",
    "* The text can sometimes be added *inside the bar* if there is restricted space.\n",
    "* An interesting characteristic of a bar plot is that **the *interpretation* of a bar plot does not differ if the category axis is reordered.** It can be easier to interpret the plot with a particular ordering; however, the interpretation won't be *different* if using a different ordering. The example below demonstrates this: the interepretation has not changed, but the visualization is far more effective.\n"
   ]
  },
  {
   "cell_type": "code",
   "execution_count": 8,
   "metadata": {},
   "outputs": [
    {
     "data": {
      "image/png": "[encoded data removed]",
      "text/plain": [
       "<Figure size 1080x288 with 1 Axes>"
      ]
     },
     "metadata": {},
     "output_type": "display_data"
    }
   ],
   "source": [
    "# Take the same grouped data from before, except sort it now:\n",
    "sorted_data = average_visits_per_day.sort_values('Visits', ascending=False)  \n",
    "sorted_data.plot.barh(figsize=(15, 4));"
   ]
  }
 ],
 "metadata": {
  "kernelspec": {
   "display_name": "Python [conda env:anaconda]",
   "language": "python",
   "name": "conda-env-anaconda-py"
  },
  "language_info": {
   "codemirror_mode": {
    "name": "ipython",
    "version": 3
   },
   "file_extension": ".py",
   "mimetype": "text/x-python",
   "name": "python",
   "nbconvert_exporter": "python",
   "pygments_lexer": "ipython3",
   "version": "3.5.5"
  }
 },
 "nbformat": 4,
 "nbformat_minor": 2
}
