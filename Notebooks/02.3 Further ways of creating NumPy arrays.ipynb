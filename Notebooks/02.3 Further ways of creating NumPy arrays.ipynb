{
 "cells": [
  {
   "cell_type": "markdown",
   "metadata": {},
   "source": [
    ">All content is released under Creative Commons Attribution [CC-BY 4.0](https://creativecommons.org/licenses/by/4.0/) and all source code is released under a [BSD-3 clause license](https://en.wikipedia.org/wiki/BSD_licenses). Parts of these materials were inspired by https://github.com/engineersCode/EngComp/ (CC-BY 4.0), L.A. Barba, N.C. Clementi.\n",
    ">\n",
    ">Please reuse, remix, revise, and reshare this content in any way, keeping this notice.\n",
    ">\n",
    "><img style=\"float: right;\" width=\"150px\" src=\"images/jupyter-logo.png\">**Are you viewing this on jupyter.org?** Then this notebook will be read-only. <br>\n",
    ">See how you can interactively run the code in this notebook by visiting our [instruction page about Notebooks](https://yint.org/notebooks). "
   ]
  },
  {
   "cell_type": "markdown",
   "metadata": {},
   "source": [
    "# Further ways of creating NumPy arrays\n",
    "\n",
    "In this section we will look at creating arrays, particularly matrices, in an effecient manner. \n",
    "\n",
    "1. Identity matrices: what if you need an [identity matrix](https://en.wikipedia.org/wiki/Identity_matrix) (a matrix with 1's on the diagonal)?\n",
    "2. Random matrices: arrays filled with random numbers\n",
    "3. Vector sequences: say you need a vector where the entries are ``[0, 1, 2, 3, 4, ..., 9]``\n",
    "4. Matrix from a vector: take a vector (of say 12 entries) and reshape it into an array (of 3 rows and 4 columns)\n",
    "\n",
    "In the next section we will look at these\n"
   ]
  },
  {
   "cell_type": "markdown",
   "metadata": {},
   "source": [
    "## 1. Identity matrices\n",
    "\n",
    "A square matrix with 1's on the diagonal and zeros everywhere else is known as an identity matrix. For example a $4\\times 4$ identity matrix is:  $$I_4 = \\begin{bmatrix}\n",
    "1 & 0 & 0 & 0 \\\\\n",
    "0 & 1 & 0 & 0 \\\\\n",
    "0 & 0 & 1 & 0 \\\\\n",
    "0 & 0 & 0 & 1 \\end{bmatrix}$$"
   ]
  },
  {
   "cell_type": "code",
   "execution_count": 1,
   "metadata": {},
   "outputs": [
    {
     "name": "stdout",
     "output_type": "stream",
     "text": [
      "[[1. 0. 0. 0. 0.]\n",
      " [0. 1. 0. 0. 0.]\n",
      " [0. 0. 1. 0. 0.]\n",
      " [0. 0. 0. 1. 0.]\n",
      " [0. 0. 0. 0. 1.]]\n"
     ]
    }
   ],
   "source": [
    "import numpy as np\n",
    "np.identity?\n",
    "id5 = np.identity(n=5)\n",
    "print(id5)"
   ]
  },
  {
   "cell_type": "markdown",
   "metadata": {},
   "source": [
    "A similar function to ``np.identity(...)`` is ``np.eye(...)``. It is a play on words, where ``eye`` refers to the uppercase letter $I$. The above above $4\\times 4$ matrix is often written as $I_4$ in mathematical notation."
   ]
  },
  {
   "cell_type": "code",
   "execution_count": 2,
   "metadata": {},
   "outputs": [
    {
     "name": "stdout",
     "output_type": "stream",
     "text": [
      "[[1. 0. 0. 0. 0.]\n",
      " [0. 1. 0. 0. 0.]\n",
      " [0. 0. 1. 0. 0.]\n",
      " [0. 0. 0. 1. 0.]\n",
      " [0. 0. 0. 0. 1.]]\n",
      "-----\n",
      "[[1. 0. 0. 0. 0.]\n",
      " [0. 1. 0. 0. 0.]\n",
      " [0. 0. 1. 0. 0.]\n",
      " [0. 0. 0. 1. 0.]\n",
      " [0. 0. 0. 0. 1.]]\n",
      "-----\n",
      "[[1. 0. 0. 0. 0.]\n",
      " [0. 1. 0. 0. 0.]\n",
      " [0. 0. 1. 0. 0.]\n",
      " [0. 0. 0. 1. 0.]\n",
      " [0. 0. 0. 0. 1.]]\n",
      "-----\n",
      "[[0. 0. 1. 0. 0.]\n",
      " [0. 0. 0. 1. 0.]\n",
      " [0. 0. 0. 0. 1.]\n",
      " [0. 0. 0. 0. 0.]\n",
      " [0. 0. 0. 0. 0.]]\n"
     ]
    }
   ],
   "source": [
    "# Try the following, to see what they produce:\n",
    "\n",
    "also_id5 = np.eye(5)\n",
    "print(also_id5)\n",
    "print('-----')\n",
    "\n",
    "yet_again = np.eye(5, 5)\n",
    "print(yet_again)\n",
    "print('-----')\n",
    "\n",
    "another_id5 = np.eye(5, 5, 0)  # start the 1's in the 0th position (i.e. row 1 and column 1)\n",
    "print(another_id5)\n",
    "print('-----')\n",
    "\n",
    "# What if we want diagonal ones, but not on the main diagonal,\n",
    "# but starting in the first row and third column rather?\n",
    "print(np.eye(5, 5, 2))"
   ]
  },
  {
   "cell_type": "markdown",
   "metadata": {},
   "source": [
    "## 2. Arrays of random numbers\n",
    "\n",
    "For simulations it is often helpful to start with an array of random values. Each value might be a starting position or state. Or sometimes you just want to test a piece of code, but not only with 1's and 0's that you have seen till now.\n",
    "\n",
    "For this it is helpful to create arrays of any shape, filled with random values:"
   ]
  },
  {
   "cell_type": "code",
   "execution_count": 3,
   "metadata": {},
   "outputs": [
    {
     "name": "stdout",
     "output_type": "stream",
     "text": [
      "[[0.01368816 0.86677688 0.84657945]\n",
      " [0.98786086 0.89295924 0.59952304]\n",
      " [0.70638167 0.59402929 0.26870648]\n",
      " [0.70122973 0.35996283 0.68491802]]\n"
     ]
    }
   ],
   "source": [
    "import numpy as np\n",
    "rnd = np.random.random(size=(4,3))   # random values between 0 (included) and 1 (not included)\n",
    "print(rnd)"
   ]
  },
  {
   "cell_type": "code",
   "execution_count": 4,
   "metadata": {},
   "outputs": [
    {
     "name": "stdout",
     "output_type": "stream",
     "text": [
      "[[[0.96403483 0.86524034 0.13552059]\n",
      "  [0.3328299  0.34656982 0.1088898 ]]\n",
      "\n",
      " [[0.10095307 0.1652322  0.6048939 ]\n",
      "  [0.72723617 0.72142758 0.87748828]]\n",
      "\n",
      " [[0.16780978 0.34024089 0.57756603]\n",
      "  [0.87874104 0.0611315  0.43978818]]\n",
      "\n",
      " [[0.89534579 0.67043184 0.71275708]\n",
      "  [0.27696489 0.41665999 0.87666757]]]\n"
     ]
    }
   ],
   "source": [
    "# Or try a multi-dimensional array\n",
    "rnd = np.random.random(size=(4, 2, 3))\n",
    "print(rnd)"
   ]
  },
  {
   "cell_type": "markdown",
   "metadata": {},
   "source": [
    "Sometimes we want random integers though, between some ``low``er and upper (``high``) bounds. The random values may include the ``low`` values, but will be till just under the ``high`` value specified."
   ]
  },
  {
   "cell_type": "code",
   "execution_count": 5,
   "metadata": {},
   "outputs": [
    {
     "name": "stdout",
     "output_type": "stream",
     "text": [
      "[[[-3 -1  1]\n",
      "  [-3  2 -1]]\n",
      "\n",
      " [[ 6 -3  0]\n",
      "  [ 4  5  5]]\n",
      "\n",
      " [[ 2  0  4]\n",
      "  [-2 -1  3]]\n",
      "\n",
      " [[ 2  6  1]\n",
      "  [ 2  4  6]]]\n"
     ]
    }
   ],
   "source": [
    "# Run this code a few times to verify that you get -3, but never +7\n",
    "rnd = np.random.randint(low=-3, high=7, size=(4, 2, 3))\n",
    "print(rnd)"
   ]
  },
  {
   "cell_type": "markdown",
   "metadata": {},
   "source": [
    "## 3. Sequences\n",
    "\n",
    "Vectors containing a sequence, such as ``[0, 1, 2, ... 9]`` or ``[2, 4, 6, 8, ... 12]`` are often used as a starting point for calculations. To create these we use the `numpy.arange()`  and `numpy.linspace()` commands.\n",
    "\n",
    "*Syntax:*\n",
    "\n",
    "`numpy.arange(start, stop, step)`\n",
    "\n",
    "* `start` by default is zero\n",
    "* `stop` is not inclusive (in other words, NumPy will stop just before this value), and \n",
    "* the `step` has a default value of 1.\n",
    "\n",
    "Try it out below:\n"
   ]
  },
  {
   "cell_type": "code",
   "execution_count": 6,
   "metadata": {},
   "outputs": [
    {
     "data": {
      "text/plain": [
       "array([0, 1, 2, 3])"
      ]
     },
     "execution_count": 6,
     "metadata": {},
     "output_type": "execute_result"
    }
   ],
   "source": [
    "np.arange(4)\n",
    "\n",
    "# we could have also written, but you will agree that this is unnecesary:\n",
    "np.arange(start=0, stop=4, step=1)"
   ]
  },
  {
   "cell_type": "code",
   "execution_count": null,
   "metadata": {},
   "outputs": [],
   "source": [
    "np.arange(start=2, stop=6, step=1)\n",
    "np.arange(start=2, stop=6)  # leave `step` unspecified if it is just \"1\"\n",
    "np.arange(2, 6)             # most common usage: leave all arguments unspecified"
   ]
  },
  {
   "cell_type": "code",
   "execution_count": null,
   "metadata": {},
   "outputs": [],
   "source": [
    "np.arange(start=2, stop=9, step=2)  # jump in steps of 2\n",
    "np.arange(2, 9, 2)"
   ]
  },
  {
   "cell_type": "code",
   "execution_count": null,
   "metadata": {},
   "outputs": [],
   "source": [
    "np.arange(2, 6, 0.5)  # just in fractional steps"
   ]
  },
  {
   "cell_type": "markdown",
   "metadata": {},
   "source": [
    "### To try below:\n",
    "\n",
    ">1. Create a sequence of values starting at -4 and ending just below +4, in steps of 1\n",
    ">2. Create a sequence of values starting at -2 and ending just below +2, in steps of 0.5. How many elements are the sequence?\n",
    ">3. Start at +2 and step down in increments of 0.25, until just before -2. How many elements are in the sequence?\n"
   ]
  },
  {
   "cell_type": "code",
   "execution_count": null,
   "metadata": {},
   "outputs": [],
   "source": [
    "# Step 1:\n",
    "print(np.arange( ... ))\n",
    "\n",
    "# Step 2:\n",
    "uphill = np.arange( -2, 2, 0.5 )\n",
    "print(uphill)\n",
    "print(uphill.shape)\n",
    "\n",
    "# Step 3: going backwards!!\n",
    "downhill = np.arange( ... )\n",
    "print(downhill)\n",
    "print(downhill.shape)\n"
   ]
  },
  {
   "cell_type": "markdown",
   "metadata": {},
   "source": [
    "`np.linspace()` is similar to `np.arange()`, but you tell it the length of your sequence, instead of a step size. It returns an array with evenly spaced numbers over the specified interval.  \n",
    "\n",
    "*Syntax:*\n",
    "\n",
    "`np.linspace(start, stop, num)`\n",
    "\n",
    "The `stop` value ***is included*** by default, but it can be removed (type ``np.linspace?`` in your notebook to see how). \n",
    "The default value of `num=50`. \n",
    "\n",
    "### To try:\n",
    "\n",
    ">1. Confirm that you indeed get a sequence of 50 values when you do not specify ``num``. Also confirm that the ``stop`` value is the last value in the vector.\n",
    ">2. Try to get a vector with fewer elements, say 6\n",
    ">3. Go backwards again: create a sequence where the numbers decrease in value."
   ]
  },
  {
   "cell_type": "code",
   "execution_count": null,
   "metadata": {},
   "outputs": [],
   "source": [
    "# Step 1:\n",
    "default = np.linspace(0.0, 4.9)\n",
    "print(default)\n",
    "print(default.shape)   # confirm the default length is indeed 50\n",
    "\n",
    "# Step 2:\n",
    "print(np.linspace(start=..., stop=..., num= ...))\n",
    "\n",
    "# Step 3:\n",
    "print(np.linspace( ... ))"
   ]
  },
  {
   "cell_type": "markdown",
   "metadata": {},
   "source": [
    "## Matrix from a vector: reshaping\n",
    "\n",
    "STILL TO COME. use parts of http://nbviewer.jupyter.org/github/engineersCode/EngComp1_offtheground/blob/master/notebooks_en/4_NumPy_Arrays_and_Plotting.ipynb\n",
    "\n",
    "ADvanced: np.resize"
   ]
  },
  {
   "cell_type": "markdown",
   "metadata": {},
   "source": [
    "## Next steps\n",
    "\n",
    "Above, and in prior notebooks we have created vectors, matrices and arrays in all sorts of formats. With ones, zeros, diagonals, random numbers, and sequences of numbers. \n",
    "\n",
    "Next it is time to put these to use, and perform calculations on them."
   ]
  }
 ],
 "metadata": {
  "kernelspec": {
   "display_name": "Python [conda env:anaconda]",
   "language": "python",
   "name": "conda-env-anaconda-py"
  },
  "language_info": {
   "codemirror_mode": {
    "name": "ipython",
    "version": 3
   },
   "file_extension": ".py",
   "mimetype": "text/x-python",
   "name": "python",
   "nbconvert_exporter": "python",
   "pygments_lexer": "ipython3",
   "version": "3.5.5"
  }
 },
 "nbformat": 4,
 "nbformat_minor": 2
}
