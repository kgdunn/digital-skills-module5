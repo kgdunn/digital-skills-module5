{
 "cells": [
  {
   "cell_type": "markdown",
   "metadata": {
    "toc": true
   },
   "source": [
    "<h1>Table of Contents<span class=\"tocSkip\"></span></h1>\n",
    "<div class=\"toc\"><ul class=\"toc-item\"><li><span><a href=\"#Website-case-study\" data-toc-modified-id=\"Website-case-study-1\"><span class=\"toc-item-num\">1&nbsp;&nbsp;</span>Website case study</a></span><ul class=\"toc-item\"><li><span><a href=\"#Step-1:--Define-your-objective\" data-toc-modified-id=\"Step-1:--Define-your-objective-1.1\"><span class=\"toc-item-num\">1.1&nbsp;&nbsp;</span>Step 1:  Define your objective</a></span></li><li><span><a href=\"#Step-2:-Get-the-data\" data-toc-modified-id=\"Step-2:-Get-the-data-1.2\"><span class=\"toc-item-num\">1.2&nbsp;&nbsp;</span>Step 2: Get the data</a></span></li><li><span><a href=\"#Step-3:-explore-your-data\" data-toc-modified-id=\"Step-3:-explore-your-data-1.3\"><span class=\"toc-item-num\">1.3&nbsp;&nbsp;</span>Step 3: explore your data</a></span></li><li><span><a href=\"#Step-4:-Clean-up-your-data\" data-toc-modified-id=\"Step-4:-Clean-up-your-data-1.4\"><span class=\"toc-item-num\">1.4&nbsp;&nbsp;</span>Step 4: Clean up your data</a></span></li><li><span><a href=\"#Step-5:-manipulate-your-data,-making-calculations-based-on-it\" data-toc-modified-id=\"Step-5:-manipulate-your-data,-making-calculations-based-on-it-1.5\"><span class=\"toc-item-num\">1.5&nbsp;&nbsp;</span>Step 5: manipulate your data, making calculations based on it</a></span></li><li><span><a href=\"#Step-6:-communicate-your-message-clearly\" data-toc-modified-id=\"Step-6:-communicate-your-message-clearly-1.6\"><span class=\"toc-item-num\">1.6&nbsp;&nbsp;</span>Step 6: communicate your message clearly</a></span></li></ul></li><li><span><a href=\"#Barplots\" data-toc-modified-id=\"Barplots-2\"><span class=\"toc-item-num\">2&nbsp;&nbsp;</span>Barplots</a></span><ul class=\"toc-item\"><li><span><a href=\"#Definition-for-a-barplot\" data-toc-modified-id=\"Definition-for-a-barplot-2.1\"><span class=\"toc-item-num\">2.1&nbsp;&nbsp;</span>Definition for a barplot</a></span></li><li><span><a href=\"#Enrichment\" data-toc-modified-id=\"Enrichment-2.2\"><span class=\"toc-item-num\">2.2&nbsp;&nbsp;</span>Enrichment</a></span></li><li><span><a href=\"#Ordering-the-bars-in-the-barplot\" data-toc-modified-id=\"Ordering-the-bars-in-the-barplot-2.3\"><span class=\"toc-item-num\">2.3&nbsp;&nbsp;</span>Ordering the bars in the barplot</a></span></li></ul></li></ul></div>"
   ]
  },
  {
   "cell_type": "markdown",
   "metadata": {},
   "source": [
    ">All content is released under Creative Commons Attribution [CC-BY 4.0](https://creativecommons.org/licenses/by/4.0/) and all source code is released under a [BSD-3 clause license](https://en.wikipedia.org/wiki/BSD_licenses). \n",
    ">\n",
    ">Please reuse, remix, revise, and reshare this content in any way, keeping this notice.\n",
    ">\n",
    "><img style=\"float: right;\" width=\"150px\" src=\"images/jupyter-logo.png\">**Are you viewing this on jupyter.org?** Then this notebook will be read-only. <br>\n",
    ">See how you can interactively run the code in this notebook by visiting our [instruction page about Notebooks](https://yint.org/notebooks). "
   ]
  },
  {
   "cell_type": "code",
   "execution_count": 1,
   "metadata": {},
   "outputs": [],
   "source": [
    "# Standard imports required to show plots and tables in this notebook\n",
    "from matplotlib import pyplot\n",
    "from IPython.display import display\n",
    "%matplotlib inline"
   ]
  },
  {
   "cell_type": "markdown",
   "metadata": {},
   "source": [
    "# Over the next few notebooks we will look at basic data plots:\n",
    "\n",
    "1. Bar plots (bar charts) **`<-- this notebook`**\n",
    "1. Histograms\n",
    "1. Time-series, or a sequence plot\n",
    "1. Scatter plot\n",
    "1. Data tables\n",
    "\n",
    "# Bar plots\n",
    "\n",
    "Bar plots are a simple (though inefficient) way to visualize information. You don't need to explain them, almost everyone has seen one and knows how to read it. \n",
    "\n",
    "We will use the case study below to introduce the topic and point out some issues to be aware of.\n"
   ]
  },
  {
   "cell_type": "markdown",
   "metadata": {},
   "source": [
    "## Website case study\n",
    "\n",
    "We will follow the 6 steps from the [general data science workflow](./01.8%20The%20data%20science%20workflow.ipynb) (see the prior notebook for more details).\n",
    "\n",
    "**Step 1** is to ***define*** your objective: we have recorded visits to a small website. Which day of the week is the most popular, and which is the least popular? \n",
    "\n",
    "**Step 2** is to get your data\n",
    "\n",
    "**Step 3** asks to explore your data, look at it and make summaries, get a feeling for what you have.\n",
    "\n",
    "**Step 4** is to clean up your data. Thankfully this has been done already.\n",
    "\n",
    "**Step 5** is use the data to solve your goal/objective, to manipulate the data.\n",
    "\n",
    "**Step 6** is to communicate your results, which is what the main task is here, using a bar plot."
   ]
  },
  {
   "cell_type": "markdown",
   "metadata": {},
   "source": [
    "### Step 1:  Define your objective\n",
    "\n",
    "We have a small website, and we record the number of visitors each data. Our ***objective*** is to find which day of the week is the most popular, and which is the least popular. \n",
    "\n",
    "Why? If we absolutely need to take the website off-line, we can pick a day which has minimal disruption for our visitors."
   ]
  },
  {
   "cell_type": "markdown",
   "metadata": {},
   "source": [
    "### Step 2: Get the data\n",
    "\n",
    "The data has been assembled for you already. You can read more about the data, and download it from here: http://openmv.net/info/website-traffic \n",
    "\n",
    "Refer back to the module on loading data from a CSV file, if needed. "
   ]
  },
  {
   "cell_type": "code",
   "execution_count": 2,
   "metadata": {},
   "outputs": [
    {
     "name": "stdout",
     "output_type": "stream",
     "text": [
      "   DayOfWeek MonthDay  Year  Visits\n",
      "0     Monday   June 1  2009      27\n",
      "1    Tuesday   June 2  2009      31\n",
      "2  Wednesday   June 3  2009      38\n",
      "3   Thursday   June 4  2009      38\n",
      "4     Friday   June 5  2009      31\n",
      "     DayOfWeek     MonthDay  Year  Visits\n",
      "209     Sunday  December 27  2009      15\n",
      "210     Monday  December 28  2009      24\n",
      "211    Tuesday  December 29  2009      18\n",
      "212  Wednesday  December 30  2009      10\n",
      "213   Thursday  December 31  2009       7\n"
     ]
    },
    {
     "data": {
      "text/html": [
       "<div>\n",
       "<style scoped>\n",
       "    .dataframe tbody tr th:only-of-type {\n",
       "        vertical-align: middle;\n",
       "    }\n",
       "\n",
       "    .dataframe tbody tr th {\n",
       "        vertical-align: top;\n",
       "    }\n",
       "\n",
       "    .dataframe thead th {\n",
       "        text-align: right;\n",
       "    }\n",
       "</style>\n",
       "<table border=\"1\" class=\"dataframe\">\n",
       "  <thead>\n",
       "    <tr style=\"text-align: right;\">\n",
       "      <th></th>\n",
       "      <th>Year</th>\n",
       "      <th>Visits</th>\n",
       "    </tr>\n",
       "  </thead>\n",
       "  <tbody>\n",
       "    <tr>\n",
       "      <th>count</th>\n",
       "      <td>214.0</td>\n",
       "      <td>214.000000</td>\n",
       "    </tr>\n",
       "    <tr>\n",
       "      <th>mean</th>\n",
       "      <td>2009.0</td>\n",
       "      <td>22.233645</td>\n",
       "    </tr>\n",
       "    <tr>\n",
       "      <th>std</th>\n",
       "      <td>0.0</td>\n",
       "      <td>8.331826</td>\n",
       "    </tr>\n",
       "    <tr>\n",
       "      <th>min</th>\n",
       "      <td>2009.0</td>\n",
       "      <td>3.000000</td>\n",
       "    </tr>\n",
       "    <tr>\n",
       "      <th>25%</th>\n",
       "      <td>2009.0</td>\n",
       "      <td>16.250000</td>\n",
       "    </tr>\n",
       "    <tr>\n",
       "      <th>50%</th>\n",
       "      <td>2009.0</td>\n",
       "      <td>22.000000</td>\n",
       "    </tr>\n",
       "    <tr>\n",
       "      <th>75%</th>\n",
       "      <td>2009.0</td>\n",
       "      <td>27.750000</td>\n",
       "    </tr>\n",
       "    <tr>\n",
       "      <th>max</th>\n",
       "      <td>2009.0</td>\n",
       "      <td>48.000000</td>\n",
       "    </tr>\n",
       "  </tbody>\n",
       "</table>\n",
       "</div>"
      ],
      "text/plain": [
       "         Year      Visits\n",
       "count   214.0  214.000000\n",
       "mean   2009.0   22.233645\n",
       "std       0.0    8.331826\n",
       "min    2009.0    3.000000\n",
       "25%    2009.0   16.250000\n",
       "50%    2009.0   22.000000\n",
       "75%    2009.0   27.750000\n",
       "max    2009.0   48.000000"
      ]
     },
     "execution_count": 2,
     "metadata": {},
     "output_type": "execute_result"
    }
   ],
   "source": [
    "import pandas as pd\n",
    "website = pd.read_csv('http://openmv.net/file/website-traffic.csv')\n",
    "print(website.head())\n",
    "print(website.tail())\n",
    "website.describe()"
   ]
  },
  {
   "cell_type": "markdown",
   "metadata": {},
   "source": [
    "### Step 3: explore your data\n",
    "\n",
    "We have done a little bit of this step already, above, when we used the ``.describe()`` function.\n",
    "\n",
    "So it seems like we have data from 1 June 2009 till 31 December 2009 here, sorted in order.\n",
    "\n",
    "If you are paying attention, you will notice that the ``.head()`` command gives information about more columns than ``.describe()``. \n",
    "\n",
    "That is because, by default, ``.describe()`` will only describe numeric columns. To see a summary of all columns, use the following:"
   ]
  },
  {
   "cell_type": "code",
   "execution_count": 3,
   "metadata": {},
   "outputs": [
    {
     "data": {
      "text/html": [
       "<div>\n",
       "<style scoped>\n",
       "    .dataframe tbody tr th:only-of-type {\n",
       "        vertical-align: middle;\n",
       "    }\n",
       "\n",
       "    .dataframe tbody tr th {\n",
       "        vertical-align: top;\n",
       "    }\n",
       "\n",
       "    .dataframe thead th {\n",
       "        text-align: right;\n",
       "    }\n",
       "</style>\n",
       "<table border=\"1\" class=\"dataframe\">\n",
       "  <thead>\n",
       "    <tr style=\"text-align: right;\">\n",
       "      <th></th>\n",
       "      <th>DayOfWeek</th>\n",
       "      <th>MonthDay</th>\n",
       "      <th>Year</th>\n",
       "      <th>Visits</th>\n",
       "    </tr>\n",
       "  </thead>\n",
       "  <tbody>\n",
       "    <tr>\n",
       "      <th>count</th>\n",
       "      <td>214</td>\n",
       "      <td>214</td>\n",
       "      <td>214.0</td>\n",
       "      <td>214.000000</td>\n",
       "    </tr>\n",
       "    <tr>\n",
       "      <th>unique</th>\n",
       "      <td>7</td>\n",
       "      <td>214</td>\n",
       "      <td>NaN</td>\n",
       "      <td>NaN</td>\n",
       "    </tr>\n",
       "    <tr>\n",
       "      <th>top</th>\n",
       "      <td>Thursday</td>\n",
       "      <td>September 12</td>\n",
       "      <td>NaN</td>\n",
       "      <td>NaN</td>\n",
       "    </tr>\n",
       "    <tr>\n",
       "      <th>freq</th>\n",
       "      <td>31</td>\n",
       "      <td>1</td>\n",
       "      <td>NaN</td>\n",
       "      <td>NaN</td>\n",
       "    </tr>\n",
       "    <tr>\n",
       "      <th>mean</th>\n",
       "      <td>NaN</td>\n",
       "      <td>NaN</td>\n",
       "      <td>2009.0</td>\n",
       "      <td>22.233645</td>\n",
       "    </tr>\n",
       "    <tr>\n",
       "      <th>std</th>\n",
       "      <td>NaN</td>\n",
       "      <td>NaN</td>\n",
       "      <td>0.0</td>\n",
       "      <td>8.331826</td>\n",
       "    </tr>\n",
       "    <tr>\n",
       "      <th>min</th>\n",
       "      <td>NaN</td>\n",
       "      <td>NaN</td>\n",
       "      <td>2009.0</td>\n",
       "      <td>3.000000</td>\n",
       "    </tr>\n",
       "    <tr>\n",
       "      <th>25%</th>\n",
       "      <td>NaN</td>\n",
       "      <td>NaN</td>\n",
       "      <td>2009.0</td>\n",
       "      <td>16.250000</td>\n",
       "    </tr>\n",
       "    <tr>\n",
       "      <th>50%</th>\n",
       "      <td>NaN</td>\n",
       "      <td>NaN</td>\n",
       "      <td>2009.0</td>\n",
       "      <td>22.000000</td>\n",
       "    </tr>\n",
       "    <tr>\n",
       "      <th>75%</th>\n",
       "      <td>NaN</td>\n",
       "      <td>NaN</td>\n",
       "      <td>2009.0</td>\n",
       "      <td>27.750000</td>\n",
       "    </tr>\n",
       "    <tr>\n",
       "      <th>max</th>\n",
       "      <td>NaN</td>\n",
       "      <td>NaN</td>\n",
       "      <td>2009.0</td>\n",
       "      <td>48.000000</td>\n",
       "    </tr>\n",
       "  </tbody>\n",
       "</table>\n",
       "</div>"
      ],
      "text/plain": [
       "       DayOfWeek      MonthDay    Year      Visits\n",
       "count        214           214   214.0  214.000000\n",
       "unique         7           214     NaN         NaN\n",
       "top     Thursday  September 12     NaN         NaN\n",
       "freq          31             1     NaN         NaN\n",
       "mean         NaN           NaN  2009.0   22.233645\n",
       "std          NaN           NaN     0.0    8.331826\n",
       "min          NaN           NaN  2009.0    3.000000\n",
       "25%          NaN           NaN  2009.0   16.250000\n",
       "50%          NaN           NaN  2009.0   22.000000\n",
       "75%          NaN           NaN  2009.0   27.750000\n",
       "max          NaN           NaN  2009.0   48.000000"
      ]
     },
     "execution_count": 3,
     "metadata": {},
     "output_type": "execute_result"
    }
   ],
   "source": [
    "website.describe(include='all')"
   ]
  },
  {
   "cell_type": "markdown",
   "metadata": {},
   "source": [
    "We see that `DayOfWeek` has 7 unique values, which is expected.\n",
    "\n",
    "`DayOfWeek` is not a quantitative (numeric) column. So we cannot calculate the average, the minimum, the maximum, etc, which is why those rows in the summary table are `NaN` (not a number).\n",
    "\n",
    "Columns `Year` and ``Visits`` are quantitative, so those averages, minimums, maximums, etc can be quantified.\n",
    "\n",
    "In contrast, `DayOfWeek` can be collected in groups (categories), and then we can count the number of data items in that group. For example, we could ask how many rows (in our dataset) are on \"Monday\". When we can can group rows into categories, we call it ``Categorical`` data.\n",
    "\n",
    "\n",
    "Plenty of data you will work with are categorical. Some examples:\n",
    "* *type of operating system*: Linux, Mac, Windows,...\n",
    "* *colour eyes*: grey, blue, green, brown, ...\n",
    "* *shape of object*: square, circular, rectangular, ...\n",
    "\n",
    "#### Self-check:\n",
    "\n",
    "* Name/describe some other examples of categorical data you have worked with recently.\n",
    "* Which of these are categorical, and which are quantitative?\n",
    "\n",
    "    * Number of years of education since high-school\n",
    "    * Highest level of education achieved\n",
    "    * 1st year student, 2nd year student, 3rd year student, ...\n",
    "    * Relationship status\n",
    "    * Fuel type used in cars\n",
    "    * Octane number\n",
    "    * Type of sweetener used: sugar, honey, stevia, maple syrup, ..."
   ]
  },
  {
   "cell_type": "markdown",
   "metadata": {},
   "source": [
    "### Step 4: Clean up your data\n",
    "\n",
    "We don't see any issues in the data yet. It actually was in a good condition already. In a later notebook we will show you can plot the number of visits against time. Perhaps there are issues that you will see then. \n",
    "\n",
    "For now we will assume the data are clean and that we can start to manipulate it.\n",
    "\n",
    "### Step 5: manipulate your data, making calculations based on it \n",
    "\n",
    "To answer our question from step 1, we would like to summarize the average number of website visits, grouped per day.\n",
    "\n",
    "In step 2 we saw that there is a column called `DayOfWeek`. In other words, we want to collect all visits from the same day together and calculate the average number of visits on that day.\n",
    "\n",
    "If this were a table of results, we would want one column with 7 rows, one for each day of the week. In a second column we would want the average number of visitors on that day.\n",
    "\n",
    "Luckily Pandas provides a function that does that for us: ``.groupby(...)``. It will group the data by a given categorical column.\n",
    "\n",
    "```python\n",
    "website.groupby(by='DayOfWeek')```\n",
    "\n",
    "But once the rows have been grouped, you need to indicate what you want to do within those groups. Here are some examples:\n",
    "\n",
    "```python\n",
    "    website.groupby(by='DayOfWeek').mean()   # calculate the average per group for the other columns\n",
    "    website.groupby(by='DayOfWeek').count()\n",
    "    website.groupby(by='DayOfWeek').max()    # once grouped, calculate the maximum per group\n",
    "    website.groupby(by='DayOfWeek').min()\n",
    "\n",
    "```\n"
   ]
  },
  {
   "cell_type": "code",
   "execution_count": 4,
   "metadata": {},
   "outputs": [
    {
     "data": {
      "text/html": [
       "<div>\n",
       "<style scoped>\n",
       "    .dataframe tbody tr th:only-of-type {\n",
       "        vertical-align: middle;\n",
       "    }\n",
       "\n",
       "    .dataframe tbody tr th {\n",
       "        vertical-align: top;\n",
       "    }\n",
       "\n",
       "    .dataframe thead th {\n",
       "        text-align: right;\n",
       "    }\n",
       "</style>\n",
       "<table border=\"1\" class=\"dataframe\">\n",
       "  <thead>\n",
       "    <tr style=\"text-align: right;\">\n",
       "      <th></th>\n",
       "      <th>Year</th>\n",
       "      <th>Visits</th>\n",
       "    </tr>\n",
       "    <tr>\n",
       "      <th>DayOfWeek</th>\n",
       "      <th></th>\n",
       "      <th></th>\n",
       "    </tr>\n",
       "  </thead>\n",
       "  <tbody>\n",
       "    <tr>\n",
       "      <th>Friday</th>\n",
       "      <td>2009.0</td>\n",
       "      <td>20.766667</td>\n",
       "    </tr>\n",
       "    <tr>\n",
       "      <th>Monday</th>\n",
       "      <td>2009.0</td>\n",
       "      <td>25.322581</td>\n",
       "    </tr>\n",
       "    <tr>\n",
       "      <th>Saturday</th>\n",
       "      <td>2009.0</td>\n",
       "      <td>15.266667</td>\n",
       "    </tr>\n",
       "    <tr>\n",
       "      <th>Sunday</th>\n",
       "      <td>2009.0</td>\n",
       "      <td>17.633333</td>\n",
       "    </tr>\n",
       "    <tr>\n",
       "      <th>Thursday</th>\n",
       "      <td>2009.0</td>\n",
       "      <td>23.709677</td>\n",
       "    </tr>\n",
       "    <tr>\n",
       "      <th>Tuesday</th>\n",
       "      <td>2009.0</td>\n",
       "      <td>25.774194</td>\n",
       "    </tr>\n",
       "    <tr>\n",
       "      <th>Wednesday</th>\n",
       "      <td>2009.0</td>\n",
       "      <td>26.741935</td>\n",
       "    </tr>\n",
       "  </tbody>\n",
       "</table>\n",
       "</div>"
      ],
      "text/plain": [
       "             Year     Visits\n",
       "DayOfWeek                   \n",
       "Friday     2009.0  20.766667\n",
       "Monday     2009.0  25.322581\n",
       "Saturday   2009.0  15.266667\n",
       "Sunday     2009.0  17.633333\n",
       "Thursday   2009.0  23.709677\n",
       "Tuesday    2009.0  25.774194\n",
       "Wednesday  2009.0  26.741935"
      ]
     },
     "metadata": {},
     "output_type": "display_data"
    },
    {
     "name": "stdout",
     "output_type": "stream",
     "text": [
      "After removing the \"Year\" column there is only 1 column of data:\n"
     ]
    },
    {
     "data": {
      "text/html": [
       "<div>\n",
       "<style scoped>\n",
       "    .dataframe tbody tr th:only-of-type {\n",
       "        vertical-align: middle;\n",
       "    }\n",
       "\n",
       "    .dataframe tbody tr th {\n",
       "        vertical-align: top;\n",
       "    }\n",
       "\n",
       "    .dataframe thead th {\n",
       "        text-align: right;\n",
       "    }\n",
       "</style>\n",
       "<table border=\"1\" class=\"dataframe\">\n",
       "  <thead>\n",
       "    <tr style=\"text-align: right;\">\n",
       "      <th></th>\n",
       "      <th>Visits</th>\n",
       "    </tr>\n",
       "    <tr>\n",
       "      <th>DayOfWeek</th>\n",
       "      <th></th>\n",
       "    </tr>\n",
       "  </thead>\n",
       "  <tbody>\n",
       "    <tr>\n",
       "      <th>Friday</th>\n",
       "      <td>20.766667</td>\n",
       "    </tr>\n",
       "    <tr>\n",
       "      <th>Monday</th>\n",
       "      <td>25.322581</td>\n",
       "    </tr>\n",
       "    <tr>\n",
       "      <th>Saturday</th>\n",
       "      <td>15.266667</td>\n",
       "    </tr>\n",
       "    <tr>\n",
       "      <th>Sunday</th>\n",
       "      <td>17.633333</td>\n",
       "    </tr>\n",
       "    <tr>\n",
       "      <th>Thursday</th>\n",
       "      <td>23.709677</td>\n",
       "    </tr>\n",
       "    <tr>\n",
       "      <th>Tuesday</th>\n",
       "      <td>25.774194</td>\n",
       "    </tr>\n",
       "    <tr>\n",
       "      <th>Wednesday</th>\n",
       "      <td>26.741935</td>\n",
       "    </tr>\n",
       "  </tbody>\n",
       "</table>\n",
       "</div>"
      ],
      "text/plain": [
       "              Visits\n",
       "DayOfWeek           \n",
       "Friday     20.766667\n",
       "Monday     25.322581\n",
       "Saturday   15.266667\n",
       "Sunday     17.633333\n",
       "Thursday   23.709677\n",
       "Tuesday    25.774194\n",
       "Wednesday  26.741935"
      ]
     },
     "metadata": {},
     "output_type": "display_data"
    }
   ],
   "source": [
    "# Now we are ready to manipulate the data:\n",
    "average_visits_per_day = website.groupby('DayOfWeek').mean()  \n",
    "display(average_visits_per_day)\n",
    "\n",
    "# The 'Year' column is not needed, and will cause problems \n",
    "# with our visualization. Since it is \"2009\" for all rows, \n",
    "# it also provides little value.\n",
    "website = website.drop(columns='Year')\n",
    "average_visits_per_day = average_visits_per_day.drop(columns='Year')\n",
    "print('After removing the \"Year\" column there is only 1 column of data:')\n",
    "display(average_visits_per_day)"
   ]
  },
  {
   "cell_type": "markdown",
   "metadata": {},
   "source": [
    "### Step 6: communicate your message clearly\n",
    "\n",
    "A bar plot can be used to show these results graphically. Though, a table, as above, is perfectly valid, and actually meets the goals we set in step 1. We will come back to this point later."
   ]
  },
  {
   "cell_type": "code",
   "execution_count": 5,
   "metadata": {},
   "outputs": [
    {
     "data": {
      "image/png": "[encoded data removed]",
      "text/plain": [
       "<Figure size 1080x288 with 1 Axes>"
      ]
     },
     "metadata": {},
     "output_type": "display_data"
    }
   ],
   "source": [
    "# Plot the data in a horizontal bar (barh)\n",
    "average_visits_per_day.plot.barh(figsize=(15, 4));"
   ]
  },
  {
   "cell_type": "markdown",
   "metadata": {},
   "source": [
    "The results show better in a horizontal bar, with the ``barh`` command, than with vertical bars. Try using vertical bars, by modifying the above code and simply use ``bar``. Why is the ``barh`` command preferred?\n",
    "\n",
    "#### Final checks\n",
    "1. The most visits, *on average*, occur on a \\_\\_\\_\\_day.\n",
    "2. If the website should go offline for an entire day, the best day to pick would be a \\_\\_\\_\\_day.\n",
    "3. Is the bar plot strictly necessary in this case study when compared to the data table? *In other words*, what value does the bar plot provide, if any, that is not provided by the table?"
   ]
  },
  {
   "cell_type": "markdown",
   "metadata": {},
   "source": [
    "## Barplots\n",
    "\n",
    "![alt=\"Bar plot terminology\"](images/summarizing-data/barplot-example-expenses.png)\n",
    "\n",
    "* A bar plot should be used when there are many categories.\n",
    "* The category axis can be shown on the vertical axis. In this case we call it a horizontal bar chart (`barh`), since the bars are horizontal. It makes the chart labels more readable; but a \"regular\" bar plot with vertical bars (`bar`) and labels on the horizontal axis is also possible.\n",
    "* The text can sometimes be added *inside the bar* if there is restricted space.\n",
    "* An interesting characteristic of a bar plot is that **the *interpretation* of a bar plot does not differ if the category axis is reordered.** It can be easier to interpret the plot with a particular ordering; however, the interpretation won't be *different* if using a different ordering. The example below demonstrates this: the interpretation has not changed, but the visualization is far more effective.\n",
    "\n",
    "### Definition for a barplot\n",
    "\n",
    "It seems strange to end off with a definition of a bar plot. But perhaps it isn't: you see these types of plots everywhere, especially in the media. But it is hard to describe what they actually are. Here's one definition:\n",
    "\n",
    "> The bar plot is a univariate plot on a two-dimensional axis. The axes are not called x- or y-axes. Instead, one axis is called the ***category axis*** showing the category name, while the other, the ***value axis***, shows the value of each category as a bar.\n",
    "\n",
    "\n",
    "### Enrichment\n",
    "\n",
    "Bar plots are notorious for their use of excessive 'ink': using many pixels to show a small amount of 'data'. We should aim to maximize the data:ink ratio, which means high amount of data represented with as few pixels as possible. Bar plots do not do that. \n",
    "\n",
    "Read more [about barplots here](https://learnche.org/pid/data-visualization/bar-plots).\n",
    "\n"
   ]
  },
  {
   "cell_type": "markdown",
   "metadata": {},
   "source": [
    "### Ordering the bars in the barplot\n",
    "\n",
    "The categories used in a barplot can often be rearranged without 'breaking' the message.  We saw an example above.\n",
    "\n",
    "This happened because each bar is independent of the others. If you re-order them, the information shown -- from the height of the bars, on the value axis -- is still the same.\n",
    "\n",
    "This does not mean you should show the bar plot in a random order. By ordering the information you make the plot easier to read, and in an underhanded way you subtly alter how the user reads the message. You can use this power to your advantage to make the message clearer, but you can also use it to frustrate your reader. Rather do the former, and not the latter."
   ]
  },
  {
   "cell_type": "code",
   "execution_count": 7,
   "metadata": {},
   "outputs": [
    {
     "data": {
      "image/png": "[encoded data removed]",
      "text/plain": [
       "<Figure size 1080x288 with 2 Axes>"
      ]
     },
     "metadata": {},
     "output_type": "display_data"
    }
   ],
   "source": [
    "fig = pyplot.figure(figsize=(15, 4));\n",
    "pyplot.subplots_adjust(top=0.8, bottom=0.1, left=0.1, right=0.9, hspace=0.5, wspace=0.4);\n",
    "\n",
    "# Left plot: subplot(1,2,1) means: create 1 row, with 2 columns, and draw in the 1st box\n",
    "average_visits_per_day.plot.barh(ax=pyplot.subplot(1, 2, 1));\n",
    "\n",
    "# Right plot: subplot(1,2,2) means: create 1 row, with 2 columns, and draw in the 2nd box\n",
    "# Take the same grouped data from before, except sort it now:\n",
    "sorted_data = average_visits_per_day.sort_values('Visits', ascending=False)  \n",
    "sorted_data.plot.barh(ax=pyplot.subplot(1, 2, 2));\n",
    "\n",
    "pyplot.suptitle(('Showing a bar plot with no ordering (left) and '\n",
    "                 'with ordering (right).\\n The message is clearer; '\n",
    "                'and our objective is reached.'), fontsize=16);"
   ]
  },
  {
   "cell_type": "markdown",
   "metadata": {},
   "source": [
    "The plot on the right helps make our objective clearer. Recall, it was \"to find which day of the week is the most popular, and which is the least popular\" for our website. \n",
    "\n",
    "The plot on the left can answer those questions, but the plot on the right is far more effective, and easier to read."
   ]
  }
 ],
 "metadata": {
  "kernelspec": {
   "display_name": "Python [conda env:anaconda]",
   "language": "python",
   "name": "conda-env-anaconda-py"
  },
  "language_info": {
   "codemirror_mode": {
    "name": "ipython",
    "version": 3
   },
   "file_extension": ".py",
   "mimetype": "text/x-python",
   "name": "python",
   "nbconvert_exporter": "python",
   "pygments_lexer": "ipython3",
   "version": "3.5.5"
  },
  "toc": {
   "base_numbering": 1,
   "nav_menu": {},
   "number_sections": true,
   "sideBar": true,
   "skip_h1_title": true,
   "title_cell": "Table of Contents",
   "title_sidebar": "Contents",
   "toc_cell": true,
   "toc_position": {},
   "toc_section_display": true,
   "toc_window_display": false
  }
 },
 "nbformat": 4,
 "nbformat_minor": 2
}
