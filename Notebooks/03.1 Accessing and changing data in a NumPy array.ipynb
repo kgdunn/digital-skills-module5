{
 "cells": [
  {
   "cell_type": "markdown",
   "metadata": {},
   "source": [
    ">All content is released under Creative Commons Attribution [CC-BY 4.0](https://creativecommons.org/licenses/by/4.0/) and all source code is released under a [BSD-3 clause license](https://en.wikipedia.org/wiki/BSD_licenses). \n",
    ">\n",
    ">Please reuse, remix, revise, and reshare this content in any way, keeping this notice.\n",
    ">\n",
    "><img style=\"float: right;\" width=\"150px\" src=\"images/jupyter-logo.png\">**Are you viewing this on jupyter.org?** Then this notebook will be read-only. <br>\n",
    ">See how you can interactively run the code in this notebook by visiting our [instruction page about Notebooks](https://yint.org/notebooks). "
   ]
  },
  {
   "cell_type": "markdown",
   "metadata": {},
   "source": [
    "Indexing into an array; change an entry; replace a column\tnumpy, indexing, \t\n",
    "\n",
    "See this: http://cs231n.github.io/python-numpy-tutorial/#numpy and \n",
    "\n",
    "http://nbviewer.jupyter.org/github/engineersCode/EngComp1_offtheground/blob/master/notebooks_en/4_NumPy_Arrays_and_Plotting.ipynb\n",
    "\n",
    "\n",
    "How do you change a single value in an array (perhaps to change a wrong value), or replace an entire column or row. What if you want a single column from a matrix. Here we show how you can access and change your data.\n"
   ]
  },
  {
   "cell_type": "code",
   "execution_count": 4,
   "metadata": {
    "collapsed": false
   },
   "outputs": [
    {
     "data": {
      "text/plain": [
       "(array([[1., 1., 1., 1., 1., 1.],\n",
       "        [1., 0., 0., 0., 0., 1.],\n",
       "        [1., 0., 0., 0., 0., 1.],\n",
       "        [1., 1., 1., 1., 1., 1.]]), array([[0., 0., 0., 0., 0., 0.],\n",
       "        [0., 1., 1., 1., 1., 0.],\n",
       "        [0., 1., 1., 1., 1., 0.],\n",
       "        [0., 0., 0., 0., 0., 0.]]), array([[1., 0., 0., 0., 0., 1.],\n",
       "        [0., 0., 0., 0., 0., 0.],\n",
       "        [0., 0., 0., 0., 0., 0.],\n",
       "        [1., 0., 0., 0., 0., 1.]]))"
      ]
     },
     "execution_count": 4,
     "metadata": {},
     "output_type": "execute_result"
    }
   ],
   "source": [
    "import numpy as np\n",
    "nrow = 4\n",
    "ncol = 6\n",
    "\n",
    "edges = np.zeros((nrow, ncol)) \n",
    "edges[:, 0] = 1\n",
    "edges[:, ncol-1] = 1\n",
    "edges[0, :] = 1\n",
    "edges[nrow-1, :] = 1\n",
    "centers = 1 - edges\n",
    "corners = np.zeros((nrow, ncol))\n",
    "corners[0, 0] = 1\n",
    "corners[0, ncol-1] = 1\n",
    "corners[nrow-1, 0] = 1\n",
    "corners[nrow-1, ncol-1] = 1\n",
    "edges, centers, corners"
   ]
  }
 ],
 "metadata": {
  "kernelspec": {
   "display_name": "Python 3",
   "language": "python",
   "name": "python3"
  },
  "language_info": {
   "codemirror_mode": {
    "name": "ipython",
    "version": 3
   },
   "file_extension": ".py",
   "mimetype": "text/x-python",
   "name": "python",
   "nbconvert_exporter": "python",
   "pygments_lexer": "ipython3",
   "version": "3.4.3"
  }
 },
 "nbformat": 4,
 "nbformat_minor": 2
}
