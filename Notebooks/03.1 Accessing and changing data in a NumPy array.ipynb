{
 "cells": [
  {
   "cell_type": "markdown",
   "metadata": {},
   "source": [
    "Indexing into an array; change an entry; replace a column\tnumpy, indexing, \t\n",
    "\n",
    "See this: http://cs231n.github.io/python-numpy-tutorial/#numpy and \n",
    "\n",
    "http://nbviewer.jupyter.org/github/engineersCode/EngComp1_offtheground/blob/master/notebooks_en/4_NumPy_Arrays_and_Plotting.ipynb\n",
    "\n",
    "\n",
    "How do you change a single value in an array (perhaps to change a wrong value), or replace an entire column or row. What if you want a single column from a matrix. Here we show how you can access and change your data.\n"
   ]
  }
 ],
 "metadata": {
  "kernelspec": {
   "display_name": "Python [conda env:anaconda]",
   "language": "python",
   "name": "conda-env-anaconda-py"
  },
  "language_info": {
   "codemirror_mode": {
    "name": "ipython",
    "version": 3
   },
   "file_extension": ".py",
   "mimetype": "text/x-python",
   "name": "python",
   "nbconvert_exporter": "python",
   "pygments_lexer": "ipython3",
   "version": "3.5.5"
  }
 },
 "nbformat": 4,
 "nbformat_minor": 2
}
