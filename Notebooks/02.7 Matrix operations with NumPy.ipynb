{
 "cells": [
  {
   "cell_type": "markdown",
   "metadata": {},
   "source": [
    "All content is under Creative Commons Attribution CC-BY 4.0 and all source code is under BSD-3 clause. \n",
    "\n",
    "Please reuse, remix, revise, and reshare this content in any way, keeping this notice! \n",
    "\n",
    "**Viewing this on jupyter.org?** This is then read-only. To learn how to more effectively interact with this notebook, visit our [instruction page about Notebooks](https://yint.org/notebooks)."
   ]
  },
  {
   "cell_type": "markdown",
   "metadata": {},
   "source": [
    "Use: `np.dot(...)` and the newer `@` operator"
   ]
  },
  {
   "cell_type": "code",
   "execution_count": null,
   "metadata": {},
   "outputs": [],
   "source": []
  }
 ],
 "metadata": {
  "kernelspec": {
   "display_name": "Python [conda env:anaconda]",
   "language": "python",
   "name": "conda-env-anaconda-py"
  },
  "language_info": {
   "codemirror_mode": {
    "name": "ipython",
    "version": 3
   },
   "file_extension": ".py",
   "mimetype": "text/x-python",
   "name": "python",
   "nbconvert_exporter": "python",
   "pygments_lexer": "ipython3",
   "version": "3.5.5"
  }
 },
 "nbformat": 4,
 "nbformat_minor": 2
}
