{
 "cells": [
  {
   "cell_type": "markdown",
   "metadata": {},
   "source": [
    "See diagram at http://r4ds.had.co.nz/explore-intro.html\n",
    "    \n",
    "See website on DS taxonomy : http://www.dataists.com/2010/09/a-taxonomy-of-data-science/\n",
    "    \n",
    "    "
   ]
  }
 ],
 "metadata": {
  "kernelspec": {
   "display_name": "Python [conda env:anaconda]",
   "language": "python",
   "name": "conda-env-anaconda-py"
  },
  "language_info": {
   "codemirror_mode": {
    "name": "ipython",
    "version": 3
   },
   "file_extension": ".py",
   "mimetype": "text/x-python",
   "name": "python",
   "nbconvert_exporter": "python",
   "pygments_lexer": "ipython3",
   "version": "3.5.5"
  }
 },
 "nbformat": 4,
 "nbformat_minor": 2
}
