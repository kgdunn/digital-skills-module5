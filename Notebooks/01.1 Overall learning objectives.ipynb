{
 "cells": [
  {
   "cell_type": "markdown",
   "metadata": {},
   "source": [
    "### By the end of this module, students will be able to:\n",
    "\n",
    "* Realise that data science has 5 typical application domains, also called 'goals'.\n",
    "* Build a pipeline (workflow) to solve data science projects and tasks, always starting with a clear objective(s).\n",
    "* Carry out a data science project by breaking down the data into information (knowledge) and error (unknown structure, noise, randomness).\n",
    "* Interpreting our data science code, models and outputs so we can  take actions that are aligned with the project's objective(s)."
   ]
  },
  {
   "cell_type": "markdown",
   "metadata": {},
   "source": [
    "### Topics to cover\n",
    "\n",
    "\n",
    "* What can we do with data?\n",
    "* ectors and Matrices in Python\n",
    "* Summarizing data\n",
    "* Visualizing data\n",
    "* Outlier detection and data cleaning\n",
    "* Basic statistical concepts\n",
    "* Regression\n",
    "* Pipelines for Data Science\n",
    "* Reproducibility and Reproducible Research (an introduction)\n"
   ]
  }
 ],
 "metadata": {
  "kernelspec": {
   "display_name": "Python [conda env:anaconda]",
   "language": "python",
   "name": "conda-env-anaconda-py"
  },
  "language_info": {
   "codemirror_mode": {
    "name": "ipython",
    "version": 3
   },
   "file_extension": ".py",
   "mimetype": "text/x-python",
   "name": "python",
   "nbconvert_exporter": "python",
   "pygments_lexer": "ipython3",
   "version": "3.5.5"
  }
 },
 "nbformat": 4,
 "nbformat_minor": 2
}
